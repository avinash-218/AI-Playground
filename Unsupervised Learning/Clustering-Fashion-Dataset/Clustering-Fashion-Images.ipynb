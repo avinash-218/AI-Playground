{
 "cells": [
  {
   "cell_type": "markdown",
   "id": "282860ac",
   "metadata": {
    "papermill": {
     "duration": 0.012297,
     "end_time": "2022-06-11T11:37:32.566131",
     "exception": false,
     "start_time": "2022-06-11T11:37:32.553834",
     "status": "completed"
    },
    "tags": []
   },
   "source": [
    "# Import Libraries"
   ]
  },
  {
   "cell_type": "code",
   "execution_count": 1,
   "id": "826af2ed",
   "metadata": {
    "execution": {
     "iopub.execute_input": "2022-06-11T11:37:32.583214Z",
     "iopub.status.busy": "2022-06-11T11:37:32.582562Z",
     "iopub.status.idle": "2022-06-11T11:37:39.835385Z",
     "shell.execute_reply": "2022-06-11T11:37:39.834601Z"
    },
    "papermill": {
     "duration": 7.264281,
     "end_time": "2022-06-11T11:37:39.837897",
     "exception": false,
     "start_time": "2022-06-11T11:37:32.573616",
     "status": "completed"
    },
    "tags": []
   },
   "outputs": [],
   "source": [
    "# for loading/processing the images  \n",
    "from keras.preprocessing.image import img_to_array, load_img \n",
    "from keras.applications.vgg16 import preprocess_input #preprocessing function for VGG16 compatibility\n",
    "\n",
    "# models \n",
    "from keras.applications.vgg16 import VGG16 \n",
    "from keras.models import Model\n",
    "\n",
    "# clustering and dimension reduction\n",
    "from sklearn.cluster import KMeans\n",
    "from sklearn.decomposition import PCA\n",
    "\n",
    "import os\n",
    "import numpy as np\n",
    "import matplotlib.pyplot as plt\n",
    "from random import randint\n",
    "import pandas as pd\n",
    "import pickle\n",
    "import shutil\n",
    "from IPython.display import FileLink"
   ]
  },
  {
   "cell_type": "markdown",
   "id": "ef300d70",
   "metadata": {
    "papermill": {
     "duration": 0.007135,
     "end_time": "2022-06-11T11:37:39.852310",
     "exception": false,
     "start_time": "2022-06-11T11:37:39.845175",
     "status": "completed"
    },
    "tags": []
   },
   "source": [
    "# Extract Images Names"
   ]
  },
  {
   "cell_type": "code",
   "execution_count": 2,
   "id": "512bc529",
   "metadata": {
    "execution": {
     "iopub.execute_input": "2022-06-11T11:37:39.868926Z",
     "iopub.status.busy": "2022-06-11T11:37:39.868006Z",
     "iopub.status.idle": "2022-06-11T11:37:40.578549Z",
     "shell.execute_reply": "2022-06-11T11:37:40.577625Z"
    },
    "papermill": {
     "duration": 0.721331,
     "end_time": "2022-06-11T11:37:40.580948",
     "exception": false,
     "start_time": "2022-06-11T11:37:39.859617",
     "status": "completed"
    },
    "tags": []
   },
   "outputs": [],
   "source": [
    "files_path = '../input/fashion-product-images-dataset/fashion-dataset/images/'\n",
    "file_names = os.listdir(files_path)\n",
    "for i in range(len(file_names)):\n",
    "    file_names[i] = files_path+file_names[i]\n",
    "#file_names"
   ]
  },
  {
   "cell_type": "markdown",
   "id": "593add2e",
   "metadata": {
    "papermill": {
     "duration": 0.007063,
     "end_time": "2022-06-11T11:37:40.595239",
     "exception": false,
     "start_time": "2022-06-11T11:37:40.588176",
     "status": "completed"
    },
    "tags": []
   },
   "source": [
    "# Transfer Learning (VGG16)\n",
    "\n",
    "New final layer is a fully-connected layer with 4,096 output nodes. This vector of 4,096 numbers is the feature vector. Now that the final layer is removed, we can pass our image through the predict method to get our feature vector."
   ]
  },
  {
   "cell_type": "code",
   "execution_count": 3,
   "id": "698a170d",
   "metadata": {
    "execution": {
     "iopub.execute_input": "2022-06-11T11:37:40.611467Z",
     "iopub.status.busy": "2022-06-11T11:37:40.611052Z",
     "iopub.status.idle": "2022-06-11T11:37:45.469424Z",
     "shell.execute_reply": "2022-06-11T11:37:45.468317Z"
    },
    "papermill": {
     "duration": 4.869228,
     "end_time": "2022-06-11T11:37:45.471818",
     "exception": false,
     "start_time": "2022-06-11T11:37:40.602590",
     "status": "completed"
    },
    "tags": []
   },
   "outputs": [
    {
     "name": "stderr",
     "output_type": "stream",
     "text": [
      "2022-06-11 11:37:40.688548: I tensorflow/core/common_runtime/process_util.cc:146] Creating new thread pool with default inter op setting: 2. Tune using inter_op_parallelism_threads for best performance.\n"
     ]
    },
    {
     "name": "stdout",
     "output_type": "stream",
     "text": [
      "Downloading data from https://storage.googleapis.com/tensorflow/keras-applications/vgg16/vgg16_weights_tf_dim_ordering_tf_kernels.h5\n",
      "553467904/553467096 [==============================] - 3s 0us/step\n",
      "553476096/553467096 [==============================] - 3s 0us/step\n"
     ]
    }
   ],
   "source": [
    "#input is VGG16 model input\n",
    "#output is output from last but two layer's output\n",
    "model = VGG16()\n",
    "model = Model(inputs=model.inputs, outputs=model.layers[-2].output)"
   ]
  },
  {
   "cell_type": "markdown",
   "id": "42c3e9ea",
   "metadata": {
    "papermill": {
     "duration": 0.011215,
     "end_time": "2022-06-11T11:37:45.495193",
     "exception": false,
     "start_time": "2022-06-11T11:37:45.483978",
     "status": "completed"
    },
    "tags": []
   },
   "source": [
    "# Preprocess and Extract Features\n",
    "\n",
    "- VGG model expects the images to be preprocessed as per the function preprocess_input()\n",
    "- preprocess_input() receives inputs as 224x224 NumPy arrays in the format (num_of_samples, rows, columns, channels)."
   ]
  },
  {
   "cell_type": "code",
   "execution_count": 4,
   "id": "611a4c46",
   "metadata": {
    "execution": {
     "iopub.execute_input": "2022-06-11T11:37:45.519955Z",
     "iopub.status.busy": "2022-06-11T11:37:45.519477Z",
     "iopub.status.idle": "2022-06-11T11:37:45.525895Z",
     "shell.execute_reply": "2022-06-11T11:37:45.525105Z"
    },
    "papermill": {
     "duration": 0.020974,
     "end_time": "2022-06-11T11:37:45.527712",
     "exception": false,
     "start_time": "2022-06-11T11:37:45.506738",
     "status": "completed"
    },
    "tags": []
   },
   "outputs": [],
   "source": [
    "def preprocess_extract_features(file):\n",
    "    img = load_img(file, target_size=(224,224))#load image and resize into 224x224 (for VGG16 preprocess compatibility)\n",
    "    img = np.array(img)\n",
    "    #print(img.shape) #(rows,columns,channels)\n",
    "\n",
    "    reshaped_img = img.reshape(1,224,224,3)\n",
    "    #print(reshaped_img.shape) #(num_of_samples, rows, columns, channels)\n",
    "\n",
    "    img = preprocess_input(reshaped_img)#preprocess images for VGG16 model\n",
    "    \n",
    "    features = model.predict(img) #predict (since last two layers are dropped, gives feature-maps / features)\n",
    "    \n",
    "    return features"
   ]
  },
  {
   "cell_type": "markdown",
   "id": "430b73d9",
   "metadata": {
    "papermill": {
     "duration": 0.0112,
     "end_time": "2022-06-11T11:37:45.551107",
     "exception": false,
     "start_time": "2022-06-11T11:37:45.539907",
     "status": "completed"
    },
    "tags": []
   },
   "source": [
    "Create dictionary with file name as key and feature as values"
   ]
  },
  {
   "cell_type": "code",
   "execution_count": 5,
   "id": "2b5ea391",
   "metadata": {
    "execution": {
     "iopub.execute_input": "2022-06-11T11:37:45.575818Z",
     "iopub.status.busy": "2022-06-11T11:37:45.575415Z",
     "iopub.status.idle": "2022-06-11T16:37:23.712383Z",
     "shell.execute_reply": "2022-06-11T16:37:23.709458Z"
    },
    "papermill": {
     "duration": 17978.16292,
     "end_time": "2022-06-11T16:37:23.725519",
     "exception": false,
     "start_time": "2022-06-11T11:37:45.562599",
     "status": "completed"
    },
    "tags": []
   },
   "outputs": [
    {
     "name": "stderr",
     "output_type": "stream",
     "text": [
      "2022-06-11 11:37:45.699163: I tensorflow/compiler/mlir/mlir_graph_optimization_pass.cc:185] None of the MLIR Optimization Passes are enabled (registered 2)\n"
     ]
    }
   ],
   "source": [
    "features_dict = dict()\n",
    "\n",
    "for i in file_names:\n",
    "    file = i.split('/')[-1].split('.')[0]\n",
    "    \n",
    "    features_dict[file] = preprocess_extract_features(i)"
   ]
  },
  {
   "cell_type": "code",
   "execution_count": 6,
   "id": "49d13d8d",
   "metadata": {
    "execution": {
     "iopub.execute_input": "2022-06-11T16:37:23.764529Z",
     "iopub.status.busy": "2022-06-11T16:37:23.763786Z",
     "iopub.status.idle": "2022-06-11T16:37:30.069254Z",
     "shell.execute_reply": "2022-06-11T16:37:30.068406Z"
    },
    "papermill": {
     "duration": 6.32393,
     "end_time": "2022-06-11T16:37:30.071930",
     "exception": false,
     "start_time": "2022-06-11T16:37:23.748000",
     "status": "completed"
    },
    "tags": []
   },
   "outputs": [],
   "source": [
    "#save the dictionary of features as pickle\n",
    "with open('features.pkl','wb') as file:\n",
    "    pickle.dump(features_dict, file)"
   ]
  },
  {
   "cell_type": "markdown",
   "id": "a9c65cc5",
   "metadata": {
    "papermill": {
     "duration": 0.011472,
     "end_time": "2022-06-11T16:37:30.095416",
     "exception": false,
     "start_time": "2022-06-11T16:37:30.083944",
     "status": "completed"
    },
    "tags": []
   },
   "source": [
    "# Read Features"
   ]
  },
  {
   "cell_type": "code",
   "execution_count": 7,
   "id": "67fcd6db",
   "metadata": {
    "execution": {
     "iopub.execute_input": "2022-06-11T16:37:30.121174Z",
     "iopub.status.busy": "2022-06-11T16:37:30.120378Z",
     "iopub.status.idle": "2022-06-11T16:37:36.495481Z",
     "shell.execute_reply": "2022-06-11T16:37:36.494419Z"
    },
    "papermill": {
     "duration": 6.391065,
     "end_time": "2022-06-11T16:37:36.498256",
     "exception": false,
     "start_time": "2022-06-11T16:37:30.107191",
     "status": "completed"
    },
    "tags": []
   },
   "outputs": [],
   "source": [
    "#load saved feature dictionary\n",
    "with open('../input/fashion-features/features_large.pkl','rb') as f:\n",
    "    data = pickle.load(f)"
   ]
  },
  {
   "cell_type": "code",
   "execution_count": 8,
   "id": "202d28bf",
   "metadata": {
    "execution": {
     "iopub.execute_input": "2022-06-11T16:37:36.524917Z",
     "iopub.status.busy": "2022-06-11T16:37:36.523813Z",
     "iopub.status.idle": "2022-06-11T16:37:37.056229Z",
     "shell.execute_reply": "2022-06-11T16:37:37.055272Z"
    },
    "papermill": {
     "duration": 0.550707,
     "end_time": "2022-06-11T16:37:37.060805",
     "exception": false,
     "start_time": "2022-06-11T16:37:36.510098",
     "status": "completed"
    },
    "tags": []
   },
   "outputs": [
    {
     "data": {
      "text/plain": [
       "(44441, 4096)"
      ]
     },
     "execution_count": 8,
     "metadata": {},
     "output_type": "execute_result"
    }
   ],
   "source": [
    "#extract filename and features from the dictionary\n",
    "filenames = np.array(list(data.keys()))\n",
    "features = np.array(list(data.values())).reshape(-1,4096)\n",
    "features.shape"
   ]
  },
  {
   "cell_type": "markdown",
   "id": "e14e703b",
   "metadata": {
    "papermill": {
     "duration": 0.01233,
     "end_time": "2022-06-11T16:37:37.085157",
     "exception": false,
     "start_time": "2022-06-11T16:37:37.072827",
     "status": "completed"
    },
    "tags": []
   },
   "source": [
    "# Read CSV\n",
    "Read fashion csv data"
   ]
  },
  {
   "cell_type": "code",
   "execution_count": 9,
   "id": "2ddc0d8b",
   "metadata": {
    "execution": {
     "iopub.execute_input": "2022-06-11T16:37:37.112590Z",
     "iopub.status.busy": "2022-06-11T16:37:37.111638Z",
     "iopub.status.idle": "2022-06-11T16:37:37.348067Z",
     "shell.execute_reply": "2022-06-11T16:37:37.347112Z"
    },
    "papermill": {
     "duration": 0.253106,
     "end_time": "2022-06-11T16:37:37.350934",
     "exception": false,
     "start_time": "2022-06-11T16:37:37.097828",
     "status": "completed"
    },
    "tags": []
   },
   "outputs": [
    {
     "data": {
      "text/html": [
       "<div>\n",
       "<style scoped>\n",
       "    .dataframe tbody tr th:only-of-type {\n",
       "        vertical-align: middle;\n",
       "    }\n",
       "\n",
       "    .dataframe tbody tr th {\n",
       "        vertical-align: top;\n",
       "    }\n",
       "\n",
       "    .dataframe thead th {\n",
       "        text-align: right;\n",
       "    }\n",
       "</style>\n",
       "<table border=\"1\" class=\"dataframe\">\n",
       "  <thead>\n",
       "    <tr style=\"text-align: right;\">\n",
       "      <th></th>\n",
       "      <th>id</th>\n",
       "      <th>gender</th>\n",
       "      <th>masterCategory</th>\n",
       "      <th>subCategory</th>\n",
       "      <th>articleType</th>\n",
       "      <th>baseColour</th>\n",
       "      <th>season</th>\n",
       "      <th>year</th>\n",
       "      <th>usage</th>\n",
       "      <th>productDisplayName</th>\n",
       "    </tr>\n",
       "  </thead>\n",
       "  <tbody>\n",
       "    <tr>\n",
       "      <th>0</th>\n",
       "      <td>15970</td>\n",
       "      <td>Men</td>\n",
       "      <td>Apparel</td>\n",
       "      <td>Topwear</td>\n",
       "      <td>Shirts</td>\n",
       "      <td>Navy Blue</td>\n",
       "      <td>Fall</td>\n",
       "      <td>2011.0</td>\n",
       "      <td>Casual</td>\n",
       "      <td>Turtle Check Men Navy Blue Shirt</td>\n",
       "    </tr>\n",
       "    <tr>\n",
       "      <th>1</th>\n",
       "      <td>39386</td>\n",
       "      <td>Men</td>\n",
       "      <td>Apparel</td>\n",
       "      <td>Bottomwear</td>\n",
       "      <td>Jeans</td>\n",
       "      <td>Blue</td>\n",
       "      <td>Summer</td>\n",
       "      <td>2012.0</td>\n",
       "      <td>Casual</td>\n",
       "      <td>Peter England Men Party Blue Jeans</td>\n",
       "    </tr>\n",
       "    <tr>\n",
       "      <th>2</th>\n",
       "      <td>59263</td>\n",
       "      <td>Women</td>\n",
       "      <td>Accessories</td>\n",
       "      <td>Watches</td>\n",
       "      <td>Watches</td>\n",
       "      <td>Silver</td>\n",
       "      <td>Winter</td>\n",
       "      <td>2016.0</td>\n",
       "      <td>Casual</td>\n",
       "      <td>Titan Women Silver Watch</td>\n",
       "    </tr>\n",
       "    <tr>\n",
       "      <th>3</th>\n",
       "      <td>21379</td>\n",
       "      <td>Men</td>\n",
       "      <td>Apparel</td>\n",
       "      <td>Bottomwear</td>\n",
       "      <td>Track Pants</td>\n",
       "      <td>Black</td>\n",
       "      <td>Fall</td>\n",
       "      <td>2011.0</td>\n",
       "      <td>Casual</td>\n",
       "      <td>Manchester United Men Solid Black Track Pants</td>\n",
       "    </tr>\n",
       "    <tr>\n",
       "      <th>4</th>\n",
       "      <td>53759</td>\n",
       "      <td>Men</td>\n",
       "      <td>Apparel</td>\n",
       "      <td>Topwear</td>\n",
       "      <td>Tshirts</td>\n",
       "      <td>Grey</td>\n",
       "      <td>Summer</td>\n",
       "      <td>2012.0</td>\n",
       "      <td>Casual</td>\n",
       "      <td>Puma Men Grey T-shirt</td>\n",
       "    </tr>\n",
       "    <tr>\n",
       "      <th>...</th>\n",
       "      <td>...</td>\n",
       "      <td>...</td>\n",
       "      <td>...</td>\n",
       "      <td>...</td>\n",
       "      <td>...</td>\n",
       "      <td>...</td>\n",
       "      <td>...</td>\n",
       "      <td>...</td>\n",
       "      <td>...</td>\n",
       "      <td>...</td>\n",
       "    </tr>\n",
       "    <tr>\n",
       "      <th>44419</th>\n",
       "      <td>17036</td>\n",
       "      <td>Men</td>\n",
       "      <td>Footwear</td>\n",
       "      <td>Shoes</td>\n",
       "      <td>Casual Shoes</td>\n",
       "      <td>White</td>\n",
       "      <td>Summer</td>\n",
       "      <td>2013.0</td>\n",
       "      <td>Casual</td>\n",
       "      <td>Gas Men Caddy Casual Shoe</td>\n",
       "    </tr>\n",
       "    <tr>\n",
       "      <th>44420</th>\n",
       "      <td>6461</td>\n",
       "      <td>Men</td>\n",
       "      <td>Footwear</td>\n",
       "      <td>Flip Flops</td>\n",
       "      <td>Flip Flops</td>\n",
       "      <td>Red</td>\n",
       "      <td>Summer</td>\n",
       "      <td>2011.0</td>\n",
       "      <td>Casual</td>\n",
       "      <td>Lotto Men's Soccer Track Flip Flop</td>\n",
       "    </tr>\n",
       "    <tr>\n",
       "      <th>44421</th>\n",
       "      <td>18842</td>\n",
       "      <td>Men</td>\n",
       "      <td>Apparel</td>\n",
       "      <td>Topwear</td>\n",
       "      <td>Tshirts</td>\n",
       "      <td>Blue</td>\n",
       "      <td>Fall</td>\n",
       "      <td>2011.0</td>\n",
       "      <td>Casual</td>\n",
       "      <td>Puma Men Graphic Stellar Blue Tshirt</td>\n",
       "    </tr>\n",
       "    <tr>\n",
       "      <th>44422</th>\n",
       "      <td>46694</td>\n",
       "      <td>Women</td>\n",
       "      <td>Personal Care</td>\n",
       "      <td>Fragrance</td>\n",
       "      <td>Perfume and Body Mist</td>\n",
       "      <td>Blue</td>\n",
       "      <td>Spring</td>\n",
       "      <td>2017.0</td>\n",
       "      <td>Casual</td>\n",
       "      <td>Rasasi Women Blue Lady Perfume</td>\n",
       "    </tr>\n",
       "    <tr>\n",
       "      <th>44423</th>\n",
       "      <td>51623</td>\n",
       "      <td>Women</td>\n",
       "      <td>Accessories</td>\n",
       "      <td>Watches</td>\n",
       "      <td>Watches</td>\n",
       "      <td>Pink</td>\n",
       "      <td>Winter</td>\n",
       "      <td>2016.0</td>\n",
       "      <td>Casual</td>\n",
       "      <td>Fossil Women Pink Dial Chronograph Watch ES3050</td>\n",
       "    </tr>\n",
       "  </tbody>\n",
       "</table>\n",
       "<p>44424 rows × 10 columns</p>\n",
       "</div>"
      ],
      "text/plain": [
       "          id gender masterCategory subCategory            articleType  \\\n",
       "0      15970    Men        Apparel     Topwear                 Shirts   \n",
       "1      39386    Men        Apparel  Bottomwear                  Jeans   \n",
       "2      59263  Women    Accessories     Watches                Watches   \n",
       "3      21379    Men        Apparel  Bottomwear            Track Pants   \n",
       "4      53759    Men        Apparel     Topwear                Tshirts   \n",
       "...      ...    ...            ...         ...                    ...   \n",
       "44419  17036    Men       Footwear       Shoes           Casual Shoes   \n",
       "44420   6461    Men       Footwear  Flip Flops             Flip Flops   \n",
       "44421  18842    Men        Apparel     Topwear                Tshirts   \n",
       "44422  46694  Women  Personal Care   Fragrance  Perfume and Body Mist   \n",
       "44423  51623  Women    Accessories     Watches                Watches   \n",
       "\n",
       "      baseColour  season    year   usage  \\\n",
       "0      Navy Blue    Fall  2011.0  Casual   \n",
       "1           Blue  Summer  2012.0  Casual   \n",
       "2         Silver  Winter  2016.0  Casual   \n",
       "3          Black    Fall  2011.0  Casual   \n",
       "4           Grey  Summer  2012.0  Casual   \n",
       "...          ...     ...     ...     ...   \n",
       "44419      White  Summer  2013.0  Casual   \n",
       "44420        Red  Summer  2011.0  Casual   \n",
       "44421       Blue    Fall  2011.0  Casual   \n",
       "44422       Blue  Spring  2017.0  Casual   \n",
       "44423       Pink  Winter  2016.0  Casual   \n",
       "\n",
       "                                    productDisplayName  \n",
       "0                     Turtle Check Men Navy Blue Shirt  \n",
       "1                   Peter England Men Party Blue Jeans  \n",
       "2                             Titan Women Silver Watch  \n",
       "3        Manchester United Men Solid Black Track Pants  \n",
       "4                                Puma Men Grey T-shirt  \n",
       "...                                                ...  \n",
       "44419                        Gas Men Caddy Casual Shoe  \n",
       "44420               Lotto Men's Soccer Track Flip Flop  \n",
       "44421             Puma Men Graphic Stellar Blue Tshirt  \n",
       "44422                   Rasasi Women Blue Lady Perfume  \n",
       "44423  Fossil Women Pink Dial Chronograph Watch ES3050  \n",
       "\n",
       "[44424 rows x 10 columns]"
      ]
     },
     "execution_count": 9,
     "metadata": {},
     "output_type": "execute_result"
    }
   ],
   "source": [
    "df = pd.read_csv('../input/fashion-product-images-dataset/fashion-dataset/styles.csv', on_bad_lines='skip')\n",
    "df"
   ]
  },
  {
   "cell_type": "code",
   "execution_count": 10,
   "id": "3e3bd260",
   "metadata": {
    "execution": {
     "iopub.execute_input": "2022-06-11T16:37:37.379238Z",
     "iopub.status.busy": "2022-06-11T16:37:37.378071Z",
     "iopub.status.idle": "2022-06-11T16:37:37.408392Z",
     "shell.execute_reply": "2022-06-11T16:37:37.407307Z"
    },
    "papermill": {
     "duration": 0.046727,
     "end_time": "2022-06-11T16:37:37.410678",
     "exception": false,
     "start_time": "2022-06-11T16:37:37.363951",
     "status": "completed"
    },
    "tags": []
   },
   "outputs": [
    {
     "data": {
      "text/plain": [
       "masterCategory      7\n",
       "subCategory        45\n",
       "articleType       143\n",
       "dtype: int64"
      ]
     },
     "execution_count": 10,
     "metadata": {},
     "output_type": "execute_result"
    }
   ],
   "source": [
    "df[['masterCategory', 'subCategory', 'articleType']].nunique() #categories in dataset"
   ]
  },
  {
   "cell_type": "code",
   "execution_count": 11,
   "id": "905e090e",
   "metadata": {
    "execution": {
     "iopub.execute_input": "2022-06-11T16:37:37.437553Z",
     "iopub.status.busy": "2022-06-11T16:37:37.437158Z",
     "iopub.status.idle": "2022-06-11T16:37:37.445812Z",
     "shell.execute_reply": "2022-06-11T16:37:37.444832Z"
    },
    "papermill": {
     "duration": 0.025358,
     "end_time": "2022-06-11T16:37:37.448836",
     "exception": false,
     "start_time": "2022-06-11T16:37:37.423478",
     "status": "completed"
    },
    "tags": []
   },
   "outputs": [
    {
     "name": "stdout",
     "output_type": "stream",
     "text": [
      "45\n"
     ]
    }
   ],
   "source": [
    "label = df['subCategory'].tolist() # cluster based on subcategory (45 subcategories)\n",
    "unique_labels = list(set(label))\n",
    "print(len(unique_labels))\n",
    "#unique_labels"
   ]
  },
  {
   "cell_type": "markdown",
   "id": "4ff4deeb",
   "metadata": {
    "papermill": {
     "duration": 0.013076,
     "end_time": "2022-06-11T16:37:37.474511",
     "exception": false,
     "start_time": "2022-06-11T16:37:37.461435",
     "status": "completed"
    },
    "tags": []
   },
   "source": [
    "# PCA\n",
    "Reduce Dimensionality using PCA (4096->1000)"
   ]
  },
  {
   "cell_type": "code",
   "execution_count": 12,
   "id": "185ee841",
   "metadata": {
    "execution": {
     "iopub.execute_input": "2022-06-11T16:37:37.501597Z",
     "iopub.status.busy": "2022-06-11T16:37:37.501169Z",
     "iopub.status.idle": "2022-06-11T16:38:22.246153Z",
     "shell.execute_reply": "2022-06-11T16:38:22.245082Z"
    },
    "papermill": {
     "duration": 44.785309,
     "end_time": "2022-06-11T16:38:22.272496",
     "exception": false,
     "start_time": "2022-06-11T16:37:37.487187",
     "status": "completed"
    },
    "tags": []
   },
   "outputs": [
    {
     "data": {
      "text/plain": [
       "(44441, 1000)"
      ]
     },
     "execution_count": 12,
     "metadata": {},
     "output_type": "execute_result"
    }
   ],
   "source": [
    "pca = PCA(n_components=1000, random_state=22)#reduce to 1000 dimensions\n",
    "pca.fit(features) #fit\n",
    "x = pca.transform(features) #transform\n",
    "x.shape"
   ]
  },
  {
   "cell_type": "code",
   "execution_count": 13,
   "id": "3a252c19",
   "metadata": {
    "execution": {
     "iopub.execute_input": "2022-06-11T16:38:22.321562Z",
     "iopub.status.busy": "2022-06-11T16:38:22.320867Z",
     "iopub.status.idle": "2022-06-11T16:41:13.860829Z",
     "shell.execute_reply": "2022-06-11T16:41:13.860005Z"
    },
    "papermill": {
     "duration": 171.591128,
     "end_time": "2022-06-11T16:41:13.886750",
     "exception": false,
     "start_time": "2022-06-11T16:38:22.295622",
     "status": "completed"
    },
    "tags": []
   },
   "outputs": [
    {
     "data": {
      "text/plain": [
       "KMeans(n_clusters=45, random_state=22)"
      ]
     },
     "execution_count": 13,
     "metadata": {},
     "output_type": "execute_result"
    }
   ],
   "source": [
    "kmeans = KMeans(n_clusters=len(unique_labels), random_state=22) #cluster image data into 45 groups\n",
    "kmeans.fit(x)"
   ]
  },
  {
   "cell_type": "code",
   "execution_count": 14,
   "id": "8956115f",
   "metadata": {
    "execution": {
     "iopub.execute_input": "2022-06-11T16:41:13.920035Z",
     "iopub.status.busy": "2022-06-11T16:41:13.919649Z",
     "iopub.status.idle": "2022-06-11T16:41:13.925903Z",
     "shell.execute_reply": "2022-06-11T16:41:13.925236Z"
    },
    "papermill": {
     "duration": 0.022233,
     "end_time": "2022-06-11T16:41:13.927782",
     "exception": false,
     "start_time": "2022-06-11T16:41:13.905549",
     "status": "completed"
    },
    "tags": []
   },
   "outputs": [
    {
     "data": {
      "text/plain": [
       "(44441, 44441)"
      ]
     },
     "execution_count": 14,
     "metadata": {},
     "output_type": "execute_result"
    }
   ],
   "source": [
    "len(kmeans.labels_), len(filenames)"
   ]
  },
  {
   "cell_type": "code",
   "execution_count": 15,
   "id": "55021612",
   "metadata": {
    "execution": {
     "iopub.execute_input": "2022-06-11T16:41:13.955495Z",
     "iopub.status.busy": "2022-06-11T16:41:13.954824Z",
     "iopub.status.idle": "2022-06-11T16:41:14.023786Z",
     "shell.execute_reply": "2022-06-11T16:41:14.022990Z"
    },
    "papermill": {
     "duration": 0.085386,
     "end_time": "2022-06-11T16:41:14.025997",
     "exception": false,
     "start_time": "2022-06-11T16:41:13.940611",
     "status": "completed"
    },
    "tags": []
   },
   "outputs": [],
   "source": [
    "#create dictionary with filepath and labels assigned by KMeans\n",
    "groups = {}\n",
    "for file, cluster in zip(filenames,kmeans.labels_):\n",
    "    if cluster not in groups.keys():\n",
    "        groups[cluster] = []\n",
    "        groups[cluster].append(files_path+file)\n",
    "    else:\n",
    "        groups[cluster].append(files_path+file)"
   ]
  },
  {
   "cell_type": "markdown",
   "id": "32bc1024",
   "metadata": {
    "papermill": {
     "duration": 0.015543,
     "end_time": "2022-06-11T16:41:14.056286",
     "exception": false,
     "start_time": "2022-06-11T16:41:14.040743",
     "status": "completed"
    },
    "tags": []
   },
   "source": [
    "# Create Zip\n",
    "Move the fashion images to different folders based on the cluster label and zip the folder"
   ]
  },
  {
   "cell_type": "code",
   "execution_count": 16,
   "id": "915a2513",
   "metadata": {
    "execution": {
     "iopub.execute_input": "2022-06-11T16:41:14.090043Z",
     "iopub.status.busy": "2022-06-11T16:41:14.089287Z",
     "iopub.status.idle": "2022-06-11T16:59:31.748616Z",
     "shell.execute_reply": "2022-06-11T16:59:31.745939Z"
    },
    "papermill": {
     "duration": 1097.688824,
     "end_time": "2022-06-11T16:59:31.760872",
     "exception": false,
     "start_time": "2022-06-11T16:41:14.072048",
     "status": "completed"
    },
    "tags": []
   },
   "outputs": [],
   "source": [
    "for i in groups.items():\n",
    "    os.mkdir(str(i[0]))\n",
    "    for j in i[1]:\n",
    "        shutil.copy(j+\".jpg\", \"./\" + str(i[0]) + \"/\" + j.split('/')[-1] + \".jpg\")\n",
    "    shutil.make_archive('./' + str(i[0]), 'zip', './' + str(i[0]))    \n",
    "    shutil.rmtree(\"./\" + str(i[0]))"
   ]
  },
  {
   "cell_type": "code",
   "execution_count": 17,
   "id": "1b6a08a7",
   "metadata": {
    "execution": {
     "iopub.execute_input": "2022-06-11T16:59:31.806405Z",
     "iopub.status.busy": "2022-06-11T16:59:31.805924Z",
     "iopub.status.idle": "2022-06-11T16:59:32.806005Z",
     "shell.execute_reply": "2022-06-11T16:59:32.804860Z"
    },
    "papermill": {
     "duration": 1.018458,
     "end_time": "2022-06-11T16:59:32.808534",
     "exception": false,
     "start_time": "2022-06-11T16:59:31.790076",
     "status": "completed"
    },
    "tags": []
   },
   "outputs": [
    {
     "name": "stdout",
     "output_type": "stream",
     "text": [
      "0.zip   14.zip  2.zip   25.zip  30.zip  36.zip  41.zip  7.zip\r\n",
      "1.zip   15.zip  20.zip  26.zip  31.zip  37.zip  42.zip  8.zip\r\n",
      "10.zip  16.zip  21.zip  27.zip  32.zip  38.zip  43.zip  9.zip\r\n",
      "11.zip  17.zip  22.zip  28.zip  33.zip  39.zip  44.zip  __notebook__.ipynb\r\n",
      "12.zip  18.zip  23.zip  29.zip  34.zip  4.zip   5.zip   features.pkl\r\n",
      "13.zip  19.zip  24.zip  3.zip   35.zip  40.zip  6.zip\r\n"
     ]
    }
   ],
   "source": [
    "ls"
   ]
  },
  {
   "cell_type": "markdown",
   "id": "0b3824b0",
   "metadata": {
    "papermill": {
     "duration": 0.012355,
     "end_time": "2022-06-11T16:59:32.833904",
     "exception": false,
     "start_time": "2022-06-11T16:59:32.821549",
     "status": "completed"
    },
    "tags": []
   },
   "source": [
    "# Get Download Link for Each Zip File"
   ]
  },
  {
   "cell_type": "code",
   "execution_count": 18,
   "id": "e7035062",
   "metadata": {
    "execution": {
     "iopub.execute_input": "2022-06-11T16:59:32.862087Z",
     "iopub.status.busy": "2022-06-11T16:59:32.861362Z",
     "iopub.status.idle": "2022-06-11T16:59:32.922239Z",
     "shell.execute_reply": "2022-06-11T16:59:32.921556Z"
    },
    "papermill": {
     "duration": 0.077529,
     "end_time": "2022-06-11T16:59:32.924166",
     "exception": false,
     "start_time": "2022-06-11T16:59:32.846637",
     "status": "completed"
    },
    "tags": []
   },
   "outputs": [
    {
     "data": {
      "text/html": [
       "<a href='0.zip' target='_blank'>0.zip</a><br>"
      ],
      "text/plain": [
       "/kaggle/working/0.zip"
      ]
     },
     "metadata": {},
     "output_type": "display_data"
    },
    {
     "data": {
      "text/html": [
       "<a href='1.zip' target='_blank'>1.zip</a><br>"
      ],
      "text/plain": [
       "/kaggle/working/1.zip"
      ]
     },
     "metadata": {},
     "output_type": "display_data"
    },
    {
     "data": {
      "text/html": [
       "<a href='2.zip' target='_blank'>2.zip</a><br>"
      ],
      "text/plain": [
       "/kaggle/working/2.zip"
      ]
     },
     "metadata": {},
     "output_type": "display_data"
    },
    {
     "data": {
      "text/html": [
       "<a href='3.zip' target='_blank'>3.zip</a><br>"
      ],
      "text/plain": [
       "/kaggle/working/3.zip"
      ]
     },
     "metadata": {},
     "output_type": "display_data"
    },
    {
     "data": {
      "text/html": [
       "<a href='4.zip' target='_blank'>4.zip</a><br>"
      ],
      "text/plain": [
       "/kaggle/working/4.zip"
      ]
     },
     "metadata": {},
     "output_type": "display_data"
    },
    {
     "data": {
      "text/html": [
       "<a href='5.zip' target='_blank'>5.zip</a><br>"
      ],
      "text/plain": [
       "/kaggle/working/5.zip"
      ]
     },
     "metadata": {},
     "output_type": "display_data"
    },
    {
     "data": {
      "text/html": [
       "<a href='6.zip' target='_blank'>6.zip</a><br>"
      ],
      "text/plain": [
       "/kaggle/working/6.zip"
      ]
     },
     "metadata": {},
     "output_type": "display_data"
    },
    {
     "data": {
      "text/html": [
       "<a href='7.zip' target='_blank'>7.zip</a><br>"
      ],
      "text/plain": [
       "/kaggle/working/7.zip"
      ]
     },
     "metadata": {},
     "output_type": "display_data"
    },
    {
     "data": {
      "text/html": [
       "<a href='8.zip' target='_blank'>8.zip</a><br>"
      ],
      "text/plain": [
       "/kaggle/working/8.zip"
      ]
     },
     "metadata": {},
     "output_type": "display_data"
    },
    {
     "data": {
      "text/html": [
       "<a href='9.zip' target='_blank'>9.zip</a><br>"
      ],
      "text/plain": [
       "/kaggle/working/9.zip"
      ]
     },
     "metadata": {},
     "output_type": "display_data"
    },
    {
     "data": {
      "text/html": [
       "<a href='10.zip' target='_blank'>10.zip</a><br>"
      ],
      "text/plain": [
       "/kaggle/working/10.zip"
      ]
     },
     "metadata": {},
     "output_type": "display_data"
    },
    {
     "data": {
      "text/html": [
       "<a href='11.zip' target='_blank'>11.zip</a><br>"
      ],
      "text/plain": [
       "/kaggle/working/11.zip"
      ]
     },
     "metadata": {},
     "output_type": "display_data"
    },
    {
     "data": {
      "text/html": [
       "<a href='12.zip' target='_blank'>12.zip</a><br>"
      ],
      "text/plain": [
       "/kaggle/working/12.zip"
      ]
     },
     "metadata": {},
     "output_type": "display_data"
    },
    {
     "data": {
      "text/html": [
       "<a href='13.zip' target='_blank'>13.zip</a><br>"
      ],
      "text/plain": [
       "/kaggle/working/13.zip"
      ]
     },
     "metadata": {},
     "output_type": "display_data"
    },
    {
     "data": {
      "text/html": [
       "<a href='14.zip' target='_blank'>14.zip</a><br>"
      ],
      "text/plain": [
       "/kaggle/working/14.zip"
      ]
     },
     "metadata": {},
     "output_type": "display_data"
    },
    {
     "data": {
      "text/html": [
       "<a href='15.zip' target='_blank'>15.zip</a><br>"
      ],
      "text/plain": [
       "/kaggle/working/15.zip"
      ]
     },
     "metadata": {},
     "output_type": "display_data"
    },
    {
     "data": {
      "text/html": [
       "<a href='16.zip' target='_blank'>16.zip</a><br>"
      ],
      "text/plain": [
       "/kaggle/working/16.zip"
      ]
     },
     "metadata": {},
     "output_type": "display_data"
    },
    {
     "data": {
      "text/html": [
       "<a href='17.zip' target='_blank'>17.zip</a><br>"
      ],
      "text/plain": [
       "/kaggle/working/17.zip"
      ]
     },
     "metadata": {},
     "output_type": "display_data"
    },
    {
     "data": {
      "text/html": [
       "<a href='18.zip' target='_blank'>18.zip</a><br>"
      ],
      "text/plain": [
       "/kaggle/working/18.zip"
      ]
     },
     "metadata": {},
     "output_type": "display_data"
    },
    {
     "data": {
      "text/html": [
       "<a href='19.zip' target='_blank'>19.zip</a><br>"
      ],
      "text/plain": [
       "/kaggle/working/19.zip"
      ]
     },
     "metadata": {},
     "output_type": "display_data"
    },
    {
     "data": {
      "text/html": [
       "<a href='20.zip' target='_blank'>20.zip</a><br>"
      ],
      "text/plain": [
       "/kaggle/working/20.zip"
      ]
     },
     "metadata": {},
     "output_type": "display_data"
    },
    {
     "data": {
      "text/html": [
       "<a href='21.zip' target='_blank'>21.zip</a><br>"
      ],
      "text/plain": [
       "/kaggle/working/21.zip"
      ]
     },
     "metadata": {},
     "output_type": "display_data"
    },
    {
     "data": {
      "text/html": [
       "<a href='22.zip' target='_blank'>22.zip</a><br>"
      ],
      "text/plain": [
       "/kaggle/working/22.zip"
      ]
     },
     "metadata": {},
     "output_type": "display_data"
    },
    {
     "data": {
      "text/html": [
       "<a href='23.zip' target='_blank'>23.zip</a><br>"
      ],
      "text/plain": [
       "/kaggle/working/23.zip"
      ]
     },
     "metadata": {},
     "output_type": "display_data"
    },
    {
     "data": {
      "text/html": [
       "<a href='24.zip' target='_blank'>24.zip</a><br>"
      ],
      "text/plain": [
       "/kaggle/working/24.zip"
      ]
     },
     "metadata": {},
     "output_type": "display_data"
    },
    {
     "data": {
      "text/html": [
       "<a href='25.zip' target='_blank'>25.zip</a><br>"
      ],
      "text/plain": [
       "/kaggle/working/25.zip"
      ]
     },
     "metadata": {},
     "output_type": "display_data"
    },
    {
     "data": {
      "text/html": [
       "<a href='26.zip' target='_blank'>26.zip</a><br>"
      ],
      "text/plain": [
       "/kaggle/working/26.zip"
      ]
     },
     "metadata": {},
     "output_type": "display_data"
    },
    {
     "data": {
      "text/html": [
       "<a href='27.zip' target='_blank'>27.zip</a><br>"
      ],
      "text/plain": [
       "/kaggle/working/27.zip"
      ]
     },
     "metadata": {},
     "output_type": "display_data"
    },
    {
     "data": {
      "text/html": [
       "<a href='28.zip' target='_blank'>28.zip</a><br>"
      ],
      "text/plain": [
       "/kaggle/working/28.zip"
      ]
     },
     "metadata": {},
     "output_type": "display_data"
    },
    {
     "data": {
      "text/html": [
       "<a href='29.zip' target='_blank'>29.zip</a><br>"
      ],
      "text/plain": [
       "/kaggle/working/29.zip"
      ]
     },
     "metadata": {},
     "output_type": "display_data"
    },
    {
     "data": {
      "text/html": [
       "<a href='30.zip' target='_blank'>30.zip</a><br>"
      ],
      "text/plain": [
       "/kaggle/working/30.zip"
      ]
     },
     "metadata": {},
     "output_type": "display_data"
    },
    {
     "data": {
      "text/html": [
       "<a href='31.zip' target='_blank'>31.zip</a><br>"
      ],
      "text/plain": [
       "/kaggle/working/31.zip"
      ]
     },
     "metadata": {},
     "output_type": "display_data"
    },
    {
     "data": {
      "text/html": [
       "<a href='32.zip' target='_blank'>32.zip</a><br>"
      ],
      "text/plain": [
       "/kaggle/working/32.zip"
      ]
     },
     "metadata": {},
     "output_type": "display_data"
    },
    {
     "data": {
      "text/html": [
       "<a href='33.zip' target='_blank'>33.zip</a><br>"
      ],
      "text/plain": [
       "/kaggle/working/33.zip"
      ]
     },
     "metadata": {},
     "output_type": "display_data"
    },
    {
     "data": {
      "text/html": [
       "<a href='34.zip' target='_blank'>34.zip</a><br>"
      ],
      "text/plain": [
       "/kaggle/working/34.zip"
      ]
     },
     "metadata": {},
     "output_type": "display_data"
    },
    {
     "data": {
      "text/html": [
       "<a href='35.zip' target='_blank'>35.zip</a><br>"
      ],
      "text/plain": [
       "/kaggle/working/35.zip"
      ]
     },
     "metadata": {},
     "output_type": "display_data"
    },
    {
     "data": {
      "text/html": [
       "<a href='36.zip' target='_blank'>36.zip</a><br>"
      ],
      "text/plain": [
       "/kaggle/working/36.zip"
      ]
     },
     "metadata": {},
     "output_type": "display_data"
    },
    {
     "data": {
      "text/html": [
       "<a href='37.zip' target='_blank'>37.zip</a><br>"
      ],
      "text/plain": [
       "/kaggle/working/37.zip"
      ]
     },
     "metadata": {},
     "output_type": "display_data"
    },
    {
     "data": {
      "text/html": [
       "<a href='38.zip' target='_blank'>38.zip</a><br>"
      ],
      "text/plain": [
       "/kaggle/working/38.zip"
      ]
     },
     "metadata": {},
     "output_type": "display_data"
    },
    {
     "data": {
      "text/html": [
       "<a href='39.zip' target='_blank'>39.zip</a><br>"
      ],
      "text/plain": [
       "/kaggle/working/39.zip"
      ]
     },
     "metadata": {},
     "output_type": "display_data"
    },
    {
     "data": {
      "text/html": [
       "<a href='40.zip' target='_blank'>40.zip</a><br>"
      ],
      "text/plain": [
       "/kaggle/working/40.zip"
      ]
     },
     "metadata": {},
     "output_type": "display_data"
    },
    {
     "data": {
      "text/html": [
       "<a href='41.zip' target='_blank'>41.zip</a><br>"
      ],
      "text/plain": [
       "/kaggle/working/41.zip"
      ]
     },
     "metadata": {},
     "output_type": "display_data"
    },
    {
     "data": {
      "text/html": [
       "<a href='42.zip' target='_blank'>42.zip</a><br>"
      ],
      "text/plain": [
       "/kaggle/working/42.zip"
      ]
     },
     "metadata": {},
     "output_type": "display_data"
    },
    {
     "data": {
      "text/html": [
       "<a href='43.zip' target='_blank'>43.zip</a><br>"
      ],
      "text/plain": [
       "/kaggle/working/43.zip"
      ]
     },
     "metadata": {},
     "output_type": "display_data"
    },
    {
     "data": {
      "text/html": [
       "<a href='44.zip' target='_blank'>44.zip</a><br>"
      ],
      "text/plain": [
       "/kaggle/working/44.zip"
      ]
     },
     "metadata": {},
     "output_type": "display_data"
    }
   ],
   "source": [
    "for i in range(len(unique_labels)):\n",
    "    display(FileLink(str(i)+'.zip'))"
   ]
  }
 ],
 "metadata": {
  "kernelspec": {
   "display_name": "Python 3 (ipykernel)",
   "language": "python",
   "name": "python3"
  },
  "language_info": {
   "codemirror_mode": {
    "name": "ipython",
    "version": 3
   },
   "file_extension": ".py",
   "mimetype": "text/x-python",
   "name": "python",
   "nbconvert_exporter": "python",
   "pygments_lexer": "ipython3",
   "version": "3.9.7"
  },
  "papermill": {
   "default_parameters": {},
   "duration": 19334.280097,
   "end_time": "2022-06-11T16:59:36.582285",
   "environment_variables": {},
   "exception": null,
   "input_path": "__notebook__.ipynb",
   "output_path": "__notebook__.ipynb",
   "parameters": {},
   "start_time": "2022-06-11T11:37:22.302188",
   "version": "2.3.4"
  }
 },
 "nbformat": 4,
 "nbformat_minor": 5
}
