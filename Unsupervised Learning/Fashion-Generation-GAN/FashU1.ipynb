{
 "cells": [
  {
   "cell_type": "markdown",
   "metadata": {},
   "source": [
    "# Importing Libraries"
   ]
  },
  {
   "cell_type": "code",
   "execution_count": null,
   "metadata": {
    "execution": {
     "iopub.execute_input": "2021-09-27T01:50:57.643127Z",
     "iopub.status.busy": "2021-09-27T01:50:57.64239Z",
     "iopub.status.idle": "2021-09-27T01:51:00.396929Z",
     "shell.execute_reply": "2021-09-27T01:51:00.395618Z",
     "shell.execute_reply.started": "2021-09-27T01:50:57.643021Z"
    }
   },
   "outputs": [],
   "source": [
    "!cp -r '../input/checkpoints/' ./"
   ]
  },
  {
   "cell_type": "code",
   "execution_count": null,
   "metadata": {
    "execution": {
     "iopub.execute_input": "2021-09-27T01:51:03.621701Z",
     "iopub.status.busy": "2021-09-27T01:51:03.621399Z",
     "iopub.status.idle": "2021-09-27T01:51:08.939015Z",
     "shell.execute_reply": "2021-09-27T01:51:08.938064Z",
     "shell.execute_reply.started": "2021-09-27T01:51:03.621661Z"
    }
   },
   "outputs": [],
   "source": [
    "from __future__ import print_function\n",
    "#%matplotlib inline\n",
    "import argparse\n",
    "import os\n",
    "import random\n",
    "import torch\n",
    "import torch.nn as nn\n",
    "import torch.nn.parallel\n",
    "import torch.backends.cudnn as cudnn\n",
    "import torch.optim as optim\n",
    "import torch.utils.data\n",
    "import torchvision.datasets as dset\n",
    "import torchvision.transforms as transforms\n",
    "import torchvision.utils as vutils\n",
    "import numpy as np\n",
    "import matplotlib.pyplot as plt\n",
    "import matplotlib.animation as animation\n",
    "from IPython.display import HTML\n",
    "import wandb\n",
    "\n",
    "# Set random seem for reproducibility\n",
    "manualSeed = 999\n",
    "#manualSeed = random.randint(1, 10000) # use if you want new results\n",
    "print(\"Random Seed: \", manualSeed)\n",
    "random.seed(manualSeed)\n",
    "torch.manual_seed(manualSeed)"
   ]
  },
  {
   "cell_type": "markdown",
   "metadata": {},
   "source": [
    "# Configs"
   ]
  },
  {
   "cell_type": "code",
   "execution_count": null,
   "metadata": {
    "execution": {
     "iopub.execute_input": "2021-09-27T01:51:08.941428Z",
     "iopub.status.busy": "2021-09-27T01:51:08.941143Z",
     "iopub.status.idle": "2021-09-27T01:51:08.948562Z",
     "shell.execute_reply": "2021-09-27T01:51:08.947518Z",
     "shell.execute_reply.started": "2021-09-27T01:51:08.941398Z"
    }
   },
   "outputs": [],
   "source": [
    "# Root directory for dataset\n",
    "dataroot = \"../input/fashion/img\"\n",
    "\n",
    "# Number of workers for dataloader\n",
    "workers = 2\n",
    "\n",
    "# Batch size during training\n",
    "batch_size = 128\n",
    "\n",
    "# Spatial size of training images. All images will be resized to this\n",
    "#   size using a transformer.\n",
    "image_size = 64\n",
    "\n",
    "# Number of channels in the training images. For color images this is 3\n",
    "nc = 3\n",
    "\n",
    "# Size of z latent vector (i.e. size of generator input)\n",
    "nz = 100\n",
    "\n",
    "# Size of feature maps in generator\n",
    "ngf = 64\n",
    "\n",
    "# Size of feature maps in discriminator\n",
    "ndf = 64\n",
    "\n",
    "# Number of training epochs\n",
    "num_epochs = 200\n",
    "\n",
    "# Learning rate for optimizers\n",
    "lr = 0.0002\n",
    "\n",
    "# Beta1 hyperparam for Adam optimizers\n",
    "beta1 = 0.5\n",
    "\n",
    "# Number of GPUs available. Use 0 for CPU mode.\n",
    "ngpu = 1\n",
    "\n",
    "#wandb\n",
    "wandbact=1\n",
    "\n",
    "#checkpoint path\n",
    "checkpt_path = './checkpoints/'\n",
    "\n",
    "#last epoch\n",
    "last_epoch = 0"
   ]
  },
  {
   "cell_type": "markdown",
   "metadata": {},
   "source": [
    "# Data Loading"
   ]
  },
  {
   "cell_type": "code",
   "execution_count": null,
   "metadata": {
    "execution": {
     "iopub.execute_input": "2021-09-27T01:51:12.756483Z",
     "iopub.status.busy": "2021-09-27T01:51:12.755595Z",
     "iopub.status.idle": "2021-09-27T01:52:17.675743Z",
     "shell.execute_reply": "2021-09-27T01:52:17.674648Z",
     "shell.execute_reply.started": "2021-09-27T01:51:12.756449Z"
    }
   },
   "outputs": [],
   "source": [
    "# We can use an image folder dataset the way we have it setup.\n",
    "# Create the dataset\n",
    "dataset = dset.ImageFolder(root=dataroot,\n",
    "                           transform=transforms.Compose([\n",
    "                               transforms.Resize(image_size),\n",
    "                               transforms.CenterCrop(image_size),\n",
    "                               transforms.ToTensor(),\n",
    "                               transforms.Normalize((0.5, 0.5, 0.5), (0.5, 0.5, 0.5)),\n",
    "                           ]))\n",
    "# Create the dataloader\n",
    "dataloader = torch.utils.data.DataLoader(dataset, batch_size=batch_size,\n",
    "                                         shuffle=True, num_workers=workers)\n",
    "\n",
    "# Decide which device we want to run on\n",
    "device = torch.device(\"cuda:0\" if (torch.cuda.is_available() and ngpu > 0) else \"cpu\")\n",
    "\n",
    "# Plot some training images\n",
    "#real_batch = next(iter(dataloader))\n",
    "#plt.figure(figsize=(8,8))\n",
    "#plt.axis(\"off\")\n",
    "#plt.title(\"Training Images\")\n",
    "#plt.imshow(np.transpose(vutils.make_grid(real_batch[0].to(device)[:64], padding=2, normalize=True).cpu(),(1,2,0)))\n",
    "#plt.show()"
   ]
  },
  {
   "cell_type": "markdown",
   "metadata": {},
   "source": [
    "# Generator"
   ]
  },
  {
   "cell_type": "code",
   "execution_count": null,
   "metadata": {
    "execution": {
     "iopub.execute_input": "2021-09-27T01:52:17.678891Z",
     "iopub.status.busy": "2021-09-27T01:52:17.678216Z",
     "iopub.status.idle": "2021-09-27T01:52:17.691849Z",
     "shell.execute_reply": "2021-09-27T01:52:17.690831Z",
     "shell.execute_reply.started": "2021-09-27T01:52:17.678847Z"
    }
   },
   "outputs": [],
   "source": [
    "# Generator Code\n",
    "\n",
    "class Generator(nn.Module):\n",
    "    def __init__(self, ngpu):\n",
    "        super(Generator, self).__init__()\n",
    "        self.ngpu = ngpu\n",
    "        self.main = nn.Sequential(\n",
    "            # input is Z, going into a convolution\n",
    "            nn.ConvTranspose2d( nz, ngf * 8, 4, 1, 0, bias=False),\n",
    "            nn.BatchNorm2d(ngf * 8),\n",
    "            nn.ReLU(True),\n",
    "            # state size. (ngf*8) x 4 x 4\n",
    "            nn.ConvTranspose2d(ngf * 8, ngf * 4, 4, 2, 1, bias=False),\n",
    "            nn.BatchNorm2d(ngf * 4),\n",
    "            nn.ReLU(True),\n",
    "            # state size. (ngf*4) x 8 x 8\n",
    "            nn.ConvTranspose2d( ngf * 4, ngf * 2, 4, 2, 1, bias=False),\n",
    "            nn.BatchNorm2d(ngf * 2),\n",
    "            nn.ReLU(True),\n",
    "            # state size. (ngf*2) x 16 x 16\n",
    "            nn.ConvTranspose2d( ngf * 2, ngf, 4, 2, 1, bias=False),\n",
    "            nn.BatchNorm2d(ngf),\n",
    "            nn.ReLU(True),\n",
    "            # state size. (ngf) x 32 x 32\n",
    "            nn.ConvTranspose2d( ngf, nc, 4, 2, 1, bias=False),\n",
    "            nn.Tanh()\n",
    "            # state size. (nc) x 64 x 64\n",
    "        )\n",
    "\n",
    "    def forward(self, input):\n",
    "        return self.main(input)"
   ]
  },
  {
   "cell_type": "markdown",
   "metadata": {},
   "source": [
    "# Discriminator"
   ]
  },
  {
   "cell_type": "code",
   "execution_count": null,
   "metadata": {
    "execution": {
     "iopub.execute_input": "2021-09-27T01:52:17.694451Z",
     "iopub.status.busy": "2021-09-27T01:52:17.693742Z",
     "iopub.status.idle": "2021-09-27T01:52:17.711648Z",
     "shell.execute_reply": "2021-09-27T01:52:17.710572Z",
     "shell.execute_reply.started": "2021-09-27T01:52:17.69441Z"
    }
   },
   "outputs": [],
   "source": [
    "class Discriminator(nn.Module):\n",
    "    def __init__(self, ngpu):\n",
    "        super(Discriminator, self).__init__()\n",
    "        self.ngpu = ngpu\n",
    "        self.main = nn.Sequential(\n",
    "            # input is (nc) x 64 x 64\n",
    "            nn.Conv2d(nc, ndf, 4, 2, 1, bias=False),\n",
    "            nn.LeakyReLU(0.2, inplace=True),\n",
    "            # state size. (ndf) x 32 x 32\n",
    "            nn.Conv2d(ndf, ndf * 2, 4, 2, 1, bias=False),\n",
    "            nn.BatchNorm2d(ndf * 2),\n",
    "            nn.LeakyReLU(0.2, inplace=True),\n",
    "            # state size. (ndf*2) x 16 x 16\n",
    "            nn.Conv2d(ndf * 2, ndf * 4, 4, 2, 1, bias=False),\n",
    "            nn.BatchNorm2d(ndf * 4),\n",
    "            nn.LeakyReLU(0.2, inplace=True),\n",
    "            # state size. (ndf*4) x 8 x 8\n",
    "            nn.Conv2d(ndf * 4, ndf * 8, 4, 2, 1, bias=False),\n",
    "            nn.BatchNorm2d(ndf * 8),\n",
    "            nn.LeakyReLU(0.2, inplace=True),\n",
    "            # state size. (ndf*8) x 4 x 4\n",
    "            nn.Conv2d(ndf * 8, 1, 4, 1, 0, bias=False),\n",
    "            nn.Sigmoid()\n",
    "        )\n",
    "\n",
    "    def forward(self, input):\n",
    "        return self.main(input)"
   ]
  },
  {
   "cell_type": "code",
   "execution_count": null,
   "metadata": {
    "execution": {
     "iopub.execute_input": "2021-09-26T05:06:10.868037Z",
     "iopub.status.busy": "2021-09-26T05:06:10.867257Z",
     "iopub.status.idle": "2021-09-26T05:06:10.878522Z",
     "shell.execute_reply": "2021-09-26T05:06:10.877523Z",
     "shell.execute_reply.started": "2021-09-26T05:06:10.867931Z"
    }
   },
   "outputs": [],
   "source": [
    "#device"
   ]
  },
  {
   "cell_type": "markdown",
   "metadata": {},
   "source": [
    "# Custom Weights Initialization"
   ]
  },
  {
   "cell_type": "code",
   "execution_count": null,
   "metadata": {
    "execution": {
     "iopub.execute_input": "2021-09-27T01:52:17.714854Z",
     "iopub.status.busy": "2021-09-27T01:52:17.714506Z",
     "iopub.status.idle": "2021-09-27T01:52:17.728264Z",
     "shell.execute_reply": "2021-09-27T01:52:17.727082Z",
     "shell.execute_reply.started": "2021-09-27T01:52:17.714814Z"
    }
   },
   "outputs": [],
   "source": [
    "# custom weights initialization called on netG and netD\n",
    "def weights_init(m):\n",
    "    classname = m.__class__.__name__\n",
    "    if classname.find('Conv') != -1:\n",
    "        nn.init.normal_(m.weight.data, 0.0, 0.02)\n",
    "    elif classname.find('BatchNorm') != -1:\n",
    "        nn.init.normal_(m.weight.data, 1.0, 0.02)\n",
    "        nn.init.constant_(m.bias.data, 0)"
   ]
  },
  {
   "cell_type": "markdown",
   "metadata": {},
   "source": [
    "# Model"
   ]
  },
  {
   "cell_type": "markdown",
   "metadata": {},
   "source": [
    "### Generator Instance"
   ]
  },
  {
   "cell_type": "code",
   "execution_count": null,
   "metadata": {
    "execution": {
     "iopub.execute_input": "2021-09-27T01:52:17.730807Z",
     "iopub.status.busy": "2021-09-27T01:52:17.730378Z",
     "iopub.status.idle": "2021-09-27T01:52:24.203118Z",
     "shell.execute_reply": "2021-09-27T01:52:24.202215Z",
     "shell.execute_reply.started": "2021-09-27T01:52:17.730753Z"
    }
   },
   "outputs": [],
   "source": [
    "# Create the generator instance\n",
    "netG = Generator(ngpu).to(device)\n",
    "\n",
    "# Handle multi-gpu if desired\n",
    "if (device.type == 'cuda') and (ngpu > 1):\n",
    "    netG = nn.DataParallel(netG, list(range(ngpu)))\n",
    "\n",
    "# Apply the weights_init function to randomly initialize all weights\n",
    "#  to mean=0, stdev=0.2.\n",
    "netG.apply(weights_init)\n",
    "\n",
    "# Print the model\n",
    "#print(netG)"
   ]
  },
  {
   "cell_type": "markdown",
   "metadata": {},
   "source": [
    "### Discriminator Instance"
   ]
  },
  {
   "cell_type": "code",
   "execution_count": null,
   "metadata": {
    "execution": {
     "iopub.execute_input": "2021-09-27T01:52:27.184712Z",
     "iopub.status.busy": "2021-09-27T01:52:27.184046Z",
     "iopub.status.idle": "2021-09-27T01:52:27.229952Z",
     "shell.execute_reply": "2021-09-27T01:52:27.228782Z",
     "shell.execute_reply.started": "2021-09-27T01:52:27.18467Z"
    }
   },
   "outputs": [],
   "source": [
    "# Create the Discriminator instance\n",
    "netD = Discriminator(ngpu).to(device)\n",
    "\n",
    "# Handle multi-gpu if desired\n",
    "if (device.type == 'cuda') and (ngpu > 1):\n",
    "    netD = nn.DataParallel(netD, list(range(ngpu)))\n",
    "\n",
    "# Apply the weights_init function to randomly initialize all weights\n",
    "#  to mean=0, stdev=0.2.\n",
    "netD.apply(weights_init)\n",
    "\n",
    "# Print the model\n",
    "#print(netD)"
   ]
  },
  {
   "cell_type": "markdown",
   "metadata": {},
   "source": [
    "### Loss and Optimizers"
   ]
  },
  {
   "cell_type": "code",
   "execution_count": null,
   "metadata": {
    "execution": {
     "iopub.execute_input": "2021-09-27T01:52:31.633127Z",
     "iopub.status.busy": "2021-09-27T01:52:31.632804Z",
     "iopub.status.idle": "2021-09-27T01:52:31.643017Z",
     "shell.execute_reply": "2021-09-27T01:52:31.64165Z",
     "shell.execute_reply.started": "2021-09-27T01:52:31.633097Z"
    }
   },
   "outputs": [],
   "source": [
    "# Initialize BCELoss function(binary cross entropy)\n",
    "criterion = nn.BCELoss()\n",
    "\n",
    "# Create batch of latent vectors that we will use to visualize\n",
    "#  the progression of the generator\n",
    "fixed_noise = torch.randn(64, nz, 1, 1, device=device)\n",
    "\n",
    "# Establish convention for real and fake labels during training\n",
    "real_label = 1\n",
    "fake_label = 0\n",
    "\n",
    "# Setup Adam optimizers for both G and D\n",
    "optimizerD = optim.Adam(netD.parameters(), lr=lr, betas=(beta1, 0.999))\n",
    "optimizerG = optim.Adam(netG.parameters(), lr=lr, betas=(beta1, 0.999))"
   ]
  },
  {
   "cell_type": "markdown",
   "metadata": {},
   "source": [
    "# Save Checkpoints"
   ]
  },
  {
   "cell_type": "code",
   "execution_count": null,
   "metadata": {
    "execution": {
     "iopub.execute_input": "2021-09-27T01:52:38.578539Z",
     "iopub.status.busy": "2021-09-27T01:52:38.577527Z",
     "iopub.status.idle": "2021-09-27T01:52:38.585067Z",
     "shell.execute_reply": "2021-09-27T01:52:38.58385Z",
     "shell.execute_reply.started": "2021-09-27T01:52:38.578507Z"
    }
   },
   "outputs": [],
   "source": [
    "def save_chckpt(name):\n",
    "    torch.save({\n",
    "        'epoch':epoch,\n",
    "        'model_state_dict':netG.state_dict(),\n",
    "        'optimizer_state_dict':optimizerG.state_dict()\n",
    "    }, f\"{checkpt_path}G-Checkpoint.pkl\")\n",
    "    \n",
    "    torch.save({\n",
    "        'epoch':epoch,\n",
    "        'model_state_dict':netD.state_dict(),\n",
    "        'optimizer_state_dict':optimizerD.state_dict()\n",
    "    }, f\"{checkpt_path}D-Checkpoint.pkl\")\n",
    "    \n",
    "    print(f\"Saved Checkpoint:\\n\\t Epoch : {epoch}\")"
   ]
  },
  {
   "cell_type": "markdown",
   "metadata": {},
   "source": [
    "# Load Checkpoints"
   ]
  },
  {
   "cell_type": "code",
   "execution_count": null,
   "metadata": {
    "execution": {
     "iopub.execute_input": "2021-09-27T01:52:40.72145Z",
     "iopub.status.busy": "2021-09-27T01:52:40.721098Z",
     "iopub.status.idle": "2021-09-27T01:52:40.728765Z",
     "shell.execute_reply": "2021-09-27T01:52:40.727556Z",
     "shell.execute_reply.started": "2021-09-27T01:52:40.72142Z"
    }
   },
   "outputs": [],
   "source": [
    "def load_chckpt(name):\n",
    "    checkpoint = torch.load(f\"{checkpt_path}G-Checkpoint.pkl\")\n",
    "    netG.load_state_dict(checkpoint['model_state_dict'])\n",
    "    optimizerG.load_state_dict(checkpoint['optimizer_state_dict'])\n",
    "    \n",
    "    checkpoint = torch.load(f\"{checkpt_path}D-Checkpoint.pkl\")\n",
    "    netD.load_state_dict(checkpoint['model_state_dict'])\n",
    "    optimizerD.load_state_dict(checkpoint['optimizer_state_dict'])\n",
    "    \n",
    "    last_epoch = checkpoint['epoch']\n",
    "\n",
    "    print(f\"Checkpoint Loaded:\\n\\t Epoch : {last_epoch}\")\n",
    "    return last_epoch"
   ]
  },
  {
   "cell_type": "markdown",
   "metadata": {},
   "source": [
    "# Load from Previous Checkpoints"
   ]
  },
  {
   "cell_type": "code",
   "execution_count": null,
   "metadata": {
    "execution": {
     "iopub.execute_input": "2021-09-27T01:52:42.752069Z",
     "iopub.status.busy": "2021-09-27T01:52:42.751799Z",
     "iopub.status.idle": "2021-09-27T01:52:42.818235Z",
     "shell.execute_reply": "2021-09-27T01:52:42.817325Z",
     "shell.execute_reply.started": "2021-09-27T01:52:42.752042Z"
    }
   },
   "outputs": [],
   "source": [
    "last_epoch = load_chckpt(\"Checkpoints\")"
   ]
  },
  {
   "cell_type": "markdown",
   "metadata": {},
   "source": [
    "# Login & config wandb"
   ]
  },
  {
   "cell_type": "code",
   "execution_count": null,
   "metadata": {
    "execution": {
     "iopub.execute_input": "2021-09-26T06:07:00.328112Z",
     "iopub.status.busy": "2021-09-26T06:07:00.32773Z",
     "iopub.status.idle": "2021-09-26T06:07:01.356968Z",
     "shell.execute_reply": "2021-09-26T06:07:01.356313Z",
     "shell.execute_reply.started": "2021-09-26T06:07:00.328079Z"
    }
   },
   "outputs": [],
   "source": [
    "# place your wandb API generated from the site in a file 'wandb_API.txt' in the working directory\n",
    "wandb.login(key='xxxxxxxxxxxxxxxxxxxxxxxxxxxxx')"
   ]
  },
  {
   "cell_type": "code",
   "execution_count": null,
   "metadata": {
    "execution": {
     "iopub.execute_input": "2021-09-26T06:07:01.358405Z",
     "iopub.status.busy": "2021-09-26T06:07:01.358155Z",
     "iopub.status.idle": "2021-09-26T06:07:09.069162Z",
     "shell.execute_reply": "2021-09-26T06:07:09.06845Z",
     "shell.execute_reply.started": "2021-09-26T06:07:01.358374Z"
    }
   },
   "outputs": [],
   "source": [
    "%%capture\n",
    "exp_name = wandb.util.generate_id()\n",
    "myrun = wandb.init(\n",
    "        project='FashU',\n",
    "        group=exp_name,\n",
    "        config={\n",
    "            'image size':64,\n",
    "            'num channels':3,\n",
    "            'nz':100,\n",
    "            'ngf':64,\n",
    "            'ndf':64,\n",
    "            'lr':0.0002,\n",
    "            'beta1':0.5,\n",
    "            'epoch': 200,\n",
    "            'batch_size':128,\n",
    "            'Loss':\"BCELoss\",            \n",
    "            'optimizer':'Adam',\n",
    "            'Last Epoch':last_epoch,\n",
    "        }\n",
    ")\n",
    "config = wandb.config\n",
    "#print(exp_name)"
   ]
  },
  {
   "cell_type": "code",
   "execution_count": null,
   "metadata": {
    "execution": {
     "iopub.execute_input": "2021-09-26T06:07:09.632841Z",
     "iopub.status.busy": "2021-09-26T06:07:09.6326Z",
     "iopub.status.idle": "2021-09-26T06:07:10.194682Z",
     "shell.execute_reply": "2021-09-26T06:07:10.193804Z",
     "shell.execute_reply.started": "2021-09-26T06:07:09.63281Z"
    }
   },
   "outputs": [],
   "source": [
    "#wandb\n",
    "if(wandbact==1):\n",
    "    wandb.watch(netD, log_freq=100)\n",
    "    wandb.watch(netG, log_freq=100)"
   ]
  },
  {
   "cell_type": "markdown",
   "metadata": {},
   "source": [
    "# Generate New Fake Images"
   ]
  },
  {
   "cell_type": "code",
   "execution_count": null,
   "metadata": {
    "execution": {
     "iopub.execute_input": "2021-09-27T02:17:58.305916Z",
     "iopub.status.busy": "2021-09-27T02:17:58.30551Z",
     "iopub.status.idle": "2021-09-27T02:17:58.31388Z",
     "shell.execute_reply": "2021-09-27T02:17:58.312875Z",
     "shell.execute_reply.started": "2021-09-27T02:17:58.305872Z"
    }
   },
   "outputs": [],
   "source": [
    "def show(num=25, wandbactive=0, name=''):\n",
    "    noise = torch.randn(128, nz, 1, 1, device=device)\n",
    "    fake_n = netG(noise)\n",
    "    data = fake_n.detach().cpu()\n",
    "    grid = vutils.make_grid(data[:num], nrow=5).permute(1, 2, 0)\n",
    "    #log in wandb\n",
    "    if(wandbact==1):\n",
    "        wandb.log({'Fake':wandb.Image(grid.numpy().clip(0, 1))})\n",
    "    grid.numpy().clip(0, 1)\n",
    "    fig = plt.figure(figsize=(16,16))\n",
    "    plt.imshow(grid.clip(0, 1))\n",
    "    plt.show()"
   ]
  },
  {
   "cell_type": "markdown",
   "metadata": {},
   "source": [
    "# Training"
   ]
  },
  {
   "cell_type": "code",
   "execution_count": null,
   "metadata": {
    "execution": {
     "iopub.execute_input": "2021-09-26T06:07:10.19632Z",
     "iopub.status.busy": "2021-09-26T06:07:10.19609Z",
     "iopub.status.idle": "2021-09-26T06:26:35.984746Z",
     "shell.execute_reply": "2021-09-26T06:26:35.983128Z",
     "shell.execute_reply.started": "2021-09-26T06:07:10.196288Z"
    },
    "scrolled": true
   },
   "outputs": [],
   "source": [
    "#%time\n",
    "\n",
    "# Lists to keep track of progress\n",
    "img_list = []\n",
    "G_losses = []\n",
    "D_losses = []\n",
    "iters = 0\n",
    "\n",
    "print(\"Starting Training Loop...\")\n",
    "# For each epoch\n",
    "for epoch in range(last_epoch, num_epochs):\n",
    "    # For each batch in the dataloader\n",
    "    for i, data in enumerate(dataloader, 0):\n",
    "        \n",
    "        ############################\n",
    "        # (1) Update Discriminator network: maximize log(D(x)) + log(1 - D(G(z)))\n",
    "        ###########################\n",
    "        ## Train with all-real batch\n",
    "        netD.zero_grad()\n",
    "        # Format batch\n",
    "        real_cpu = data[0].to(device)\n",
    "        b_size = real_cpu.size(0)\n",
    "        label = torch.full((b_size,), real_label, device=device, dtype=torch.float)\n",
    "        # Forward pass real batch through D\n",
    "        output = netD(real_cpu).view(-1)\n",
    "        # Calculate loss on all-real batch\n",
    "        errD_real = criterion(output, label)\n",
    "        # Calculate gradients for D in backward pass\n",
    "        errD_real.backward()\n",
    "        D_x = output.mean().item()\n",
    "        ## Train with all-fake batch\n",
    "        # Generate batch of latent vectors\n",
    "        noise = torch.randn(b_size, nz, 1, 1, device=device)\n",
    "        # Generate fake image batch with G\n",
    "        fake = netG(noise)\n",
    "        label.fill_(fake_label)\n",
    "        # Classify all fake batch with D\n",
    "        output = netD(fake.detach()).view(-1)\n",
    "        # Calculate D's loss on the all-fake batch\n",
    "        errD_fake = criterion(output, label)\n",
    "        # Calculate the gradients for this batch\n",
    "        errD_fake.backward()\n",
    "        D_G_z1 = output.mean().item()\n",
    "        # Add the gradients from the all-real and all-fake batches\n",
    "        errD = errD_real + errD_fake\n",
    "        # Update D\n",
    "        optimizerD.step()\n",
    "\n",
    "        ############################\n",
    "        # (2) Update G network: maximize log(D(G(z)))\n",
    "        ###########################\n",
    "        netG.zero_grad()\n",
    "        label.fill_(real_label)  # fake labels are real for generator cost\n",
    "        # Since we just updated D, perform another forward pass of all-fake batch through D\n",
    "        output = netD(fake).view(-1)\n",
    "        # Calculate G's loss based on this output\n",
    "        errG = criterion(output, label)\n",
    "        # Calculate gradients for G\n",
    "        errG.backward()\n",
    "        D_G_z2 = output.mean().item()\n",
    "        # Update G\n",
    "        optimizerG.step()\n",
    "\n",
    "        # Save Losses for plotting later\n",
    "        G_losses.append(errG.item())\n",
    "        D_losses.append(errD.item())\n",
    "\n",
    "        # log in every 200 batches in each epoch\n",
    "        if (iters % 200 == 0) or ((epoch == num_epochs-1) and (i == len(dataloader)-1)):\n",
    "            # Output training stats\n",
    "            #print('[%d/%d][%d/%d]\\tLoss_D: %.4f\\tLoss_G: %.4f\\tD(x): %.4f\\tD(G(z)): %.4f / %.4f'\n",
    "            #      % (epoch, num_epochs, i, len(dataloader),\n",
    "            #         errD.item(), errG.item(), D_x, D_G_z1, D_G_z2))\n",
    "            \n",
    "            #log wandb\n",
    "            if(wandbact==1):\n",
    "                wandb.log({'Epoch':epoch, 'Discriminator Loss':errD.item(), 'Generator Loss':errG.item()})\n",
    "                wandb.save(f\"{checkpt_path}G-Checkpoint.pkl\")\n",
    "                wandb.save(f\"{checkpt_path}D-Checkpoint.pkl\")\n",
    "                print(\"Checkpoint Logged\")\n",
    "                \n",
    "            #accumulate different stages of same noise for animation\n",
    "            with torch.no_grad():\n",
    "                fake = netG(fixed_noise).detach().cpu()\n",
    "                grid = vutils.make_grid(fake[:25], nrow=5).permute(1, 2, 0)\n",
    "            img_list.append(vutils.make_grid(fake, padding=2, normalize=True))\n",
    "            \n",
    "            #wandb log generated images of different noise\n",
    "            show()\n",
    "            \n",
    "        iters += 1\n",
    "    save_chckpt(\"Checkpoint\")\n",
    "    \n",
    "    # save animation every 10 epochs\n",
    "    if(epoch % 10 ==0):\n",
    "        fig = plt.figure(figsize=(64,64))\n",
    "        plt.axis(\"off\")\n",
    "        ims = [[plt.imshow(np.transpose(i,(1,2,0)), animated=True)] for i in img_list]\n",
    "        ani = animation.ArtistAnimation(fig, ims, interval=1000, repeat_delay=1000, blit=True)\n",
    "        writervideo = animation.FFMpegWriter(fps=2)\n",
    "        ani.save('Animation.mp4', writer=writervideo)\n",
    "        if(wandbact==1):\n",
    "            wandb.save('./Animation.mp4')\n",
    "        #HTML(ani.to_jshtml())"
   ]
  },
  {
   "cell_type": "code",
   "execution_count": null,
   "metadata": {
    "execution": {
     "iopub.execute_input": "2021-09-26T05:37:34.739852Z",
     "iopub.status.busy": "2021-09-26T05:37:34.739586Z",
     "iopub.status.idle": "2021-09-26T05:37:35.207976Z",
     "shell.execute_reply": "2021-09-26T05:37:35.207295Z",
     "shell.execute_reply.started": "2021-09-26T05:37:34.73982Z"
    }
   },
   "outputs": [],
   "source": [
    "#D_x, D_G_z1, D_G_z2"
   ]
  },
  {
   "cell_type": "markdown",
   "metadata": {},
   "source": [
    "# Generator Vs. Discriminator Loss During Training"
   ]
  },
  {
   "cell_type": "code",
   "execution_count": null,
   "metadata": {
    "execution": {
     "iopub.execute_input": "2021-09-26T05:40:54.078856Z",
     "iopub.status.busy": "2021-09-26T05:40:54.07855Z",
     "iopub.status.idle": "2021-09-26T05:40:54.654462Z",
     "shell.execute_reply": "2021-09-26T05:40:54.653644Z",
     "shell.execute_reply.started": "2021-09-26T05:40:54.078822Z"
    }
   },
   "outputs": [],
   "source": [
    "#plt.figure(figsize=(10,5))\n",
    "#plt.title(\"Generator and Discriminator Loss During Training\")\n",
    "#plt.plot(G_losses,label=\"G\")\n",
    "#plt.plot(D_losses,label=\"D\")\n",
    "#plt.xlabel(\"iterations\")\n",
    "#plt.ylabel(\"Loss\")\n",
    "#plt.legend()\n",
    "#plt.show()"
   ]
  },
  {
   "cell_type": "markdown",
   "metadata": {},
   "source": [
    "# Plot Sample Real And Fake Images"
   ]
  },
  {
   "cell_type": "code",
   "execution_count": null,
   "metadata": {
    "execution": {
     "iopub.execute_input": "2021-09-27T02:00:43.278048Z",
     "iopub.status.busy": "2021-09-27T02:00:43.277686Z",
     "iopub.status.idle": "2021-09-27T02:00:43.283368Z",
     "shell.execute_reply": "2021-09-27T02:00:43.282254Z",
     "shell.execute_reply.started": "2021-09-27T02:00:43.27802Z"
    }
   },
   "outputs": [],
   "source": [
    "# Grab a batch of real images from the dataloader\n",
    "#real_batch = next(iter(dataloader))\n",
    "\n",
    "# Plot the real images\n",
    "#plt.figure(figsize=(15,15))\n",
    "#plt.subplot(1,2,1)\n",
    "#plt.axis(\"off\")\n",
    "#plt.title(\"Real Images\")\n",
    "#plt.imshow(np.transpose(vutils.make_grid(real_batch[0].to(device)[:64], padding=5, normalize=True).cpu(),(1,2,0)))\n",
    "\n",
    "# Plot the fake images from the last epoch\n",
    "#plt.subplot(1,2,2)\n",
    "#plt.axis(\"off\")\n",
    "#plt.title(\"Fake Images\")\n",
    "#plt.imshow(np.transpose(img_list[-1],(1,2,0)))\n",
    "#plt.show()"
   ]
  }
 ],
 "metadata": {
  "kernelspec": {
   "display_name": "Python 3",
   "language": "python",
   "name": "python3"
  },
  "language_info": {
   "codemirror_mode": {
    "name": "ipython",
    "version": 3
   },
   "file_extension": ".py",
   "mimetype": "text/x-python",
   "name": "python",
   "nbconvert_exporter": "python",
   "pygments_lexer": "ipython3",
   "version": "3.8.8"
  }
 },
 "nbformat": 4,
 "nbformat_minor": 4
}
