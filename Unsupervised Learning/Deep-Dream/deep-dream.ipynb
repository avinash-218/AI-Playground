{
 "cells": [
  {
   "cell_type": "markdown",
   "id": "bf839851",
   "metadata": {
    "papermill": {
     "duration": 0.020915,
     "end_time": "2022-01-11T06:17:41.083303",
     "exception": false,
     "start_time": "2022-01-11T06:17:41.062388",
     "status": "completed"
    },
    "tags": []
   },
   "source": [
    "# Import Libraries"
   ]
  },
  {
   "cell_type": "code",
   "execution_count": null,
   "id": "b5b55cbf",
   "metadata": {
    "execution": {
     "iopub.execute_input": "2022-01-11T06:17:41.132422Z",
     "iopub.status.busy": "2022-01-11T06:17:41.131934Z",
     "iopub.status.idle": "2022-01-11T06:17:45.018335Z",
     "shell.execute_reply": "2022-01-11T06:17:45.017792Z",
     "shell.execute_reply.started": "2022-01-11T06:03:03.807064Z"
    },
    "papermill": {
     "duration": 3.915551,
     "end_time": "2022-01-11T06:17:45.018510",
     "exception": false,
     "start_time": "2022-01-11T06:17:41.102959",
     "status": "completed"
    },
    "tags": []
   },
   "outputs": [],
   "source": [
    "import tensorflow as tf\n",
    "import matplotlib.pyplot as plt\n",
    "tf.__version__"
   ]
  },
  {
   "cell_type": "markdown",
   "id": "fb4a4c75",
   "metadata": {
    "papermill": {
     "duration": 0.020052,
     "end_time": "2022-01-11T06:17:45.059602",
     "exception": false,
     "start_time": "2022-01-11T06:17:45.039550",
     "status": "completed"
    },
    "tags": []
   },
   "source": [
    "# Load Pre-Built CNN"
   ]
  },
  {
   "cell_type": "code",
   "execution_count": null,
   "id": "e43fdb9e",
   "metadata": {
    "execution": {
     "iopub.execute_input": "2022-01-11T06:17:45.101937Z",
     "iopub.status.busy": "2022-01-11T06:17:45.100240Z",
     "iopub.status.idle": "2022-01-11T06:17:51.201367Z",
     "shell.execute_reply": "2022-01-11T06:17:51.200904Z",
     "shell.execute_reply.started": "2022-01-11T06:03:09.553363Z"
    },
    "papermill": {
     "duration": 6.12277,
     "end_time": "2022-01-11T06:17:51.201530",
     "exception": false,
     "start_time": "2022-01-11T06:17:45.078760",
     "status": "completed"
    },
    "tags": []
   },
   "outputs": [],
   "source": [
    "base_model = tf.keras.applications.InceptionV3(include_top=False, weights='imagenet')\n",
    "#false- dense layers is not included-only Con and pooling layers are included\n",
    "#include imagenet weights also"
   ]
  },
  {
   "cell_type": "code",
   "execution_count": null,
   "id": "32e79293",
   "metadata": {
    "execution": {
     "iopub.execute_input": "2022-01-11T06:17:51.270259Z",
     "iopub.status.busy": "2022-01-11T06:17:51.267548Z",
     "iopub.status.idle": "2022-01-11T06:17:51.399934Z",
     "shell.execute_reply": "2022-01-11T06:17:51.399487Z",
     "shell.execute_reply.started": "2022-01-11T06:03:14.344976Z"
    },
    "papermill": {
     "duration": 0.173235,
     "end_time": "2022-01-11T06:17:51.400051",
     "exception": false,
     "start_time": "2022-01-11T06:17:51.226816",
     "status": "completed"
    },
    "tags": []
   },
   "outputs": [],
   "source": [
    "base_model.summary()"
   ]
  },
  {
   "cell_type": "code",
   "execution_count": null,
   "id": "44d56970",
   "metadata": {
    "execution": {
     "iopub.execute_input": "2022-01-11T06:17:51.456272Z",
     "iopub.status.busy": "2022-01-11T06:17:51.455696Z",
     "iopub.status.idle": "2022-01-11T06:17:51.458946Z",
     "shell.execute_reply": "2022-01-11T06:17:51.459382Z",
     "shell.execute_reply.started": "2022-01-11T06:03:14.500038Z"
    },
    "papermill": {
     "duration": 0.033804,
     "end_time": "2022-01-11T06:17:51.459542",
     "exception": false,
     "start_time": "2022-01-11T06:17:51.425738",
     "status": "completed"
    },
    "tags": []
   },
   "outputs": [],
   "source": [
    "len(base_model.layers)"
   ]
  },
  {
   "cell_type": "code",
   "execution_count": null,
   "id": "11494d7c",
   "metadata": {
    "execution": {
     "iopub.execute_input": "2022-01-11T06:17:51.517291Z",
     "iopub.status.busy": "2022-01-11T06:17:51.516374Z",
     "iopub.status.idle": "2022-01-11T06:17:51.519505Z",
     "shell.execute_reply": "2022-01-11T06:17:51.519988Z",
     "shell.execute_reply.started": "2022-01-11T06:03:14.510294Z"
    },
    "papermill": {
     "duration": 0.035438,
     "end_time": "2022-01-11T06:17:51.520112",
     "exception": false,
     "start_time": "2022-01-11T06:17:51.484674",
     "status": "completed"
    },
    "tags": []
   },
   "outputs": [],
   "source": [
    "#names = ['mixed3', 'mixed5', 'mixed8', 'mixed9'] #names of some mixed layers in the architecture\n",
    "names = ['mixed3', 'mixed5']\n",
    "layers = [base_model.get_layer(name).output for name in names]\n",
    "layers"
   ]
  },
  {
   "cell_type": "code",
   "execution_count": null,
   "id": "49347bc7",
   "metadata": {
    "execution": {
     "iopub.execute_input": "2022-01-11T06:17:51.576994Z",
     "iopub.status.busy": "2022-01-11T06:17:51.576234Z",
     "iopub.status.idle": "2022-01-11T06:17:51.586713Z",
     "shell.execute_reply": "2022-01-11T06:17:51.586261Z",
     "shell.execute_reply.started": "2022-01-11T06:03:14.526561Z"
    },
    "papermill": {
     "duration": 0.041075,
     "end_time": "2022-01-11T06:17:51.586823",
     "exception": false,
     "start_time": "2022-01-11T06:17:51.545748",
     "status": "completed"
    },
    "tags": []
   },
   "outputs": [],
   "source": [
    "deep_dream_model = tf.keras.Model(inputs=base_model.input, outputs=layers)#two output layers mixed3 mixed5\n",
    "# get outputs from the hidden layers to achieve deep dream images"
   ]
  },
  {
   "cell_type": "markdown",
   "id": "b76ddaa5",
   "metadata": {
    "papermill": {
     "duration": 0.025741,
     "end_time": "2022-01-11T06:17:51.639310",
     "exception": false,
     "start_time": "2022-01-11T06:17:51.613569",
     "status": "completed"
    },
    "tags": []
   },
   "source": [
    "# Load and Preprocess the Image"
   ]
  },
  {
   "cell_type": "code",
   "execution_count": null,
   "id": "b38a426d",
   "metadata": {
    "execution": {
     "iopub.execute_input": "2022-01-11T06:17:51.694688Z",
     "iopub.status.busy": "2022-01-11T06:17:51.694042Z",
     "iopub.status.idle": "2022-01-11T06:17:52.278242Z",
     "shell.execute_reply": "2022-01-11T06:17:52.278667Z",
     "shell.execute_reply.started": "2022-01-11T06:03:14.549280Z"
    },
    "papermill": {
     "duration": 0.613932,
     "end_time": "2022-01-11T06:17:52.278814",
     "exception": false,
     "start_time": "2022-01-11T06:17:51.664882",
     "status": "completed"
    },
    "tags": []
   },
   "outputs": [],
   "source": [
    "image = tf.keras.preprocessing.image.load_img('../input/deepdream/StaryNight.jpg',\n",
    "                                              target_size=(225, 375)) #with respect to inception layer\n",
    "plt.figure(figsize=(15,15))\n",
    "plt.axis('off')\n",
    "plt.imshow(image);"
   ]
  },
  {
   "cell_type": "code",
   "execution_count": null,
   "id": "6db97859",
   "metadata": {
    "execution": {
     "iopub.execute_input": "2022-01-11T06:17:52.383997Z",
     "iopub.status.busy": "2022-01-11T06:17:52.383337Z",
     "iopub.status.idle": "2022-01-11T06:17:52.385920Z",
     "shell.execute_reply": "2022-01-11T06:17:52.386314Z",
     "shell.execute_reply.started": "2022-01-11T06:03:15.216434Z"
    },
    "papermill": {
     "duration": 0.057879,
     "end_time": "2022-01-11T06:17:52.386442",
     "exception": false,
     "start_time": "2022-01-11T06:17:52.328563",
     "status": "completed"
    },
    "tags": []
   },
   "outputs": [],
   "source": [
    "image.mode, len(image.mode), image.size"
   ]
  },
  {
   "cell_type": "code",
   "execution_count": null,
   "id": "8e0b30c7",
   "metadata": {
    "execution": {
     "iopub.execute_input": "2022-01-11T06:17:52.498622Z",
     "iopub.status.busy": "2022-01-11T06:17:52.497930Z",
     "iopub.status.idle": "2022-01-11T06:17:52.500484Z",
     "shell.execute_reply": "2022-01-11T06:17:52.500885Z",
     "shell.execute_reply.started": "2022-01-11T06:03:15.225556Z"
    },
    "papermill": {
     "duration": 0.064193,
     "end_time": "2022-01-11T06:17:52.501010",
     "exception": false,
     "start_time": "2022-01-11T06:17:52.436817",
     "status": "completed"
    },
    "tags": []
   },
   "outputs": [],
   "source": [
    "image = tf.keras.preprocessing.image.img_to_array(image) #convert image to np array for compatibility\n",
    "type(image), image.shape"
   ]
  },
  {
   "cell_type": "code",
   "execution_count": null,
   "id": "5aaebcfd",
   "metadata": {
    "execution": {
     "iopub.execute_input": "2022-01-11T06:17:52.607152Z",
     "iopub.status.busy": "2022-01-11T06:17:52.606442Z",
     "iopub.status.idle": "2022-01-11T06:17:52.608503Z",
     "shell.execute_reply": "2022-01-11T06:17:52.608874Z",
     "shell.execute_reply.started": "2022-01-11T06:03:15.242344Z"
    },
    "papermill": {
     "duration": 0.057361,
     "end_time": "2022-01-11T06:17:52.609001",
     "exception": false,
     "start_time": "2022-01-11T06:17:52.551640",
     "status": "completed"
    },
    "tags": []
   },
   "outputs": [],
   "source": [
    "image = tf.keras.applications.inception_v3.preprocess_input(image)   #all preprocessing takes place to be compatible with inception network"
   ]
  },
  {
   "cell_type": "markdown",
   "id": "b3dae6a5",
   "metadata": {
    "papermill": {
     "duration": 0.050107,
     "end_time": "2022-01-11T06:17:52.708615",
     "exception": false,
     "start_time": "2022-01-11T06:17:52.658508",
     "status": "completed"
    },
    "tags": []
   },
   "source": [
    "# Getting the Activations"
   ]
  },
  {
   "cell_type": "code",
   "execution_count": null,
   "id": "1e9ea766",
   "metadata": {
    "execution": {
     "iopub.execute_input": "2022-01-11T06:17:52.815010Z",
     "iopub.status.busy": "2022-01-11T06:17:52.814240Z",
     "iopub.status.idle": "2022-01-11T06:17:52.816854Z",
     "shell.execute_reply": "2022-01-11T06:17:52.817262Z",
     "shell.execute_reply.started": "2022-01-11T06:03:15.250381Z"
    },
    "papermill": {
     "duration": 0.058378,
     "end_time": "2022-01-11T06:17:52.817388",
     "exception": false,
     "start_time": "2022-01-11T06:17:52.759010",
     "status": "completed"
    },
    "tags": []
   },
   "outputs": [],
   "source": [
    "image.shape"
   ]
  },
  {
   "cell_type": "code",
   "execution_count": null,
   "id": "d4cfdee0",
   "metadata": {
    "execution": {
     "iopub.execute_input": "2022-01-11T06:17:52.923196Z",
     "iopub.status.busy": "2022-01-11T06:17:52.922616Z",
     "iopub.status.idle": "2022-01-11T06:17:52.928071Z",
     "shell.execute_reply": "2022-01-11T06:17:52.927673Z",
     "shell.execute_reply.started": "2022-01-11T06:03:15.265347Z"
    },
    "papermill": {
     "duration": 0.061198,
     "end_time": "2022-01-11T06:17:52.928178",
     "exception": false,
     "start_time": "2022-01-11T06:17:52.866980",
     "status": "completed"
    },
    "tags": []
   },
   "outputs": [],
   "source": [
    "image_batch = tf.expand_dims(image, axis=0)\n",
    "image_batch.shape"
   ]
  },
  {
   "cell_type": "code",
   "execution_count": null,
   "id": "3059a2cb",
   "metadata": {
    "execution": {
     "iopub.execute_input": "2022-01-11T06:17:53.033532Z",
     "iopub.status.busy": "2022-01-11T06:17:53.032721Z",
     "iopub.status.idle": "2022-01-11T06:17:59.324038Z",
     "shell.execute_reply": "2022-01-11T06:17:59.323396Z",
     "shell.execute_reply.started": "2022-01-11T06:03:15.278394Z"
    },
    "papermill": {
     "duration": 6.34631,
     "end_time": "2022-01-11T06:17:59.324172",
     "exception": false,
     "start_time": "2022-01-11T06:17:52.977862",
     "status": "completed"
    },
    "tags": []
   },
   "outputs": [],
   "source": [
    "activations = deep_dream_model.predict(image_batch)\n",
    "len(activations)"
   ]
  },
  {
   "cell_type": "code",
   "execution_count": null,
   "id": "0ffdb8d2",
   "metadata": {
    "execution": {
     "iopub.execute_input": "2022-01-11T06:17:59.433168Z",
     "iopub.status.busy": "2022-01-11T06:17:59.432322Z",
     "iopub.status.idle": "2022-01-11T06:17:59.437945Z",
     "shell.execute_reply": "2022-01-11T06:17:59.438415Z",
     "shell.execute_reply.started": "2022-01-11T06:03:16.597028Z"
    },
    "papermill": {
     "duration": 0.06284,
     "end_time": "2022-01-11T06:17:59.438626",
     "exception": false,
     "start_time": "2022-01-11T06:17:59.375786",
     "status": "completed"
    },
    "tags": []
   },
   "outputs": [],
   "source": [
    "#activations[0]\n",
    "activations[0].shape, activations[1].shape #mixed3, mixed5"
   ]
  },
  {
   "cell_type": "markdown",
   "id": "a7641344",
   "metadata": {
    "papermill": {
     "duration": 0.051955,
     "end_time": "2022-01-11T06:17:59.542280",
     "exception": false,
     "start_time": "2022-01-11T06:17:59.490325",
     "status": "completed"
    },
    "tags": []
   },
   "source": [
    "# Calculating the Loss"
   ]
  },
  {
   "cell_type": "code",
   "execution_count": null,
   "id": "e26fccd9",
   "metadata": {
    "execution": {
     "iopub.execute_input": "2022-01-11T06:17:59.652587Z",
     "iopub.status.busy": "2022-01-11T06:17:59.651569Z",
     "iopub.status.idle": "2022-01-11T06:17:59.653611Z",
     "shell.execute_reply": "2022-01-11T06:17:59.654071Z",
     "shell.execute_reply.started": "2022-01-11T06:03:16.605965Z"
    },
    "papermill": {
     "duration": 0.060736,
     "end_time": "2022-01-11T06:17:59.654216",
     "exception": false,
     "start_time": "2022-01-11T06:17:59.593480",
     "status": "completed"
    },
    "tags": []
   },
   "outputs": [],
   "source": [
    "def calculate_loss(image, network):\n",
    "    image_batch = tf.expand_dims(image, axis=0) #convert one image to batch format\n",
    "    #activations = network.predict(image_batch)\n",
    "    activations = network(image_batch)\n",
    "\n",
    "    losses = []\n",
    "    for act in activations:\n",
    "        loss = tf.math.reduce_mean(act) #get average\n",
    "        losses.append(loss)\n",
    "\n",
    "    return tf.reduce_sum(losses)"
   ]
  },
  {
   "cell_type": "code",
   "execution_count": null,
   "id": "3c95172f",
   "metadata": {
    "execution": {
     "iopub.execute_input": "2022-01-11T06:17:59.765959Z",
     "iopub.status.busy": "2022-01-11T06:17:59.765203Z",
     "iopub.status.idle": "2022-01-11T06:17:59.836157Z",
     "shell.execute_reply": "2022-01-11T06:17:59.836564Z",
     "shell.execute_reply.started": "2022-01-11T06:03:16.623366Z"
    },
    "papermill": {
     "duration": 0.129366,
     "end_time": "2022-01-11T06:17:59.836708",
     "exception": false,
     "start_time": "2022-01-11T06:17:59.707342",
     "status": "completed"
    },
    "tags": []
   },
   "outputs": [],
   "source": [
    "loss = calculate_loss(image, deep_dream_model)\n",
    "loss"
   ]
  },
  {
   "cell_type": "markdown",
   "id": "e507be01",
   "metadata": {
    "papermill": {
     "duration": 0.052248,
     "end_time": "2022-01-11T06:17:59.941237",
     "exception": false,
     "start_time": "2022-01-11T06:17:59.888989",
     "status": "completed"
    },
    "tags": []
   },
   "source": [
    "# Gradient Ascent\n",
    "## Custom function (Opposite to gradient descent)"
   ]
  },
  {
   "cell_type": "code",
   "execution_count": null,
   "id": "ecf26000",
   "metadata": {
    "execution": {
     "iopub.execute_input": "2022-01-11T06:18:00.055474Z",
     "iopub.status.busy": "2022-01-11T06:18:00.054926Z",
     "iopub.status.idle": "2022-01-11T06:18:00.058663Z",
     "shell.execute_reply": "2022-01-11T06:18:00.058210Z",
     "shell.execute_reply.started": "2022-01-11T06:03:16.886321Z"
    },
    "papermill": {
     "duration": 0.063797,
     "end_time": "2022-01-11T06:18:00.058783",
     "exception": false,
     "start_time": "2022-01-11T06:17:59.994986",
     "status": "completed"
    },
    "tags": []
   },
   "outputs": [],
   "source": [
    "@tf.function #used to define as a global variable\n",
    "\n",
    "def deep_dream(network, image, learning_rate):\n",
    "    with tf.GradientTape() as tape: #GradientTape - class in tf to access gradient\n",
    "        tape.watch(image) #make changes in image\n",
    "        loss = calculate_loss(image, network)\n",
    "    \n",
    "    gradients = tape.gradient(loss, image) #derivative\n",
    "    gradients /= tf.math.reduce_std(gradients)  #normalizing\n",
    "    \n",
    "    image = image + gradients*learning_rate  #making changes to original image repeatedly till the loss is maximum(gradient ascent)\n",
    "    \n",
    "    image = tf.clip_by_value(image, -1, 1) #scale values in the range [-1, 1]\n",
    "    \n",
    "    return loss, image"
   ]
  },
  {
   "cell_type": "code",
   "execution_count": null,
   "id": "a0458031",
   "metadata": {
    "execution": {
     "iopub.execute_input": "2022-01-11T06:18:00.171628Z",
     "iopub.status.busy": "2022-01-11T06:18:00.170590Z",
     "iopub.status.idle": "2022-01-11T06:18:00.173437Z",
     "shell.execute_reply": "2022-01-11T06:18:00.172964Z",
     "shell.execute_reply.started": "2022-01-11T06:03:16.896274Z"
    },
    "papermill": {
     "duration": 0.062016,
     "end_time": "2022-01-11T06:18:00.173579",
     "exception": false,
     "start_time": "2022-01-11T06:18:00.111563",
     "status": "completed"
    },
    "tags": []
   },
   "outputs": [],
   "source": [
    "#reverse the preprocessing steps from inception layers to get image after change from gradient ascent\n",
    "\n",
    "def inverse_transform(image):\n",
    "    image = 255 * (image + 1.0) / 2.0 #scale from [-1, 1] to original formats\n",
    "    return tf.cast(image, tf.uint8) #convert pixels to integer values"
   ]
  },
  {
   "cell_type": "code",
   "execution_count": null,
   "id": "625f4b4a",
   "metadata": {
    "execution": {
     "iopub.execute_input": "2022-01-11T06:18:00.290320Z",
     "iopub.status.busy": "2022-01-11T06:18:00.289525Z",
     "iopub.status.idle": "2022-01-11T06:18:00.292235Z",
     "shell.execute_reply": "2022-01-11T06:18:00.291717Z",
     "shell.execute_reply.started": "2022-01-11T06:03:16.917574Z"
    },
    "papermill": {
     "duration": 0.062163,
     "end_time": "2022-01-11T06:18:00.292344",
     "exception": false,
     "start_time": "2022-01-11T06:18:00.230181",
     "status": "completed"
    },
    "tags": []
   },
   "outputs": [],
   "source": [
    "def run_deep_dream(network, image, epochs, learning_rate):\n",
    "    for epoch in range(epochs):\n",
    "        loss, image = deep_dream(network, image, learning_rate)\n",
    "        \n",
    "        if (epoch % 200==0):\n",
    "            plt.figure(figsize=(15,15))\n",
    "            plt.imshow(inverse_transform(image))\n",
    "            plt.show()\n",
    "            print('Epoch {}, loss {}'.format(epoch, loss))"
   ]
  },
  {
   "cell_type": "markdown",
   "id": "8918caf4",
   "metadata": {
    "papermill": {
     "duration": 0.05274,
     "end_time": "2022-01-11T06:18:00.397012",
     "exception": false,
     "start_time": "2022-01-11T06:18:00.344272",
     "status": "completed"
    },
    "tags": []
   },
   "source": [
    "# Generating Images\n",
    "## Image 1"
   ]
  },
  {
   "cell_type": "code",
   "execution_count": null,
   "id": "f757a7ed",
   "metadata": {
    "execution": {
     "iopub.execute_input": "2022-01-11T06:18:00.508618Z",
     "iopub.status.busy": "2022-01-11T06:18:00.507851Z",
     "iopub.status.idle": "2022-01-11T06:18:00.510446Z",
     "shell.execute_reply": "2022-01-11T06:18:00.510862Z",
     "shell.execute_reply.started": "2022-01-11T06:03:16.930169Z"
    },
    "papermill": {
     "duration": 0.061663,
     "end_time": "2022-01-11T06:18:00.511051",
     "exception": false,
     "start_time": "2022-01-11T06:18:00.449388",
     "status": "completed"
    },
    "tags": []
   },
   "outputs": [],
   "source": [
    "image.shape, type(image)"
   ]
  },
  {
   "cell_type": "code",
   "execution_count": null,
   "id": "890e9f63",
   "metadata": {
    "execution": {
     "iopub.execute_input": "2022-01-11T06:18:00.625438Z",
     "iopub.status.busy": "2022-01-11T06:18:00.624666Z",
     "iopub.status.idle": "2022-01-11T06:20:12.587484Z",
     "shell.execute_reply": "2022-01-11T06:20:12.586533Z",
     "shell.execute_reply.started": "2022-01-11T06:03:16.944290Z"
    },
    "jupyter": {
     "outputs_hidden": true
    },
    "papermill": {
     "duration": 132.024219,
     "end_time": "2022-01-11T06:20:12.587641",
     "exception": false,
     "start_time": "2022-01-11T06:18:00.563422",
     "status": "completed"
    },
    "tags": []
   },
   "outputs": [],
   "source": [
    "run_deep_dream(network=deep_dream_model,\n",
    "               image=image,\n",
    "               epochs=8000,\n",
    "               learning_rate=0.0001\n",
    "              )"
   ]
  },
  {
   "cell_type": "markdown",
   "id": "2f980cc5",
   "metadata": {
    "papermill": {
     "duration": 1.191775,
     "end_time": "2022-01-11T06:20:14.941847",
     "exception": false,
     "start_time": "2022-01-11T06:20:13.750072",
     "status": "completed"
    },
    "tags": []
   },
   "source": [
    "## Image 2"
   ]
  },
  {
   "cell_type": "code",
   "execution_count": null,
   "id": "81c1a403",
   "metadata": {
    "execution": {
     "iopub.execute_input": "2022-01-11T06:20:17.490637Z",
     "iopub.status.busy": "2022-01-11T06:20:17.486928Z",
     "iopub.status.idle": "2022-01-11T06:20:18.118703Z",
     "shell.execute_reply": "2022-01-11T06:20:18.119125Z"
    },
    "papermill": {
     "duration": 2.000162,
     "end_time": "2022-01-11T06:20:18.119275",
     "exception": false,
     "start_time": "2022-01-11T06:20:16.119113",
     "status": "completed"
    },
    "tags": []
   },
   "outputs": [],
   "source": [
    "image = tf.keras.preprocessing.image.load_img('../input/deepdream/sky.jpeg',\n",
    "                                              target_size = (225, 375))\n",
    "plt.figure(figsize=(15,15))\n",
    "plt.axis('off')\n",
    "plt.imshow(image);"
   ]
  },
  {
   "cell_type": "code",
   "execution_count": null,
   "id": "0d1b39ac",
   "metadata": {
    "execution": {
     "iopub.execute_input": "2022-01-11T06:20:20.477682Z",
     "iopub.status.busy": "2022-01-11T06:20:20.476778Z",
     "iopub.status.idle": "2022-01-11T06:20:20.478573Z",
     "shell.execute_reply": "2022-01-11T06:20:20.479068Z"
    },
    "papermill": {
     "duration": 1.189422,
     "end_time": "2022-01-11T06:20:20.479205",
     "exception": false,
     "start_time": "2022-01-11T06:20:19.289783",
     "status": "completed"
    },
    "tags": []
   },
   "outputs": [],
   "source": [
    "image = tf.keras.preprocessing.image.img_to_array(image)\n",
    "image = tf.keras.applications.inception_v3.preprocess_input(image)"
   ]
  },
  {
   "cell_type": "code",
   "execution_count": null,
   "id": "8a3ae6ef",
   "metadata": {
    "execution": {
     "iopub.execute_input": "2022-01-11T06:20:23.050306Z",
     "iopub.status.busy": "2022-01-11T06:20:23.049347Z",
     "iopub.status.idle": "2022-01-11T06:22:38.031811Z",
     "shell.execute_reply": "2022-01-11T06:22:38.031296Z"
    },
    "papermill": {
     "duration": 136.368448,
     "end_time": "2022-01-11T06:22:38.031953",
     "exception": false,
     "start_time": "2022-01-11T06:20:21.663505",
     "status": "completed"
    },
    "tags": []
   },
   "outputs": [],
   "source": [
    "run_deep_dream(network = deep_dream_model, image = image, epochs = 8000, learning_rate = 0.0001)"
   ]
  }
 ],
 "metadata": {
  "kernelspec": {
   "display_name": "Python 3",
   "language": "python",
   "name": "python3"
  },
  "language_info": {
   "codemirror_mode": {
    "name": "ipython",
    "version": 3
   },
   "file_extension": ".py",
   "mimetype": "text/x-python",
   "name": "python",
   "nbconvert_exporter": "python",
   "pygments_lexer": "ipython3",
   "version": "3.8.8"
  },
  "papermill": {
   "default_parameters": {},
   "duration": 310.872624,
   "end_time": "2022-01-11T06:22:44.023653",
   "environment_variables": {},
   "exception": null,
   "input_path": "__notebook__.ipynb",
   "output_path": "__notebook__.ipynb",
   "parameters": {},
   "start_time": "2022-01-11T06:17:33.151029",
   "version": "2.3.3"
  }
 },
 "nbformat": 4,
 "nbformat_minor": 5
}
