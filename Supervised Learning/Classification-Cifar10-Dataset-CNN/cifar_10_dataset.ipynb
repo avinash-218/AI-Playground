{
 "cells": [
  {
   "cell_type": "code",
   "execution_count": 1,
   "metadata": {},
   "outputs": [],
   "source": [
    "#importing libraries\n",
    "import tensorflow as tf\n",
    "from tensorflow.keras import datasets,layers,models\n",
    "import matplotlib.pyplot as plt"
   ]
  },
  {
   "cell_type": "code",
   "execution_count": 2,
   "metadata": {},
   "outputs": [],
   "source": [
    "(train_images,train_labels),(test_images,test_labels) = datasets.cifar10.load_data()\n",
    "\n",
    "#normalizing the dataset from 0 to 1\n",
    "train_images,test_images = train_images/255.0 , test_images/255.0"
   ]
  },
  {
   "cell_type": "code",
   "execution_count": 3,
   "metadata": {},
   "outputs": [],
   "source": [
    "#build CNN\n",
    "model = models.Sequential()\n",
    "model.add(layers.Conv2D(32,(3,3),activation='relu',input_shape=(32,32,3)))\n",
    "model.add(layers.MaxPooling2D((2,2)))\n",
    "model.add(layers.Conv2D(64,(3,3),activation='relu'))\n",
    "model.add(layers.MaxPooling2D((2,2)))\n",
    "model.add(layers.Conv2D(64,(3,3),activation='relu'))"
   ]
  },
  {
   "cell_type": "code",
   "execution_count": 4,
   "metadata": {},
   "outputs": [
    {
     "name": "stdout",
     "output_type": "stream",
     "text": [
      "Model: \"sequential\"\n",
      "_________________________________________________________________\n",
      "Layer (type)                 Output Shape              Param #   \n",
      "=================================================================\n",
      "conv2d (Conv2D)              (None, 30, 30, 32)        896       \n",
      "_________________________________________________________________\n",
      "max_pooling2d (MaxPooling2D) (None, 15, 15, 32)        0         \n",
      "_________________________________________________________________\n",
      "conv2d_1 (Conv2D)            (None, 13, 13, 64)        18496     \n",
      "_________________________________________________________________\n",
      "max_pooling2d_1 (MaxPooling2 (None, 6, 6, 64)          0         \n",
      "_________________________________________________________________\n",
      "conv2d_2 (Conv2D)            (None, 4, 4, 64)          36928     \n",
      "=================================================================\n",
      "Total params: 56,320\n",
      "Trainable params: 56,320\n",
      "Non-trainable params: 0\n",
      "_________________________________________________________________\n"
     ]
    }
   ],
   "source": [
    "#display architecture of our model\n",
    "model.summary()"
   ]
  },
  {
   "cell_type": "code",
   "execution_count": 5,
   "metadata": {},
   "outputs": [],
   "source": [
    "#add dense layers\n",
    "model.add(layers.Flatten())\n",
    "model.add(layers.Dense(64,activation='relu'))\n",
    "model.add(layers.Dense(10))"
   ]
  },
  {
   "cell_type": "code",
   "execution_count": 6,
   "metadata": {},
   "outputs": [
    {
     "name": "stdout",
     "output_type": "stream",
     "text": [
      "Model: \"sequential\"\n",
      "_________________________________________________________________\n",
      "Layer (type)                 Output Shape              Param #   \n",
      "=================================================================\n",
      "conv2d (Conv2D)              (None, 30, 30, 32)        896       \n",
      "_________________________________________________________________\n",
      "max_pooling2d (MaxPooling2D) (None, 15, 15, 32)        0         \n",
      "_________________________________________________________________\n",
      "conv2d_1 (Conv2D)            (None, 13, 13, 64)        18496     \n",
      "_________________________________________________________________\n",
      "max_pooling2d_1 (MaxPooling2 (None, 6, 6, 64)          0         \n",
      "_________________________________________________________________\n",
      "conv2d_2 (Conv2D)            (None, 4, 4, 64)          36928     \n",
      "_________________________________________________________________\n",
      "flatten (Flatten)            (None, 1024)              0         \n",
      "_________________________________________________________________\n",
      "dense (Dense)                (None, 64)                65600     \n",
      "_________________________________________________________________\n",
      "dense_1 (Dense)              (None, 10)                650       \n",
      "=================================================================\n",
      "Total params: 122,570\n",
      "Trainable params: 122,570\n",
      "Non-trainable params: 0\n",
      "_________________________________________________________________\n"
     ]
    }
   ],
   "source": [
    "model.summary()"
   ]
  },
  {
   "cell_type": "code",
   "execution_count": 7,
   "metadata": {},
   "outputs": [
    {
     "name": "stdout",
     "output_type": "stream",
     "text": [
      "Train on 50000 samples, validate on 10000 samples\n",
      "Epoch 1/10\n",
      "50000/50000 [==============================] - 21s 418us/sample - loss: 1.5195 - accuracy: 0.4441 - val_loss: 1.2605 - val_accuracy: 0.5511\n",
      "Epoch 2/10\n",
      "50000/50000 [==============================] - 14s 284us/sample - loss: 1.1493 - accuracy: 0.5942 - val_loss: 1.0823 - val_accuracy: 0.6113\n",
      "Epoch 3/10\n",
      "50000/50000 [==============================] - 10s 204us/sample - loss: 0.9977 - accuracy: 0.6486 - val_loss: 0.9896 - val_accuracy: 0.6499\n",
      "Epoch 4/10\n",
      "50000/50000 [==============================] - 10s 195us/sample - loss: 0.9081 - accuracy: 0.6825 - val_loss: 0.9111 - val_accuracy: 0.6775\n",
      "Epoch 5/10\n",
      "50000/50000 [==============================] - 11s 218us/sample - loss: 0.8324 - accuracy: 0.7075 - val_loss: 0.8863 - val_accuracy: 0.6872\n",
      "Epoch 6/10\n",
      "50000/50000 [==============================] - 10s 205us/sample - loss: 0.7753 - accuracy: 0.7276 - val_loss: 0.8731 - val_accuracy: 0.6971\n",
      "Epoch 7/10\n",
      "50000/50000 [==============================] - 10s 195us/sample - loss: 0.7218 - accuracy: 0.7446 - val_loss: 0.8863 - val_accuracy: 0.6955\n",
      "Epoch 8/10\n",
      "50000/50000 [==============================] - 10s 192us/sample - loss: 0.6767 - accuracy: 0.7631 - val_loss: 0.9164 - val_accuracy: 0.6980\n",
      "Epoch 9/10\n",
      "50000/50000 [==============================] - 9s 188us/sample - loss: 0.6415 - accuracy: 0.7747 - val_loss: 0.8358 - val_accuracy: 0.7207\n",
      "Epoch 10/10\n",
      "50000/50000 [==============================] - 9s 189us/sample - loss: 0.5968 - accuracy: 0.7886 - val_loss: 0.9200 - val_accuracy: 0.6952\n"
     ]
    }
   ],
   "source": [
    "#compile and train the model\n",
    "model.compile(optimizer='adam',loss=tf.keras.losses.SparseCategoricalCrossentropy(from_logits=True),metrics=['accuracy'])\n",
    "\n",
    "history = model.fit(train_images,train_labels,epochs=10,validation_data=(test_images,test_labels))"
   ]
  },
  {
   "cell_type": "code",
   "execution_count": 8,
   "metadata": {},
   "outputs": [
    {
     "name": "stdout",
     "output_type": "stream",
     "text": [
      "10000/10000 - 1s - loss: 0.9200 - accuracy: 0.6952\n"
     ]
    }
   ],
   "source": [
    "#evaluate the model\n",
    "test_loss , test_acc = model.evaluate(test_images,test_labels,verbose=2)"
   ]
  },
  {
   "cell_type": "code",
   "execution_count": 9,
   "metadata": {},
   "outputs": [
    {
     "name": "stdout",
     "output_type": "stream",
     "text": [
      "0.6952\n"
     ]
    }
   ],
   "source": [
    "print(test_acc)"
   ]
  },
  {
   "cell_type": "code",
   "execution_count": null,
   "metadata": {},
   "outputs": [],
   "source": []
  }
 ],
 "metadata": {
  "kernelspec": {
   "display_name": "Python 3",
   "language": "python",
   "name": "python3"
  },
  "language_info": {
   "codemirror_mode": {
    "name": "ipython",
    "version": 3
   },
   "file_extension": ".py",
   "mimetype": "text/x-python",
   "name": "python",
   "nbconvert_exporter": "python",
   "pygments_lexer": "ipython3",
   "version": "3.7.9"
  }
 },
 "nbformat": 4,
 "nbformat_minor": 4
}
