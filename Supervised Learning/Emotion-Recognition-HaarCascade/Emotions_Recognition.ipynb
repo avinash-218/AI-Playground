{
 "cells": [
  {
   "cell_type": "markdown",
   "metadata": {
    "id": "lX2OT3QdF5wK"
   },
   "source": [
    "# Import Libraries"
   ]
  },
  {
   "cell_type": "code",
   "execution_count": null,
   "metadata": {
    "id": "K8HNweauF7np"
   },
   "outputs": [],
   "source": [
    "import cv2\n",
    "import numpy as np\n",
    "import matplotlib.pyplot as plt\n",
    "import seaborn as sns\n",
    "import zipfile\n",
    "import tensorflow as tf\n",
    "from tensorflow.keras.preprocessing.image import ImageDataGenerator\n",
    "from tensorflow.keras.models import Sequential\n",
    "from tensorflow.keras.layers import Dense, Dropout, Conv2D, MaxPooling2D, Flatten, BatchNormalization"
   ]
  },
  {
   "cell_type": "markdown",
   "metadata": {
    "id": "idPcQiMUG9TK"
   },
   "source": [
    "# Load Images"
   ]
  },
  {
   "cell_type": "code",
   "execution_count": null,
   "metadata": {
    "id": "p7hElNo3GsYp"
   },
   "outputs": [],
   "source": [
    "path = './fer_images.zip'\n",
    "zip_object = zipfile.ZipFile(file=path, mode='r')\n",
    "zip_object.extractall('./')\n",
    "zip_object.close()"
   ]
  },
  {
   "cell_type": "code",
   "execution_count": null,
   "metadata": {
    "colab": {
     "base_uri": "https://localhost:8080/",
     "height": 65
    },
    "id": "-eOAI3IaHDDV",
    "outputId": "448708c9-3c8f-43ff-9c52-a0bfd20fcd3e"
   },
   "outputs": [],
   "source": [
    "image = tf.keras.preprocessing.image.load_img('./fer2013/train/Angry/1003.jpg')\n",
    "image"
   ]
  },
  {
   "cell_type": "markdown",
   "metadata": {
    "id": "do_CkXIpHYse"
   },
   "source": [
    "# Train Test Split"
   ]
  },
  {
   "cell_type": "code",
   "execution_count": null,
   "metadata": {
    "colab": {
     "base_uri": "https://localhost:8080/"
    },
    "id": "dBcxrEF2HaSY",
    "outputId": "605a75fa-50b2-4b0d-856c-5a21094cbb15"
   },
   "outputs": [],
   "source": [
    "train_generator = ImageDataGenerator(rescale=1./255,\n",
    "                                     rotation_range=7,\n",
    "                                     horizontal_flip=True,\n",
    "                                     zoom_range=0.2)\n",
    "\n",
    "train_dataset = train_generator.flow_from_directory('./fer2013/train',\n",
    "                                                    target_size=(48, 48),\n",
    "                                                    batch_size=16,\n",
    "                                                    class_mode='categorical',\n",
    "                                                    shuffle=True)"
   ]
  },
  {
   "cell_type": "code",
   "execution_count": null,
   "metadata": {
    "colab": {
     "base_uri": "https://localhost:8080/"
    },
    "id": "VUPV2OeWHDBk",
    "outputId": "0358ca77-b378-41df-9809-c8b6e61d1798"
   },
   "outputs": [],
   "source": [
    "train_dataset.classes"
   ]
  },
  {
   "cell_type": "code",
   "execution_count": null,
   "metadata": {
    "colab": {
     "base_uri": "https://localhost:8080/"
    },
    "id": "eTM8S3tpHC_B",
    "outputId": "895ee41c-3b66-4081-e6bc-715de3e3856a"
   },
   "outputs": [],
   "source": [
    "np.unique(train_dataset.classes, return_counts=True) #count of each classes"
   ]
  },
  {
   "cell_type": "code",
   "execution_count": null,
   "metadata": {
    "colab": {
     "base_uri": "https://localhost:8080/"
    },
    "id": "F_PUVEzZHC8r",
    "outputId": "43b49172-edbf-4ab5-dd5b-d5ad2110fe5d"
   },
   "outputs": [],
   "source": [
    "train_dataset.class_indices #label of each classes"
   ]
  },
  {
   "cell_type": "code",
   "execution_count": null,
   "metadata": {
    "colab": {
     "base_uri": "https://localhost:8080/",
     "height": 265
    },
    "id": "7XJbLPZaIeT7",
    "outputId": "a1742f01-b1ec-4c10-89d9-d6f0965a6d53"
   },
   "outputs": [],
   "source": [
    "sns.countplot(x=train_dataset.classes);"
   ]
  },
  {
   "cell_type": "code",
   "execution_count": null,
   "metadata": {
    "colab": {
     "base_uri": "https://localhost:8080/"
    },
    "id": "mnl3XFcOHC6W",
    "outputId": "6303e811-0e4a-4c14-cbe8-0daa750c137e"
   },
   "outputs": [],
   "source": [
    "test_generator = ImageDataGenerator(rescale=1./255)\n",
    "\n",
    "test_dataset = train_generator.flow_from_directory('./fer2013/validation',\n",
    "                                                    target_size=(48, 48),\n",
    "                                                    batch_size=1,\n",
    "                                                    class_mode='categorical',\n",
    "                                                    shuffle=False)"
   ]
  },
  {
   "cell_type": "markdown",
   "metadata": {
    "id": "zuAY-73YI1ot"
   },
   "source": [
    "# Building CNN"
   ]
  },
  {
   "cell_type": "code",
   "execution_count": null,
   "metadata": {
    "colab": {
     "base_uri": "https://localhost:8080/"
    },
    "id": "YjIrVy8mHC4P",
    "outputId": "786e48ed-a82d-4555-be9d-90d7a48d738a"
   },
   "outputs": [],
   "source": [
    "num_detectors = 32\n",
    "num_classes = 7\n",
    "width, height = 48, 48\n",
    "epochs = 70\n",
    "\n",
    "network = Sequential()\n",
    "\n",
    "network.add(Conv2D(num_detectors, (3,3), activation='relu', padding = 'same', input_shape = (width, height, 3)))\n",
    "network.add(BatchNormalization())\n",
    "network.add(Conv2D(num_detectors, (3,3), activation='relu', padding = 'same'))\n",
    "network.add(BatchNormalization())\n",
    "network.add(MaxPooling2D(pool_size=(2,2)))\n",
    "network.add(Dropout(0.2))\n",
    "\n",
    "network.add(Conv2D(2*num_detectors, (3,3), activation='relu', padding = 'same'))\n",
    "network.add(BatchNormalization())\n",
    "network.add(Conv2D(2*num_detectors, (3,3), activation='relu', padding = 'same'))\n",
    "network.add(BatchNormalization())\n",
    "network.add(MaxPooling2D(pool_size=(2,2)))\n",
    "network.add(Dropout(0.2))\n",
    "\n",
    "network.add(Conv2D(2*2*num_detectors, (3,3), activation='relu', padding = 'same'))\n",
    "network.add(BatchNormalization())\n",
    "network.add(Conv2D(2*2*num_detectors, (3,3), activation='relu', padding = 'same'))\n",
    "network.add(BatchNormalization())\n",
    "network.add(MaxPooling2D(pool_size=(2,2)))\n",
    "network.add(Dropout(0.2))\n",
    "\n",
    "network.add(Conv2D(2*2*2*num_detectors, (3,3), activation='relu', padding = 'same'))\n",
    "network.add(BatchNormalization())\n",
    "network.add(Conv2D(2*2*2*num_detectors, (3,3), activation='relu', padding = 'same'))\n",
    "network.add(BatchNormalization())\n",
    "network.add(MaxPooling2D(pool_size=(2,2)))\n",
    "network.add(Dropout(0.2))\n",
    "\n",
    "network.add(Flatten())\n",
    "\n",
    "network.add(Dense(2 * num_detectors, activation='relu'))\n",
    "network.add(BatchNormalization())\n",
    "network.add(Dropout(0.2))\n",
    "\n",
    "network.add(Dense(2 * num_detectors, activation='relu'))\n",
    "network.add(BatchNormalization())\n",
    "network.add(Dropout(0.2))\n",
    "\n",
    "network.add(Dense(num_classes, activation='softmax'))\n",
    "print(network.summary())"
   ]
  },
  {
   "cell_type": "code",
   "execution_count": null,
   "metadata": {
    "id": "TahIk0dxHC18"
   },
   "outputs": [],
   "source": [
    "network.compile(optimizer='Adam', loss='categorical_crossentropy', metrics=['accuracy'])"
   ]
  },
  {
   "cell_type": "code",
   "execution_count": null,
   "metadata": {
    "colab": {
     "base_uri": "https://localhost:8080/"
    },
    "id": "miZnORHdHCze",
    "outputId": "9800d357-0fa6-4e14-83d6-5b4d5234b1dd"
   },
   "outputs": [],
   "source": [
    "network.fit(train_dataset, epochs=epochs)"
   ]
  },
  {
   "cell_type": "markdown",
   "metadata": {
    "id": "MTaE0BSXcPuk"
   },
   "source": [
    "# Save and Load Model"
   ]
  },
  {
   "cell_type": "code",
   "execution_count": null,
   "metadata": {
    "id": "kU8dlW_THCw9"
   },
   "outputs": [],
   "source": [
    "model_json = network.to_json()\n",
    "with open('network_emotions.json', 'w') as json_file:\n",
    "    json_file.write(model_json)"
   ]
  },
  {
   "cell_type": "code",
   "execution_count": null,
   "metadata": {
    "id": "hJjoRVMJcCtj"
   },
   "outputs": [],
   "source": [
    "from keras.models import save_model\n",
    "network_saved = save_model(network, './content/weights_emotions.hdf5')"
   ]
  },
  {
   "cell_type": "code",
   "execution_count": null,
   "metadata": {
    "colab": {
     "base_uri": "https://localhost:8080/",
     "height": 122
    },
    "id": "z1un2QLNcCkD",
    "outputId": "b594d875-d3c0-48eb-cf78-2ee15993d698"
   },
   "outputs": [],
   "source": [
    "with open('./network_emotions.json', 'r') as json_file:\n",
    "    json_saved_model = json_file.read()\n",
    "json_saved_model"
   ]
  },
  {
   "cell_type": "code",
   "execution_count": null,
   "metadata": {
    "colab": {
     "base_uri": "https://localhost:8080/"
    },
    "id": "M9E2LS5FbFly",
    "outputId": "3c06f5bb-703f-4f07-a85b-21dc08aa86b2"
   },
   "outputs": [],
   "source": [
    "network_loaded = tf.keras.models.model_from_json(json_saved_model)\n",
    "network_loaded.load_weights('./weights_emotions.hdf5')\n",
    "network_loaded.compile(loss='categorical_crossentropy', optimizer='Adam', metrics=['accuracy'])\n",
    "network_loaded.summary()"
   ]
  },
  {
   "cell_type": "markdown",
   "metadata": {
    "id": "61wu5rILe65V"
   },
   "source": [
    "# Evaluate Model"
   ]
  },
  {
   "cell_type": "code",
   "execution_count": null,
   "metadata": {
    "colab": {
     "base_uri": "https://localhost:8080/"
    },
    "id": "u4VUB7ooMEXI",
    "outputId": "383f4272-3f9c-4a0e-b117-e78efb0facdd"
   },
   "outputs": [],
   "source": [
    "network_loaded.evaluate(test_dataset)"
   ]
  },
  {
   "cell_type": "code",
   "execution_count": null,
   "metadata": {
    "colab": {
     "base_uri": "https://localhost:8080/"
    },
    "id": "5mC0_mJrHCuj",
    "outputId": "a26b3603-71b5-4df1-c5fb-b37bbc1111a1"
   },
   "outputs": [],
   "source": [
    "predictions = network_loaded.predict(test_dataset)\n",
    "predictions"
   ]
  },
  {
   "cell_type": "code",
   "execution_count": null,
   "metadata": {
    "colab": {
     "base_uri": "https://localhost:8080/"
    },
    "id": "3pqH4ghcHCgd",
    "outputId": "62e752a1-fca9-4cd0-c64a-4dee0857803f"
   },
   "outputs": [],
   "source": [
    "predictions = np.argmax(predictions, axis=1)\n",
    "predictions"
   ]
  },
  {
   "cell_type": "code",
   "execution_count": null,
   "metadata": {
    "colab": {
     "base_uri": "https://localhost:8080/"
    },
    "id": "gOSWlU_gSjgs",
    "outputId": "ef27c031-90a4-4ce4-82a2-39a3002ca6e5"
   },
   "outputs": [],
   "source": [
    "test_dataset.classes"
   ]
  },
  {
   "cell_type": "code",
   "execution_count": null,
   "metadata": {
    "colab": {
     "base_uri": "https://localhost:8080/"
    },
    "id": "A5PR09G4fiXX",
    "outputId": "f540ca49-9f64-412c-ae1e-013a8e1b63f7"
   },
   "outputs": [],
   "source": [
    "from sklearn.metrics import accuracy_score\n",
    "accuracy_score(test_dataset.classes, predictions)"
   ]
  },
  {
   "cell_type": "code",
   "execution_count": null,
   "metadata": {
    "colab": {
     "base_uri": "https://localhost:8080/"
    },
    "id": "BsKUfT1EfiUi",
    "outputId": "a8c371e7-005c-402f-9a89-73ab4b2877d2"
   },
   "outputs": [],
   "source": [
    "test_dataset.class_indices"
   ]
  },
  {
   "cell_type": "code",
   "execution_count": null,
   "metadata": {
    "colab": {
     "base_uri": "https://localhost:8080/"
    },
    "id": "TXstt-o1fiST",
    "outputId": "f75243e1-e067-47e3-a454-0cdb7a7696f1"
   },
   "outputs": [],
   "source": [
    "from sklearn.metrics import confusion_matrix\n",
    "cm = confusion_matrix(test_dataset.classes, predictions)\n",
    "cm"
   ]
  },
  {
   "cell_type": "code",
   "execution_count": null,
   "metadata": {
    "colab": {
     "base_uri": "https://localhost:8080/",
     "height": 265
    },
    "id": "B-jJdkAffiPy",
    "outputId": "79b5618e-b23b-49c7-9178-ff0bc1488a13"
   },
   "outputs": [],
   "source": [
    "sns.heatmap(cm, annot=True);"
   ]
  },
  {
   "cell_type": "code",
   "execution_count": null,
   "metadata": {
    "colab": {
     "base_uri": "https://localhost:8080/"
    },
    "id": "Gv_DSR1ifiNa",
    "outputId": "754a5dcf-fa23-4582-ae66-ac3dc60e2f13"
   },
   "outputs": [],
   "source": [
    "from sklearn.metrics import classification_report\n",
    "print(classification_report(test_dataset.classes, predictions))"
   ]
  },
  {
   "cell_type": "markdown",
   "metadata": {
    "id": "Rq_f4WFggoN8"
   },
   "source": [
    "# Classify one image"
   ]
  },
  {
   "cell_type": "code",
   "execution_count": null,
   "metadata": {
    "colab": {
     "base_uri": "https://localhost:8080/",
     "height": 317
    },
    "id": "971WI-nwgmpz",
    "outputId": "a3d1cf0f-d5a2-4bbf-d432-f0fede3e697d"
   },
   "outputs": [],
   "source": [
    "image = cv2.imread('./gabriel.png')\n",
    "tf.keras.preprocessing.image.load_img('./gabriel.png')"
   ]
  },
  {
   "cell_type": "code",
   "execution_count": null,
   "metadata": {
    "id": "qLoysi7chG23"
   },
   "outputs": [],
   "source": [
    "face_detector = cv2.CascadeClassifier('./haarcascade_frontalface_default.xml')"
   ]
  },
  {
   "cell_type": "code",
   "execution_count": null,
   "metadata": {
    "colab": {
     "base_uri": "https://localhost:8080/"
    },
    "id": "IXfgL8XdhGyG",
    "outputId": "49019cc4-e64a-45de-e919-ad858636a3a6"
   },
   "outputs": [],
   "source": [
    "original_image = image.copy()\n",
    "faces = face_detector.detectMultiScale(original_image)\n",
    "faces"
   ]
  },
  {
   "cell_type": "code",
   "execution_count": null,
   "metadata": {
    "colab": {
     "base_uri": "https://localhost:8080/",
     "height": 145
    },
    "id": "46ccslZThGpp",
    "outputId": "e8181a06-e291-47d2-fd8f-156eff2018f0"
   },
   "outputs": [],
   "source": [
    "#roi = region_of_image\n",
    "roi = image[40:40+128, 162:162+128]\n",
    "tf.keras.preprocessing.image.array_to_img(roi)"
   ]
  },
  {
   "cell_type": "code",
   "execution_count": null,
   "metadata": {
    "colab": {
     "base_uri": "https://localhost:8080/"
    },
    "id": "S2Fb3vsThGg_",
    "outputId": "78bde1b9-4d08-4365-db1c-32c70cbcb24c"
   },
   "outputs": [],
   "source": [
    "roi.shape"
   ]
  },
  {
   "cell_type": "code",
   "execution_count": null,
   "metadata": {
    "colab": {
     "base_uri": "https://localhost:8080/",
     "height": 65
    },
    "id": "O7CwJbWakRTF",
    "outputId": "367c62d5-64aa-4c0f-b44b-df23080e3957"
   },
   "outputs": [],
   "source": [
    "roi = cv2.resize(roi, (48, 48))\n",
    "tf.keras.preprocessing.image.array_to_img(roi)"
   ]
  },
  {
   "cell_type": "code",
   "execution_count": null,
   "metadata": {
    "id": "uL870pNdkUBg"
   },
   "outputs": [],
   "source": [
    "roi = roi / 255 #normalize"
   ]
  },
  {
   "cell_type": "code",
   "execution_count": null,
   "metadata": {
    "colab": {
     "base_uri": "https://localhost:8080/"
    },
    "id": "-bWqiCiikT_T",
    "outputId": "a7516f5f-b756-4392-ff56-3aacbcccb76b"
   },
   "outputs": [],
   "source": [
    "roi.shape"
   ]
  },
  {
   "cell_type": "code",
   "execution_count": null,
   "metadata": {
    "colab": {
     "base_uri": "https://localhost:8080/"
    },
    "id": "bN-erRZxkT88",
    "outputId": "f71a0e6f-0349-44a0-9fe5-1b3b3d45f563"
   },
   "outputs": [],
   "source": [
    "roi = np.expand_dims(roi, axis=0)\n",
    "roi.shape"
   ]
  },
  {
   "cell_type": "code",
   "execution_count": null,
   "metadata": {
    "colab": {
     "base_uri": "https://localhost:8080/"
    },
    "id": "Ta7fTfSNkT6v",
    "outputId": "8eb04829-c3a1-4a7c-ef19-74b52d54965f"
   },
   "outputs": [],
   "source": [
    "probs = network_loaded.predict(roi)\n",
    "probs"
   ]
  },
  {
   "cell_type": "code",
   "execution_count": null,
   "metadata": {
    "colab": {
     "base_uri": "https://localhost:8080/"
    },
    "id": "pqwxxRSQkT4b",
    "outputId": "364381f1-34a9-4328-b46d-3356f07ddeed"
   },
   "outputs": [],
   "source": [
    "result = np.argmax(probs)\n",
    "result, test_dataset.class_indices['Happy']"
   ]
  },
  {
   "cell_type": "markdown",
   "metadata": {
    "id": "U5pSlVCmlLBk"
   },
   "source": [
    "# Classify multiple images"
   ]
  },
  {
   "cell_type": "code",
   "execution_count": null,
   "metadata": {
    "colab": {
     "base_uri": "https://localhost:8080/",
     "height": 412
    },
    "id": "7nRvFU1YleFN",
    "outputId": "414ad057-4e18-4ac6-81b2-caf093e2b077"
   },
   "outputs": [],
   "source": [
    "image = cv2.imread('./faces_emotions.png')\n",
    "tf.keras.preprocessing.image.load_img('./faces_emotions.png')"
   ]
  },
  {
   "cell_type": "code",
   "execution_count": null,
   "metadata": {
    "colab": {
     "base_uri": "https://localhost:8080/"
    },
    "id": "G0oTgncIlKD1",
    "outputId": "44b2e971-517c-4551-920b-81274e4f89af"
   },
   "outputs": [],
   "source": [
    "faces = face_detector.detectMultiScale(image)\n",
    "faces"
   ]
  },
  {
   "cell_type": "code",
   "execution_count": null,
   "metadata": {
    "colab": {
     "base_uri": "https://localhost:8080/"
    },
    "id": "apFw6Nd4kT2A",
    "outputId": "311cac00-4857-439d-82d7-6288049ac4e2"
   },
   "outputs": [],
   "source": [
    "emotions = list(test_dataset.class_indices.keys())\n",
    "emotions"
   ]
  },
  {
   "cell_type": "code",
   "execution_count": null,
   "metadata": {
    "colab": {
     "base_uri": "https://localhost:8080/",
     "height": 412
    },
    "id": "cukQZ4LAkTzT",
    "outputId": "93a70064-83a3-4415-c5f8-f9f929b5c606"
   },
   "outputs": [],
   "source": [
    "for (x, y, w, h) in faces:\n",
    "    cv2.rectangle(image, (x,y), (x+w,y+h), (0,255,0), 2)\n",
    "tf.keras.preprocessing.image.array_to_img(image)"
   ]
  },
  {
   "cell_type": "code",
   "execution_count": null,
   "metadata": {
    "colab": {
     "base_uri": "https://localhost:8080/",
     "height": 412
    },
    "id": "0KivNk0Ol23Q",
    "outputId": "70da3eb4-aa16-4c0e-e0a4-7ccf495ee39b"
   },
   "outputs": [],
   "source": [
    "for (x, y, w, h) in faces:\n",
    "    cv2.rectangle(image, (x,y), (x+w,y+h), (0,255,0), 2)\n",
    "    roi = image[y:y+h, x:x+w]\n",
    "    roi = cv2.resize(roi, (48,48))\n",
    "    roi = roi / 255\n",
    "    roi = np.expand_dims(roi, axis=0)\n",
    "    prediction = network_loaded.predict(roi)\n",
    "    result = np.argmax(prediction)\n",
    "    cv2.putText(image, emotions[result], (x,y-10), cv2.FONT_HERSHEY_SIMPLEX, 0.6, (0,255,0), 2, cv2.LINE_AA)\n",
    "tf.keras.preprocessing.image.array_to_img(image)"
   ]
  },
  {
   "cell_type": "markdown",
   "metadata": {
    "id": "FXCACDvxoEIH"
   },
   "source": [
    "# Classify in Videos"
   ]
  },
  {
   "cell_type": "code",
   "execution_count": null,
   "metadata": {
    "colab": {
     "base_uri": "https://localhost:8080/"
    },
    "id": "HbRuxTiql20o",
    "outputId": "823354df-2787-4576-b461-3a3f7b475bd3"
   },
   "outputs": [],
   "source": [
    "cap = cv2.VideoCapture('./emotion_test06.MOV')\n",
    "connected, video = cap.read()\n",
    "print(connected, video.shape)"
   ]
  },
  {
   "cell_type": "code",
   "execution_count": null,
   "metadata": {
    "id": "Ta3udR6Ll2vD"
   },
   "outputs": [],
   "source": [
    "save_path = './emotion_test06_result.MOV'\n",
    "fourcc = cv2.VideoWriter_fourcc(*'XVID')\n",
    "fps = 24\n",
    "output_video = cv2.VideoWriter(save_path, fourcc, fps, (video.shape[1], video.shape[0]))"
   ]
  },
  {
   "cell_type": "code",
   "execution_count": null,
   "metadata": {
    "colab": {
     "base_uri": "https://localhost:8080/",
     "height": 1000
    },
    "id": "U9UjaYoAqi9F",
    "outputId": "ef66d492-de35-4461-b7b3-70f0d67fc153",
    "scrolled": true
   },
   "outputs": [],
   "source": [
    "while(cv2.waitKey(1) < 0):\n",
    "    connected, frame = cap.read()\n",
    "    if not connected:\n",
    "        break\n",
    "    faces = face_detector.detectMultiScale(frame, scaleFactor=1.2, minNeighbors=5, minSize=(30,30))\n",
    "    if(len(faces)>0):\n",
    "        for(x,y,w,h) in faces:\n",
    "            frame = cv2.rectangle(frame, (x,y), (x+w,y+h), (0,255,0), 2)\n",
    "            roi = frame[y:y+h, x:x+w]\n",
    "            roi = cv2.resize(roi, (48,48))\n",
    "            roi = roi / 255\n",
    "            roi = np.expand_dims(roi, axis=0)\n",
    "            prediction = network_loaded.predict(roi)\n",
    "\n",
    "            if(prediction is not None):\n",
    "                result=np.argmax(prediction)\n",
    "                frame = cv2.putText(frame, emotions[result], (x,y-10), cv2.FONT_HERSHEY_SIMPLEX, 0.6, (0,255,0), 2, cv2.LINE_AA)\n",
    "                display(tf.keras.preprocessing.image.array_to_img(frame))\n",
    "                output_video.write(frame)\n",
    "output_video.release()\n",
    "cv2.destroyAllWindows()"
   ]
  }
 ],
 "metadata": {
  "accelerator": "GPU",
  "colab": {
   "collapsed_sections": [
    "lX2OT3QdF5wK",
    "idPcQiMUG9TK",
    "do_CkXIpHYse",
    "zuAY-73YI1ot",
    "MTaE0BSXcPuk",
    "61wu5rILe65V",
    "Rq_f4WFggoN8",
    "U5pSlVCmlLBk"
   ],
   "name": "Emotions Classification",
   "provenance": []
  },
  "kernelspec": {
   "display_name": "Python 3",
   "language": "python",
   "name": "python3"
  },
  "language_info": {
   "codemirror_mode": {
    "name": "ipython",
    "version": 3
   },
   "file_extension": ".py",
   "mimetype": "text/x-python",
   "name": "python",
   "nbconvert_exporter": "python",
   "pygments_lexer": "ipython3",
   "version": "3.8.8"
  }
 },
 "nbformat": 4,
 "nbformat_minor": 1
}
