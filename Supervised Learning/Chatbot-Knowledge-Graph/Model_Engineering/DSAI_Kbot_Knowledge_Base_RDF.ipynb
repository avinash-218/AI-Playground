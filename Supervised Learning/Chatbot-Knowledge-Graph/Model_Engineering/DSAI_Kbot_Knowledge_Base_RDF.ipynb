{
 "cells": [
  {
   "cell_type": "markdown",
   "metadata": {},
   "source": [
    "# Disclaimer:\n",
    "\n",
    "DeepSphere.AI developed these materials based on its team’s expertise and technical infrastructure, and we are sharing these materials strictly for learning and research.\n",
    "These learning resources may not work on other learning infrastructures and DeepSphere.AI advises the learners to use these materials at their own risk. As needed, we will\n",
    "be changing these materials without any notification and we have full ownership and accountability to make any change to these materials.\n",
    "\n",
    "<pre><b>Author :                          Chief Architect :       Reviewer :</b></pre>\n",
    "<hr>\n",
    "<pre>Avinash R & Jothi Periasamy       Jothi Periasamy         Jothi Periasamy</pre>"
   ]
  },
  {
   "cell_type": "markdown",
   "metadata": {
    "id": "v4-z7ugDDPjN"
   },
   "source": [
    "# Install Dependencies and Import Libraries"
   ]
  },
  {
   "cell_type": "code",
   "execution_count": 1,
   "metadata": {
    "id": "ccDeeG08DOJ3"
   },
   "outputs": [],
   "source": [
    "from rdflib import Graph, Namespace, Literal, URIRef\n",
    "from rdflib.namespace import RDF, XSD, FOAF\n",
    "import warnings\n",
    "warnings.filterwarnings('ignore')"
   ]
  },
  {
   "cell_type": "markdown",
   "metadata": {
    "id": "I10Avl4kDVdH"
   },
   "source": [
    "# Define Graph and Namespaces"
   ]
  },
  {
   "cell_type": "code",
   "execution_count": 2,
   "metadata": {
    "id": "fMpplvGKDXlN"
   },
   "outputs": [],
   "source": [
    "g = Graph()\n",
    "#defining namespaces\n",
    "EX = Namespace('http://example.org/') #root namespace called familytree\n",
    "RL = Namespace('http://purl.org/vocab/relationship/') #for relationship"
   ]
  },
  {
   "cell_type": "markdown",
   "metadata": {
    "id": "GvLGBWilDZW_"
   },
   "source": [
    "# Bind Namespaces to notations"
   ]
  },
  {
   "cell_type": "code",
   "execution_count": 3,
   "metadata": {
    "id": "lcx2_PuqDc--"
   },
   "outputs": [],
   "source": [
    "#binding namespaces\n",
    "g.namespace_manager.bind('exampleURI', EX)\n",
    "g.namespace_manager.bind('relation', RL)"
   ]
  },
  {
   "cell_type": "markdown",
   "metadata": {},
   "source": [
    "# Read Input File"
   ]
  },
  {
   "cell_type": "code",
   "execution_count": 4,
   "metadata": {},
   "outputs": [],
   "source": [
    "with open('../Utility/DSAI_Kbot_Knowledge_Graph_Input.txt') as f:\n",
    "    sentences = f.read().upper().splitlines()"
   ]
  },
  {
   "cell_type": "markdown",
   "metadata": {},
   "source": [
    "# Define Variables"
   ]
  },
  {
   "cell_type": "code",
   "execution_count": 5,
   "metadata": {},
   "outputs": [],
   "source": [
    "occupation = ['STUDENT', 'TEACHER']\n",
    "character = ['FRIENDLY', 'KIND', 'STRICT']\n",
    "college = ['MSEC', 'TCE']"
   ]
  },
  {
   "cell_type": "markdown",
   "metadata": {
    "id": "rTJrU3mlDez4"
   },
   "source": [
    "# Create Custom Knowledge Graph"
   ]
  },
  {
   "cell_type": "code",
   "execution_count": 6,
   "metadata": {},
   "outputs": [],
   "source": [
    "for s in sentences:#loop through each sentence\n",
    "    words = s.split()#convert to lower case and split sentences into words\n",
    "    if('PERSON' in words):# A is a Person\n",
    "        g.add((URIRef(EX+words[0]), RDF.type, FOAF.Person))\n",
    "        \n",
    "    elif('FRIEND' in words): # A is a friend of B\n",
    "        g.add((URIRef(EX[words[0]]), RL.friendOf, EX[words[-1]]))\n",
    "        \n",
    "    elif('OLD' in words): #A is x years old\n",
    "        g.add((EX[words[0]], EX.Age, Literal(words[2], datatype=XSD.int)))\n",
    "        \n",
    "    elif('INTEREST' in words): #A has interest in B\n",
    "        g.add((EX[words[0]], EX.Interest , URIRef(EX+words[-1])))\n",
    "        \n",
    "    elif('WORKS' in words): #A works at B\n",
    "        g.add((EX[words[0]], EX.WorksAt , URIRef(EX+words[-1])))\n",
    "        \n",
    "    elif(words[-1] in occupation): # A is a student / teacher\n",
    "        g.add((EX[words[0]], EX.Occupation , URIRef(EX+words[-1])))\n",
    "            \n",
    "    elif(words[-1] in character): # A is strict, friendly\n",
    "        g.add((EX[words[0]], EX.Character , URIRef(EX+words[-1])))\n",
    "            \n",
    "    elif('POSITION' in words): #A's position is  B\n",
    "        g.add((EX[words[0][:-2]], EX.Position , URIRef(EX+words[-1])))\n",
    "        \n",
    "    elif('STUDIES' in words): #A studies at B\n",
    "        g.add((EX[words[0]], EX.StudiesAt , URIRef(EX+words[-1])))\n",
    "        \n",
    "    elif('TEACHES' in words): #A teaches B\n",
    "        g.add((EX[words[0]], EX.Teaches , EX[words[-1]]))\n",
    "    \n",
    "    elif('PROGRAM' in words): # A completed B Program\n",
    "        g.add((EX[words[0]], EX.Completed , URIRef(EX+words[-2])))\n",
    "        \n",
    "    elif('PROJECT' in words): # A done project in B\n",
    "        g.add((EX[words[0]], EX.DoneProject , URIRef(EX+words[-1])))\n",
    "        \n",
    "    elif('GUIDED' in words): #A Guided B\n",
    "        g.add((EX[words[0]], EX.Guided , EX[words[-1]]))"
   ]
  },
  {
   "cell_type": "markdown",
   "metadata": {
    "id": "VOU2fBgTDnWI"
   },
   "source": [
    "# Populate Graph to File"
   ]
  },
  {
   "cell_type": "code",
   "execution_count": 7,
   "metadata": {},
   "outputs": [
    {
     "name": "stdout",
     "output_type": "stream",
     "text": [
      "@prefix exampleURI: <http://example.org/> .\n",
      "@prefix foaf: <http://xmlns.com/foaf/0.1/> .\n",
      "@prefix relation: <http://purl.org/vocab/relationship/> .\n",
      "@prefix xsd: <http://www.w3.org/2001/XMLSchema#> .\n",
      "\n",
      "exampleURI:LISA a foaf:Person ;\n",
      "    exampleURI:Age \"48\"^^xsd:int ;\n",
      "    exampleURI:Character exampleURI:STRICT ;\n",
      "    exampleURI:Completed exampleURI:PHD ;\n",
      "    exampleURI:Guided exampleURI:JOHN ;\n",
      "    exampleURI:Interest exampleURI:DS ;\n",
      "    exampleURI:Occupation exampleURI:TEACHER ;\n",
      "    exampleURI:Position exampleURI:PRINCIPAL ;\n",
      "    exampleURI:Teaches exampleURI:DS,\n",
      "        exampleURI:JOHN ;\n",
      "    exampleURI:WorksAt exampleURI:MSEC .\n",
      "\n",
      "exampleURI:MIKE a foaf:Person ;\n",
      "    exampleURI:Age \"18\"^^xsd:int ;\n",
      "    exampleURI:Character exampleURI:KIND ;\n",
      "    exampleURI:Completed exampleURI:ME ;\n",
      "    exampleURI:DoneProject exampleURI:BOOSTING_TECHNIQUES ;\n",
      "    exampleURI:Interest exampleURI:CODING ;\n",
      "    exampleURI:Occupation exampleURI:STUDENT ;\n",
      "    exampleURI:Position exampleURI:INTERN ;\n",
      "    exampleURI:StudiesAt exampleURI:TCE ;\n",
      "    exampleURI:WorksAt exampleURI:DEEPSPHERE ;\n",
      "    relation:friendOf exampleURI:JOHN .\n",
      "\n",
      "exampleURI:JOHN a foaf:Person ;\n",
      "    exampleURI:Age \"22\"^^xsd:int ;\n",
      "    exampleURI:Character exampleURI:FRIENDLY ;\n",
      "    exampleURI:Completed exampleURI:BE ;\n",
      "    exampleURI:DoneProject exampleURI:CONVERSATIONAL_AI ;\n",
      "    exampleURI:Interest exampleURI:BLOGGING ;\n",
      "    exampleURI:Occupation exampleURI:STUDENT ;\n",
      "    exampleURI:Position exampleURI:INTERN ;\n",
      "    exampleURI:StudiesAt exampleURI:MSEC ;\n",
      "    exampleURI:WorksAt exampleURI:DEEPSPHERE ;\n",
      "    relation:friendOf exampleURI:MIKE .\n",
      "\n",
      "\n"
     ]
    }
   ],
   "source": [
    "print(g.serialize(format=\"turtle\"))"
   ]
  },
  {
   "cell_type": "code",
   "execution_count": 8,
   "metadata": {
    "colab": {
     "base_uri": "https://localhost:8080/"
    },
    "id": "qvd5sCnQDma_",
    "outputId": "6204faa8-4427-4690-8347-c04f3c2b525d"
   },
   "outputs": [
    {
     "data": {
      "text/plain": [
       "<Graph identifier=Nfb40f3a32e584a4c9ecf7bb75ae72403 (<class 'rdflib.graph.Graph'>)>"
      ]
     },
     "execution_count": 8,
     "metadata": {},
     "output_type": "execute_result"
    }
   ],
   "source": [
    "g.serialize(destination=\"../Utility/DSAI_Kbot_Graph.ttl\", format='turtle')"
   ]
  },
  {
   "cell_type": "markdown",
   "metadata": {},
   "source": [
    "# Copyright Notice:\n",
    "\n",
    "Local and international copyright laws protect\n",
    "this material. Repurposing or reproducing\n",
    "this material without written approval from\n",
    "DeepSphere.AI violates the law.\n",
    "\n",
    "(c) DeepSphere.AI"
   ]
  }
 ],
 "metadata": {
  "colab": {
   "collapsed_sections": [
    "v4-z7ugDDPjN",
    "I10Avl4kDVdH",
    "GvLGBWilDZW_",
    "VOU2fBgTDnWI"
   ],
   "name": "Create RDF Graph",
   "provenance": []
  },
  "kernelspec": {
   "display_name": "Python 3 (ipykernel)",
   "language": "python",
   "name": "python3"
  },
  "language_info": {
   "codemirror_mode": {
    "name": "ipython",
    "version": 3
   },
   "file_extension": ".py",
   "mimetype": "text/x-python",
   "name": "python",
   "nbconvert_exporter": "python",
   "pygments_lexer": "ipython3",
   "version": "3.9.7"
  }
 },
 "nbformat": 4,
 "nbformat_minor": 1
}
