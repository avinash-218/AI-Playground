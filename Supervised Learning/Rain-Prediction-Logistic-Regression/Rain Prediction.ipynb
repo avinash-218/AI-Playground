{
 "cells": [
  {
   "cell_type": "markdown",
   "id": "96ee490b",
   "metadata": {},
   "source": [
    "# Import Libraries"
   ]
  },
  {
   "cell_type": "code",
   "execution_count": null,
   "id": "8596ef61",
   "metadata": {},
   "outputs": [],
   "source": [
    "import pandas as pd\n",
    "import plotly.express as px\n",
    "import matplotlib\n",
    "import matplotlib.pyplot as plt\n",
    "import seaborn as sns\n",
    "%matplotlib inline\n",
    "from sklearn.model_selection import train_test_split\n",
    "import numpy as np\n",
    "from sklearn.impute import SimpleImputer\n",
    "from sklearn.preprocessing import MinMaxScaler, OneHotEncoder\n",
    "from sklearn.linear_model import LogisticRegression\n",
    "from sklearn.metrics import accuracy_score, confusion_matrix\n",
    "import joblib"
   ]
  },
  {
   "cell_type": "markdown",
   "id": "5b909cb9",
   "metadata": {},
   "source": [
    "# Problem Statement\n",
    "\n",
    "Predict whether it is going to rain tomorrow or not based on todays's weather report"
   ]
  },
  {
   "cell_type": "markdown",
   "id": "0495e4f0",
   "metadata": {},
   "source": [
    "# Import Dataset"
   ]
  },
  {
   "cell_type": "code",
   "execution_count": null,
   "id": "e326735f",
   "metadata": {},
   "outputs": [],
   "source": [
    "raw_df = pd.read_csv('weatherAUS.csv')"
   ]
  },
  {
   "cell_type": "code",
   "execution_count": null,
   "id": "77db5900",
   "metadata": {},
   "outputs": [],
   "source": [
    "raw_df"
   ]
  },
  {
   "cell_type": "code",
   "execution_count": null,
   "id": "43ea300a",
   "metadata": {},
   "outputs": [],
   "source": [
    "raw_df.info()"
   ]
  },
  {
   "cell_type": "markdown",
   "id": "c31d0fef",
   "metadata": {},
   "source": [
    "Total Columns = 23<br>\n",
    "Date is irrelevant feature<br>\n",
    "RainTomorrow is taget feature<br>\n",
    "So, 21 features and one taget feature<br>\n",
    "In the dataset, there are missing values for some rows which can be preprocessed.<br>\n",
    "\n",
    "<b>Note :</b>There are also missing values in the target column 'RainTomorrow', <br>\n",
    "so those rows for which there are null values in target column 'RainTomorrow' are to be removed.<br>\n",
    "\n",
    "Also, the feature 'RainToday' is a feature is likely to be very closely related to the target variable.<br>\n",
    "So, we consider this hypothesis and remove rows with null values"
   ]
  },
  {
   "cell_type": "code",
   "execution_count": null,
   "id": "b200a2cb",
   "metadata": {},
   "outputs": [],
   "source": [
    "raw_df.dropna(subset=['RainToday','RainTomorrow'], inplace=True)"
   ]
  },
  {
   "cell_type": "code",
   "execution_count": null,
   "id": "ad587c73",
   "metadata": {},
   "outputs": [],
   "source": [
    "raw_df.info()"
   ]
  },
  {
   "cell_type": "markdown",
   "id": "58cd43d3",
   "metadata": {},
   "source": [
    "The number of rows are reduced from 145460 to 140787 <br>\n",
    "Also, no null values in the columns RainToday, RainTomorrow"
   ]
  },
  {
   "cell_type": "markdown",
   "id": "1e2532de",
   "metadata": {},
   "source": [
    "# Data Visualization & Analysis"
   ]
  },
  {
   "cell_type": "code",
   "execution_count": null,
   "id": "46e0f3e5",
   "metadata": {},
   "outputs": [],
   "source": [
    "#configure matplotlib for visulaisation style\n",
    "sns.set_style('darkgrid')\n",
    "matplotlib.rcParams['font.size'] = 14\n",
    "matplotlib.rcParams['figure.figsize'] = (10, 6)\n",
    "matplotlib.rcParams['figure.facecolor'] = '#00000000'"
   ]
  },
  {
   "cell_type": "markdown",
   "id": "8a0c610a",
   "metadata": {},
   "source": [
    "## Location Distribution"
   ]
  },
  {
   "cell_type": "code",
   "execution_count": null,
   "id": "597e9ac8",
   "metadata": {},
   "outputs": [],
   "source": [
    "fig = px.histogram(raw_df, x='Location', title='Distribution of Location', marginal='box',color='RainToday' )\n",
    "fig.update_layout(bargap=0.1)\n",
    "fig.show()"
   ]
  },
  {
   "cell_type": "markdown",
   "id": "05bdfc44",
   "metadata": {},
   "source": [
    "Uniform Distribution<br>\n",
    "Above 20% there were rain in all cities<br>\n",
    "Nhil, Katherine, Uluru has lesser values than other cities.<br>\n",
    "This might be probably due to no weather stations or data lost, or any other factors<br>\n",
    "\n",
    "Therefore, Location is a factor for rainfall"
   ]
  },
  {
   "cell_type": "markdown",
   "id": "0534d295",
   "metadata": {},
   "source": [
    "## Minimum Temperature"
   ]
  },
  {
   "cell_type": "code",
   "execution_count": null,
   "id": "53acab42",
   "metadata": {},
   "outputs": [],
   "source": [
    "fig = px.histogram(raw_df, x='MinTemp', title='Minimum Temperature Distribution', color='RainTomorrow', marginal='box')\n",
    "fig.update_layout(bargap=0.1)\n",
    "fig.show()"
   ]
  },
  {
   "cell_type": "markdown",
   "id": "e3eb55da",
   "metadata": {},
   "source": [
    "Whatever the minimum temperature is, there is more possible of ***no rain*** on the next day.<br>\n",
    "There is less possibility to rain on the next day if the minimum temperature on the previous day is around 5 to 25<br>"
   ]
  },
  {
   "cell_type": "markdown",
   "id": "ad5801a6",
   "metadata": {},
   "source": [
    "## Maximum Temperature"
   ]
  },
  {
   "cell_type": "code",
   "execution_count": null,
   "id": "9301d5a7",
   "metadata": {},
   "outputs": [],
   "source": [
    "fig = px.histogram(raw_df, x='MaxTemp', title='Maximum Temperature Distribution', color='RainTomorrow', marginal='box')\n",
    "fig.update_layout(bargap=0.1)\n",
    "fig.show()"
   ]
  },
  {
   "cell_type": "markdown",
   "id": "3b4ae6a6",
   "metadata": {},
   "source": [
    "Whatever the maximum temperature is, there is more possible of ***no rain*** on the next day.<br>\n",
    "There are rain on the next day if the maximum temperature on the previous day is around 10 to 35 <br>"
   ]
  },
  {
   "cell_type": "markdown",
   "id": "b832a6f2",
   "metadata": {},
   "source": [
    "## Rainfall Distribution - Rain Tomorrow Vs Rain Today\n",
    "We assumed a hypothesis that if there is rain on a day it is more likely to rain on the next day too<br>"
   ]
  },
  {
   "cell_type": "code",
   "execution_count": null,
   "id": "2c1ad82d",
   "metadata": {},
   "outputs": [],
   "source": [
    "fig = px.histogram(raw_df, x='RainTomorrow', title='Rain Tomorrow Vs Rain Today', marginal='box', color='RainToday')\n",
    "fig.update_layout(bargap=0.1)\n",
    "fig.show()"
   ]
  },
  {
   "cell_type": "markdown",
   "id": "0abe5af5",
   "metadata": {},
   "source": [
    "Out of 140787 sample cases,around 110k there were rain the next day<br>\n",
    "but around 30k there were no rain the next day.<br>\n",
    "This is class imbalance i.e, no imbalance of each classes of target variable which may lead to bias towards not raining on tomorrow.\n",
    "\n",
    "There were 92.728k cases with no rain today and tomorrow<br>\n",
    "There were 16.858k cases with rain today and no rain tomorrow<br>\n",
    "There were 16.604k cases with no rain today and rain tomorrow<br>\n",
    "There were 14.597k cases with rain today and tomorrow<br>\n",
    "\n",
    "So, there is a high chance that it will not rain tomorrow if it didn't rain today<br>\n",
    "But it is not the case that it will rain tomorrow if it did rain today<br>\n",
    "i.e, there is equal chance of raining tomorrow if it either rains today or not.<br>\n",
    "\n",
    "<b>So it is easy to predict rain tomorrow as No but not easy to predict rain tomorrow as Yes (when rain today is no)"
   ]
  },
  {
   "cell_type": "markdown",
   "id": "c5140cfd",
   "metadata": {},
   "source": [
    "## Evaporation Distribution"
   ]
  },
  {
   "cell_type": "code",
   "execution_count": null,
   "id": "bd3d48b0",
   "metadata": {},
   "outputs": [],
   "source": [
    "fig = px.histogram(raw_df, x='Evaporation', title='Evaporation Distribution', color='RainTomorrow', marginal='box')\n",
    "#fig = px.histogram(raw_df[raw_df.Evaporation < 10], x='Evaporation', title='Evaporation Distribution', color='RainTomorrow', marginal='box')\n",
    "fig.update_layout(bargap=0.01)\n",
    "fig.show()"
   ]
  },
  {
   "cell_type": "markdown",
   "id": "25625977",
   "metadata": {},
   "source": [
    "Whatever the evaporation rate, there is more possibility of ***no rain*** on the next day<br>\n",
    "Also most commonly evaporation rate in which there is a low probability to rain on the next day is in the range is 0.6 - 8."
   ]
  },
  {
   "cell_type": "markdown",
   "id": "19435945",
   "metadata": {},
   "source": [
    "## Sunshine Distribution"
   ]
  },
  {
   "cell_type": "code",
   "execution_count": null,
   "id": "10b9c12b",
   "metadata": {},
   "outputs": [],
   "source": [
    "fig = px.histogram(raw_df, x='Sunshine', title='Sunshine Distribution', color='RainTomorrow', marginal='box')\n",
    "#fig = px.histogram(raw_df[raw_df.Sunshine <8], x='Sunshine', title='Sunshine Distribution', color='RainTomorrow', marginal='box')\n",
    "fig.update_layout(bargap=0.1)\n",
    "fig.show()"
   ]
  },
  {
   "cell_type": "markdown",
   "id": "8c62b6e6",
   "metadata": {},
   "source": [
    "From the histogram, as the luminuous intensity of sun increases it is more probably that it will ***not rain*** on the next day.<br>\n",
    "And when the luminuous intensity of sun is low it is more probably ***to rain*** on the next day"
   ]
  },
  {
   "cell_type": "markdown",
   "id": "7ee5d82c",
   "metadata": {},
   "source": [
    "## Wind Gust Direction\n",
    "This is a categorical value with 16 categories of direction"
   ]
  },
  {
   "cell_type": "code",
   "execution_count": null,
   "id": "04ec88b5",
   "metadata": {},
   "outputs": [],
   "source": [
    "fig = px.histogram(raw_df, x='WindGustDir', title='Wind Gust Direction Distribution', color='RainTomorrow', marginal='box')\n",
    "fig.update_layout(bargap=0.1)\n",
    "fig.show()"
   ]
  },
  {
   "cell_type": "markdown",
   "id": "c3999aa3",
   "metadata": {},
   "source": [
    "Whatever the wind gust direction is, there is more possibility of ***no rain*** on the next day<br>\n",
    "Also for every of the 16 directions, there is lower probability that there will be rain on the next day."
   ]
  },
  {
   "cell_type": "markdown",
   "id": "df9e65d3",
   "metadata": {},
   "source": [
    "## Wind Gust Speed Distribution\n",
    "A sudden burst in wind speed is called the wind gusts"
   ]
  },
  {
   "cell_type": "code",
   "execution_count": null,
   "id": "1b7681de",
   "metadata": {},
   "outputs": [],
   "source": [
    "fig = px.histogram(raw_df, x='WindGustSpeed', title='Wind Gust Speed Distribution', color='RainTomorrow', marginal='box')\n",
    "fig.update_layout(bargap=0.1)\n",
    "fig.show()"
   ]
  },
  {
   "cell_type": "markdown",
   "id": "b1adf5b3",
   "metadata": {},
   "source": [
    "Whatever the wind gust speed, there is more possibility of ***no rain*** on the next day<br>\n",
    "Also most commonly wind gust speed is in the range is 24 - 65 for which there is low probability to rain on the next day."
   ]
  },
  {
   "cell_type": "markdown",
   "id": "bb92b498",
   "metadata": {},
   "source": [
    "## Wind Direction@9AM\n",
    "This is a categorical value with 16 categories of direction"
   ]
  },
  {
   "cell_type": "code",
   "execution_count": null,
   "id": "47d72e88",
   "metadata": {},
   "outputs": [],
   "source": [
    "fig = px.histogram(raw_df, x='WindDir9am', title='Wind Direction@9am Distribution', color='RainTomorrow', marginal='box')\n",
    "fig.update_layout(bargap=0.1)\n",
    "fig.show()"
   ]
  },
  {
   "cell_type": "markdown",
   "id": "cd099639",
   "metadata": {},
   "source": [
    "Whatever the wind gust direction is, there is more possibility of ***no rain*** on the next day<br>\n",
    "Also for every of the 16 directions, there is lower probability that there will be rain on the next day."
   ]
  },
  {
   "cell_type": "markdown",
   "id": "205fd207",
   "metadata": {},
   "source": [
    "## Wind Direction@3PM\n",
    "This is a categorical value with 16 categories of direction"
   ]
  },
  {
   "cell_type": "code",
   "execution_count": null,
   "id": "fe701c6c",
   "metadata": {},
   "outputs": [],
   "source": [
    "fig = px.histogram(raw_df, x='WindDir3pm', title='Wind Direction@3pm Distribution', color='RainTomorrow', marginal='box')\n",
    "fig.update_layout(bargap=0.1)\n",
    "fig.show()"
   ]
  },
  {
   "cell_type": "markdown",
   "id": "567df56f",
   "metadata": {},
   "source": [
    "Whatever the wind gust direction is, there is more possibility of ***no rain*** on the next day<br>\n",
    "Also for every of the 16 directions, there is lower probability that there will be rain on the next day."
   ]
  },
  {
   "cell_type": "markdown",
   "id": "2e5994da",
   "metadata": {},
   "source": [
    "## WindSpeed@9am Distribution"
   ]
  },
  {
   "cell_type": "code",
   "execution_count": null,
   "id": "bbbf3a3b",
   "metadata": {},
   "outputs": [],
   "source": [
    "fig = px.histogram(raw_df, x='WindSpeed9am', title='WindSpeed@9am Distribution', color='RainTomorrow', marginal='box')\n",
    "fig.update_layout(bargap=0.1)\n",
    "fig.show()"
   ]
  },
  {
   "cell_type": "markdown",
   "id": "cf85c214",
   "metadata": {},
   "source": [
    "Whatever the wind speed at 9am, there is more possibility of ***no rain*** on the next day.<br>\n",
    "Also most commonly wind speed at 9am is in the range is 0 - 28 for which there is low probability to rain on the next day"
   ]
  },
  {
   "cell_type": "markdown",
   "id": "19ea332f",
   "metadata": {},
   "source": [
    "## WindSpeed@3PM Distribution"
   ]
  },
  {
   "cell_type": "code",
   "execution_count": null,
   "id": "975813ac",
   "metadata": {},
   "outputs": [],
   "source": [
    "fig = px.histogram(raw_df, x='WindSpeed3pm', title='WindSpeed@3pm Distribution', color='RainTomorrow', marginal='box')\n",
    "fig.update_layout(bargap=0.1)\n",
    "fig.show()"
   ]
  },
  {
   "cell_type": "markdown",
   "id": "455602a1",
   "metadata": {},
   "source": [
    "Whatever the wind speed at 3pm, there is more possibility of ***no rain*** on the next day.<br>\n",
    "Also most commonly wind speed at 3pm is in the range is 7 - 31 for which there is low probability to rain on the next day"
   ]
  },
  {
   "cell_type": "markdown",
   "id": "5b641a6d",
   "metadata": {},
   "source": [
    "## Humidity@9AM Distribution"
   ]
  },
  {
   "cell_type": "code",
   "execution_count": null,
   "id": "20344214",
   "metadata": {},
   "outputs": [],
   "source": [
    "fig = px.histogram(raw_df, x='Humidity9am', title='Humidity@9am Distribution', color='RainTomorrow', marginal='box')\n",
    "fig.update_layout(bargap=0.1)\n",
    "fig.show()"
   ]
  },
  {
   "cell_type": "markdown",
   "id": "f2a2d028",
   "metadata": {},
   "source": [
    "Whatever the humidity at 9am, there is more possibility of ***no rain*** on the next day.<br>\n",
    "Also most commonly humidity at 9am is in the range is 60 - 100 for which there is low probability to rain on the next day"
   ]
  },
  {
   "cell_type": "markdown",
   "id": "5b53c9f7",
   "metadata": {},
   "source": [
    "## Humidity@3PM Distribution"
   ]
  },
  {
   "cell_type": "code",
   "execution_count": null,
   "id": "5b95a04a",
   "metadata": {},
   "outputs": [],
   "source": [
    "fig = px.histogram(raw_df, x='Humidity3pm', title='Humidity@3pm Distribution', color='RainTomorrow', marginal='box')\n",
    "fig.update_layout(bargap=0.1)\n",
    "fig.show()"
   ]
  },
  {
   "cell_type": "markdown",
   "id": "2b87717c",
   "metadata": {},
   "source": [
    "Whenever the humidity at 3pm is in the range 0 - 78, there is more possibility of ***no rain*** on the next day.<br>\n",
    "Whenever the humidity at 3pm is above 78, there is more possibility of ***raining*** on the next day.<br>"
   ]
  },
  {
   "cell_type": "markdown",
   "id": "ac73b820",
   "metadata": {},
   "source": [
    "## Pressure@9AM Distribution"
   ]
  },
  {
   "cell_type": "code",
   "execution_count": null,
   "id": "6cc69538",
   "metadata": {},
   "outputs": [],
   "source": [
    "fig = px.histogram(raw_df, x='Pressure9am', title='Pressure@9am Distribution', color='RainTomorrow', marginal='box')\n",
    "fig.update_layout(bargap=0.1)\n",
    "fig.show()"
   ]
  },
  {
   "cell_type": "markdown",
   "id": "7d519d8f",
   "metadata": {},
   "source": [
    "Whatever the pressure at 9am, there is more possibility of ***no rain*** on the next day.<br>\n",
    "Also most commonly pressure at 9am is in the range is 1000 - 1030 for which there is low probability to rain on the next day"
   ]
  },
  {
   "cell_type": "markdown",
   "id": "a421dcb0",
   "metadata": {},
   "source": [
    "## Pressure@3PM Distribution"
   ]
  },
  {
   "cell_type": "code",
   "execution_count": null,
   "id": "d416172c",
   "metadata": {},
   "outputs": [],
   "source": [
    "fig = px.histogram(raw_df, x='Pressure3pm', title='Pressure@3pm Distribution', color='RainTomorrow', marginal='box')\n",
    "fig.update_layout(bargap=0.1)\n",
    "fig.show()"
   ]
  },
  {
   "cell_type": "markdown",
   "id": "fc404dee",
   "metadata": {},
   "source": [
    "Whatever the pressure at 3pm, there is more possibility of ***no rain*** on the next day.<br>\n",
    "Also most commonly pressure at 3pm is in the range is 1000 - 1030 for which there is low probability to rain on the next day"
   ]
  },
  {
   "cell_type": "markdown",
   "id": "c5bf37b6",
   "metadata": {},
   "source": [
    "## Cloud@9AM Distribution"
   ]
  },
  {
   "cell_type": "code",
   "execution_count": null,
   "id": "20eb0603",
   "metadata": {},
   "outputs": [],
   "source": [
    "fig = px.histogram(raw_df, x='Cloud9am', title='Cloud@9am Distribution', color='RainTomorrow', marginal='box')\n",
    "fig.update_layout(bargap=0.1)\n",
    "fig.show()"
   ]
  },
  {
   "cell_type": "markdown",
   "id": "d6815483",
   "metadata": {},
   "source": [
    "Whatever the cloud at 9am, there is more possibility of ***no rain*** on the next day.<br>\n",
    "As cloud at 9am(6-8) increases probability of raining on the next day increases"
   ]
  },
  {
   "cell_type": "markdown",
   "id": "66e063c5",
   "metadata": {},
   "source": [
    "## Cloud@3PM Distribution"
   ]
  },
  {
   "cell_type": "code",
   "execution_count": null,
   "id": "4e0403b2",
   "metadata": {},
   "outputs": [],
   "source": [
    "fig = px.histogram(raw_df, x='Cloud3pm', title='Cloud@3pm Distribution', color='RainTomorrow', marginal='box')\n",
    "fig.update_layout(bargap=0.1)\n",
    "fig.show()"
   ]
  },
  {
   "cell_type": "markdown",
   "id": "be935c6f",
   "metadata": {},
   "source": [
    "Whatever the cloud at 3pm, there is more possibility of ***no rain*** on the next day.<br>\n",
    "As cloud at 3pm increases probability of raining on the next day increases.<br>\n",
    "For cloud at 3pm = 8, there is more probability ofraining on the next day"
   ]
  },
  {
   "cell_type": "markdown",
   "id": "0a16c719",
   "metadata": {},
   "source": [
    "## Temperature@9AM Distribution"
   ]
  },
  {
   "cell_type": "code",
   "execution_count": null,
   "id": "81c50a94",
   "metadata": {},
   "outputs": [],
   "source": [
    "fig = px.histogram(raw_df, x='Temp9am', title='Temperature@9AM Distribution', color='RainTomorrow', marginal='box')\n",
    "fig.update_layout(bargap=0.1)\n",
    "fig.show()"
   ]
  },
  {
   "cell_type": "markdown",
   "id": "b602fbd5",
   "metadata": {},
   "source": [
    "Whatever the Temperature at 9am, there is more possibility of no rain on the next day.<br>\n",
    "Also most commonly temperature at 9am is in the range is 10 - 30 for which there is low probability to rain on the next day."
   ]
  },
  {
   "cell_type": "markdown",
   "id": "29a1b712",
   "metadata": {},
   "source": [
    "## Temperature@3PM Distribution"
   ]
  },
  {
   "cell_type": "code",
   "execution_count": null,
   "id": "82b8ac63",
   "metadata": {},
   "outputs": [],
   "source": [
    "fig = px.histogram(raw_df, x='Temp3pm', title='Temperature@3PM Distribution', color='RainTomorrow', marginal='box')\n",
    "fig.update_layout(bargap=0.1)\n",
    "fig.show()"
   ]
  },
  {
   "cell_type": "markdown",
   "id": "5424f813",
   "metadata": {},
   "source": [
    "Gaussian / Normal Distibution<br>\n",
    "It seems for Lower the temperature, more cases of rain the next day<br>\n",
    "Also there are some cases when temperature is high and there was rain the next day"
   ]
  },
  {
   "cell_type": "markdown",
   "id": "43e61f54",
   "metadata": {},
   "source": [
    "## Min Temp Vs Max Temp"
   ]
  },
  {
   "cell_type": "code",
   "execution_count": null,
   "id": "059989a7",
   "metadata": {},
   "outputs": [],
   "source": [
    "px.scatter(raw_df.sample(2000), x='MinTemp', y='MaxTemp', title='MinTemp Vs MaxTemp', color='RainToday')"
   ]
  },
  {
   "cell_type": "markdown",
   "id": "38b426cb",
   "metadata": {},
   "source": [
    "***Note***<br>\n",
    "For RainToday=Yes, Minimum temperature and maximum temperature are nearer.<br>\n",
    "For RainToday=No, Minimum temperature and maximum temperature are not nearer.<br>\n",
    "\n",
    "When there is rain, variation in temperature is small (i.e,maximum temperature is nearer to minimum temperature)"
   ]
  },
  {
   "cell_type": "markdown",
   "id": "48c47ff0",
   "metadata": {},
   "source": [
    "## Rainfall Vs Evaporation"
   ]
  },
  {
   "cell_type": "code",
   "execution_count": null,
   "id": "e6d5b324",
   "metadata": {},
   "outputs": [],
   "source": [
    "px.scatter(raw_df.sample(2000), x='Rainfall', y='Evaporation', title='Rainfall Vs Evaporation', color='RainToday')"
   ]
  },
  {
   "cell_type": "markdown",
   "id": "b215311b",
   "metadata": {},
   "source": [
    "As rainfall increases, evaporation decreases<br>\n",
    "When rainfall in a day is less than or equal to 1, there is no rain on the next day<br>\n",
    "When rainfall in a day is more than 1, there is rain on the next day<br>"
   ]
  },
  {
   "cell_type": "markdown",
   "id": "ca39a754",
   "metadata": {},
   "source": [
    "## Sunshine Vs Evaporation"
   ]
  },
  {
   "cell_type": "code",
   "execution_count": null,
   "id": "833160b3",
   "metadata": {},
   "outputs": [],
   "source": [
    "px.scatter(raw_df.sample(2000), x='Sunshine', y='Evaporation', title='Sunshine Vs Evaporation', color='RainToday')"
   ]
  },
  {
   "cell_type": "markdown",
   "id": "2ca6ca2e",
   "metadata": {},
   "source": [
    "With increase in sunshine, the evaporation rate is almost constant<br>\n",
    "With increase in sunshine, there is a more possibility to rain on the next day as<br>\n",
    "the number of samples where it rained the next day increases with increase in sunshine<br>"
   ]
  },
  {
   "cell_type": "markdown",
   "id": "fc8cbba1",
   "metadata": {},
   "source": [
    "## Temp@9AM Vs Humidity@9AM"
   ]
  },
  {
   "cell_type": "code",
   "execution_count": null,
   "id": "28906a08",
   "metadata": {},
   "outputs": [],
   "source": [
    "px.strip(raw_df.sample(2000), x='Temp9am', y='Humidity9am', title='Temp@9AM Vs Humidity@9AM', color='RainTomorrow')"
   ]
  },
  {
   "cell_type": "markdown",
   "id": "e9898fbf",
   "metadata": {},
   "source": [
    "When temperature@9am increases Humidity@9am decreases for both rainTomorrow=Yes or No<br>\n",
    "For higher temperature and lower humidity it is more probable that it will not rain the next day"
   ]
  },
  {
   "cell_type": "markdown",
   "id": "7bc40710",
   "metadata": {},
   "source": [
    "## Temp@3PM Vs Humidity@3PM"
   ]
  },
  {
   "cell_type": "code",
   "execution_count": null,
   "id": "5116962e",
   "metadata": {},
   "outputs": [],
   "source": [
    "px.strip(raw_df.sample(2000), x='Temp3pm', y='Humidity3pm', title='Temp@3PM Vs Humidity@3PM', color='RainTomorrow')"
   ]
  },
  {
   "cell_type": "markdown",
   "id": "22933d89",
   "metadata": {},
   "source": [
    "When temperature@3pm increases Humidity@3pm decreases for both rainTomorrow=Yes or No<br>\n",
    "But during rainTomorrow=Yes, Humidity is more compared to rainTomorrow=No<br>\n",
    "\n",
    "When temperature@3pm is low & humidity@3pm is high, there is high chance that it will rain tomorrow"
   ]
  },
  {
   "cell_type": "markdown",
   "id": "04b241c0",
   "metadata": {},
   "source": [
    "## Pressure@9AM Vs Humidity@9AM"
   ]
  },
  {
   "cell_type": "code",
   "execution_count": null,
   "id": "8ff7b13b",
   "metadata": {},
   "outputs": [],
   "source": [
    "px.strip(raw_df.sample(2000), x='Pressure9am', y='Humidity9am', title='Pressure@9AM Vs Humidity@9AM', color='RainTomorrow')"
   ]
  },
  {
   "cell_type": "markdown",
   "id": "b7cd556f",
   "metadata": {},
   "source": [
    "When Pressure@9am increases Humidity@9am increases<br>\n",
    "Most samples for which there will be no rain the next day have humidity > 20<br>\n",
    "Most samples for which there will be no rain the next day have humidity > 50<br>"
   ]
  },
  {
   "cell_type": "markdown",
   "id": "9312f115",
   "metadata": {},
   "source": [
    "## Pressure@3PM Vs Humidity@3PM"
   ]
  },
  {
   "cell_type": "code",
   "execution_count": null,
   "id": "eacf88fe",
   "metadata": {},
   "outputs": [],
   "source": [
    "px.strip(raw_df.sample(2000), x='Pressure3pm', y='Humidity3pm', title='Pressure@3PM Vs Humidity@3PM', color='RainTomorrow')"
   ]
  },
  {
   "cell_type": "markdown",
   "id": "164bf143",
   "metadata": {},
   "source": [
    "Most of the samples for which the next day will rain have humidity > 30<br>\n",
    "Most of the samples for which the next day will not rain have humidity > 0<br>"
   ]
  },
  {
   "cell_type": "markdown",
   "id": "0f375ddb",
   "metadata": {},
   "source": [
    "## Temp@9AM Vs Pressure@9AM"
   ]
  },
  {
   "cell_type": "code",
   "execution_count": null,
   "id": "db22e21a",
   "metadata": {},
   "outputs": [],
   "source": [
    "px.strip(raw_df.sample(2000), x='Temp9am', y='Pressure9am', title='Temp@9AM Vs Pressure@9AM', color='RainTomorrow')"
   ]
  },
  {
   "cell_type": "markdown",
   "id": "10dd99e2",
   "metadata": {},
   "source": [
    "With increase in temperature@9am pressure@9am decreases slightly<br>\n",
    "For less temperature and high pressure, it is more probable that it will not rain the next day"
   ]
  },
  {
   "cell_type": "markdown",
   "id": "438cb681",
   "metadata": {},
   "source": [
    "## Temp@3PM Vs Pressure@3PM"
   ]
  },
  {
   "cell_type": "code",
   "execution_count": null,
   "id": "a9d536a6",
   "metadata": {},
   "outputs": [],
   "source": [
    "px.strip(raw_df.sample(2000), x='Temp3pm', y='Pressure3pm', title='Temp@3PM Vs Pressure@3PM', color='RainTomorrow')"
   ]
  },
  {
   "cell_type": "markdown",
   "id": "3b23a165",
   "metadata": {},
   "source": [
    "With increase in temperature@3pm pressure@3pm decreases slightly<br>\n",
    "For lesser temperature and pressure it is more likely to rain the next day<br>\n",
    "For higher temperature and lower pressure it is not likely to rain on the next day"
   ]
  },
  {
   "cell_type": "markdown",
   "id": "86863f4b",
   "metadata": {},
   "source": [
    "# Working With Sample"
   ]
  },
  {
   "cell_type": "code",
   "execution_count": null,
   "id": "5c8eae29",
   "metadata": {},
   "outputs": [],
   "source": [
    "use_sample = False\n",
    "sample_fraction = 0.1\n",
    "if use_sample:\n",
    "    raw_df = raw_df.sample(sample_fraction).copy()"
   ]
  },
  {
   "cell_type": "markdown",
   "id": "b0dd9a20",
   "metadata": {},
   "source": [
    "# Training, Validation, Test Sets"
   ]
  },
  {
   "cell_type": "code",
   "execution_count": null,
   "id": "acc6dcec",
   "metadata": {},
   "outputs": [],
   "source": [
    "train_val_df, test_df = train_test_split(raw_df, test_size=0.2, random_state=42)\n",
    "train_df, val_df = train_test_split(train_val_df, test_size=0.25, random_state=42)"
   ]
  },
  {
   "cell_type": "code",
   "execution_count": null,
   "id": "62f6e9d1",
   "metadata": {},
   "outputs": [],
   "source": [
    "print('train_df shape :',train_df.shape)\n",
    "print('val_df shape :',val_df.shape)\n",
    "print('test_df shape :',test_df.shape)"
   ]
  },
  {
   "cell_type": "markdown",
   "id": "e39bca47",
   "metadata": {},
   "source": [
    "***Note :*** While working with dates (time-series data), it's often a better idea to separate the training, validation and test sets<br> with time, so that the model is trained on data from the past and evaluated on data from the future.<br>\n",
    "\n",
    "Let us analyse the years from which the dataset are from."
   ]
  },
  {
   "cell_type": "code",
   "execution_count": null,
   "id": "6918c590",
   "metadata": {},
   "outputs": [],
   "source": [
    "plt.title('No. of Rows per year')\n",
    "sns.countplot(x=pd.to_datetime(raw_df.Date).dt.year);"
   ]
  },
  {
   "cell_type": "markdown",
   "id": "7d3fc51d",
   "metadata": {},
   "source": [
    "We'll use datas till 2014 (inclusive) for training, 2015 for validation and 2016 & 2017 for testing<br>\n",
    "even there is no 60-20-20 ratio maintained.\n",
    "\n",
    "Data from 2018, 2019 can be used for deployment (future)."
   ]
  },
  {
   "cell_type": "code",
   "execution_count": null,
   "id": "1bdc7980",
   "metadata": {},
   "outputs": [],
   "source": [
    "year = pd.to_datetime(raw_df.Date).dt.year\n",
    "year"
   ]
  },
  {
   "cell_type": "code",
   "execution_count": null,
   "id": "3a24cf7c",
   "metadata": {},
   "outputs": [],
   "source": [
    "train_df = raw_df[year < 2015]\n",
    "val_df = raw_df[year == 2015]\n",
    "test_df = raw_df[year > 2015]"
   ]
  },
  {
   "cell_type": "code",
   "execution_count": null,
   "id": "ee95805c",
   "metadata": {},
   "outputs": [],
   "source": [
    "print('train_df shape :',train_df.shape)\n",
    "print('val_df shape :',val_df.shape)\n",
    "print('test_df shape :',test_df.shape)"
   ]
  },
  {
   "cell_type": "markdown",
   "id": "b0fde220",
   "metadata": {},
   "source": [
    "# Identify Input & Target Columns"
   ]
  },
  {
   "cell_type": "code",
   "execution_count": null,
   "id": "54c99c43",
   "metadata": {},
   "outputs": [],
   "source": [
    "raw_df"
   ]
  },
  {
   "cell_type": "markdown",
   "id": "23a9a45b",
   "metadata": {},
   "source": [
    "***Note :***\n",
    "The date column is 2018 everywhere due to the split we have done. So, during testing our model won't<br> see any date as 2018 so it is useless to use date column as an input column.<br>\n",
    "\n",
    "RainTomorrow is target.<br>\n",
    "All other than these are input columns."
   ]
  },
  {
   "cell_type": "code",
   "execution_count": null,
   "id": "4ba3bcd5",
   "metadata": {},
   "outputs": [],
   "source": [
    "cols = list(train_df.columns)\n",
    "input_cols = cols[1:-1]\n",
    "target_cols = cols[-1]"
   ]
  },
  {
   "cell_type": "markdown",
   "id": "fe8058e8",
   "metadata": {},
   "source": [
    "#### Training Set"
   ]
  },
  {
   "cell_type": "code",
   "execution_count": null,
   "id": "be4a2f54",
   "metadata": {},
   "outputs": [],
   "source": [
    "X_train = train_df[input_cols].copy()\n",
    "Y_train = train_df[target_cols].copy()"
   ]
  },
  {
   "cell_type": "markdown",
   "id": "80491825",
   "metadata": {},
   "source": [
    "#### Validation Set"
   ]
  },
  {
   "cell_type": "code",
   "execution_count": null,
   "id": "5fd29aba",
   "metadata": {},
   "outputs": [],
   "source": [
    "X_val = val_df[input_cols].copy()\n",
    "Y_val = val_df[target_cols].copy()"
   ]
  },
  {
   "cell_type": "markdown",
   "id": "8a747ff1",
   "metadata": {},
   "source": [
    "#### Test Set"
   ]
  },
  {
   "cell_type": "code",
   "execution_count": null,
   "id": "c16bd62e",
   "metadata": {},
   "outputs": [],
   "source": [
    "X_test = test_df[input_cols].copy()\n",
    "Y_test = test_df[target_cols].copy()"
   ]
  },
  {
   "cell_type": "markdown",
   "id": "1e146fa9",
   "metadata": {},
   "source": [
    "#### Identify Numerical & Categorical Columns"
   ]
  },
  {
   "cell_type": "code",
   "execution_count": null,
   "id": "4657b582",
   "metadata": {},
   "outputs": [],
   "source": [
    "numeric_cols = list(X_train.select_dtypes(include=np.number).columns)\n",
    "categorical_cols = list(X_train.select_dtypes('object').columns)"
   ]
  },
  {
   "cell_type": "code",
   "execution_count": null,
   "id": "ffa3aafd",
   "metadata": {},
   "outputs": [],
   "source": [
    "numeric_cols,categorical_cols"
   ]
  },
  {
   "cell_type": "markdown",
   "id": "5d24a3f6",
   "metadata": {},
   "source": [
    "#### Statistics of Numerical Data in Training Set"
   ]
  },
  {
   "cell_type": "code",
   "execution_count": null,
   "id": "2894079c",
   "metadata": {},
   "outputs": [],
   "source": [
    "X_train.describe()"
   ]
  },
  {
   "cell_type": "markdown",
   "id": "b045abbb",
   "metadata": {},
   "source": [
    "#### Unique Categories of Categorical Data in Training Set"
   ]
  },
  {
   "cell_type": "code",
   "execution_count": null,
   "id": "215b4cf2",
   "metadata": {},
   "outputs": [],
   "source": [
    "X_train[categorical_cols].nunique()"
   ]
  },
  {
   "cell_type": "markdown",
   "id": "96f76918",
   "metadata": {},
   "source": [
    "# Imputing Missing Numeric Data\n",
    "\n",
    "Since there are some missing values, we'll get error when performing some steps in ML.\n",
    "\n",
    "<img src=\"https://i.imgur.com/W7cfyOp.png\" width=\"480\">\n",
    "\n",
    "So, we'll replace those values with average value from the column.<br>\n",
    "\n",
    "We'll compute average from the entire set and fill it in train, val, test set individually"
   ]
  },
  {
   "cell_type": "markdown",
   "id": "9d0c1e14",
   "metadata": {},
   "source": [
    "#### Find Total Number of Nan in Numeric Coumns"
   ]
  },
  {
   "cell_type": "code",
   "execution_count": null,
   "id": "211dcd75",
   "metadata": {},
   "outputs": [],
   "source": [
    "raw_df[numeric_cols].isna().sum()"
   ]
  },
  {
   "cell_type": "code",
   "execution_count": null,
   "id": "0906c488",
   "metadata": {},
   "outputs": [],
   "source": [
    "imputer = SimpleImputer(strategy='mean')"
   ]
  },
  {
   "cell_type": "code",
   "execution_count": null,
   "id": "55a50ddb",
   "metadata": {},
   "outputs": [],
   "source": [
    "imputer.fit(raw_df[numeric_cols])   #fitting in raw_df not in X_train, X_val "
   ]
  },
  {
   "cell_type": "code",
   "execution_count": null,
   "id": "b2e003aa",
   "metadata": {},
   "outputs": [],
   "source": [
    "imputer.statistics_"
   ]
  },
  {
   "cell_type": "code",
   "execution_count": null,
   "id": "0e4b50f4",
   "metadata": {},
   "outputs": [],
   "source": [
    "X_train[numeric_cols] = imputer.transform(X_train[numeric_cols])\n",
    "X_val[numeric_cols] = imputer.transform(X_val[numeric_cols])\n",
    "X_test[numeric_cols] = imputer.transform(X_test[numeric_cols])"
   ]
  },
  {
   "cell_type": "markdown",
   "id": "c0a69910",
   "metadata": {},
   "source": [
    "Values Replaced by Average "
   ]
  },
  {
   "cell_type": "code",
   "execution_count": null,
   "id": "eb57e362",
   "metadata": {},
   "outputs": [],
   "source": [
    "X_train[numeric_cols].isna().sum()"
   ]
  },
  {
   "cell_type": "code",
   "execution_count": null,
   "id": "fc434d9e",
   "metadata": {},
   "outputs": [],
   "source": []
  },
  {
   "cell_type": "code",
   "execution_count": null,
   "id": "698bdbf6",
   "metadata": {},
   "outputs": [],
   "source": []
  },
  {
   "cell_type": "markdown",
   "id": "eeb8a913",
   "metadata": {},
   "source": [
    "> **EXERCISE**: Apply some other imputation techniques and observe how they change the results of the model. You can learn more about other imputation techniques here: https://scikit-learn.org/stable/modules/impute.html"
   ]
  },
  {
   "cell_type": "code",
   "execution_count": null,
   "id": "520f8df7",
   "metadata": {},
   "outputs": [],
   "source": []
  },
  {
   "cell_type": "code",
   "execution_count": null,
   "id": "6ccab4c1",
   "metadata": {},
   "outputs": [],
   "source": []
  },
  {
   "cell_type": "markdown",
   "id": "1ed32c0c",
   "metadata": {},
   "source": [
    "# Feature Scaling"
   ]
  },
  {
   "cell_type": "code",
   "execution_count": null,
   "id": "328f30aa",
   "metadata": {},
   "outputs": [],
   "source": [
    "scaler = MinMaxScaler()"
   ]
  },
  {
   "cell_type": "code",
   "execution_count": null,
   "id": "f583f17b",
   "metadata": {},
   "outputs": [],
   "source": [
    "scaler.fit(raw_df[numeric_cols])  #not splitted data set"
   ]
  },
  {
   "cell_type": "markdown",
   "id": "09c77854",
   "metadata": {},
   "source": [
    "#### Scale Training Data Set"
   ]
  },
  {
   "cell_type": "code",
   "execution_count": null,
   "id": "cb27e275",
   "metadata": {},
   "outputs": [],
   "source": [
    "X_train[numeric_cols] = scaler.transform(X_train[numeric_cols])\n",
    "X_train[numeric_cols]"
   ]
  },
  {
   "cell_type": "code",
   "execution_count": null,
   "id": "10aabff2",
   "metadata": {},
   "outputs": [],
   "source": [
    "X_train[numeric_cols].describe()"
   ]
  },
  {
   "cell_type": "markdown",
   "id": "430714dd",
   "metadata": {},
   "source": [
    "#### Scaling Validation Data Set"
   ]
  },
  {
   "cell_type": "code",
   "execution_count": null,
   "id": "b408ef05",
   "metadata": {},
   "outputs": [],
   "source": [
    "X_val[numeric_cols] = scaler.transform(X_val[numeric_cols])\n",
    "X_val"
   ]
  },
  {
   "cell_type": "markdown",
   "id": "68aed553",
   "metadata": {},
   "source": [
    "#### Scaling Test Data Set"
   ]
  },
  {
   "cell_type": "code",
   "execution_count": null,
   "id": "ce8ef36c",
   "metadata": {},
   "outputs": [],
   "source": [
    "X_test[numeric_cols] = scaler.transform(X_test[numeric_cols])\n",
    "X_test"
   ]
  },
  {
   "cell_type": "markdown",
   "id": "2cfeaab0",
   "metadata": {},
   "source": [
    "# Encoding Categorical Values\n",
    "\n",
    "Since machine learning models can only be trained with numeric data, we need to convert categorical data to numbers by using techniques like one-hot encoding for categorical columns.\n",
    "\n",
    "<img src=\"https://i.imgur.com/n8GuiOO.png\" width=\"640\">\n",
    "\n",
    "One hot encoding involves adding a new binary (0/1) column for each unique category of a categorical column. "
   ]
  },
  {
   "cell_type": "code",
   "execution_count": null,
   "id": "00cc49a2",
   "metadata": {},
   "outputs": [],
   "source": [
    "raw_df[categorical_cols].nunique()"
   ]
  },
  {
   "cell_type": "markdown",
   "id": "a6e522de",
   "metadata": {},
   "source": [
    "#### Encoding Location Column"
   ]
  },
  {
   "cell_type": "code",
   "execution_count": null,
   "id": "1a403083",
   "metadata": {},
   "outputs": [],
   "source": [
    "raw_df.Location.unique()"
   ]
  },
  {
   "cell_type": "code",
   "execution_count": null,
   "id": "07be36e4",
   "metadata": {},
   "outputs": [],
   "source": [
    "encoder = OneHotEncoder(sparse=False, handle_unknown='ignore')"
   ]
  },
  {
   "cell_type": "code",
   "execution_count": null,
   "id": "fbe17d9a",
   "metadata": {},
   "outputs": [],
   "source": [
    "encoder.fit(raw_df[categorical_cols])    #fit with entire dataset"
   ]
  },
  {
   "cell_type": "code",
   "execution_count": null,
   "id": "c0477cac",
   "metadata": {},
   "outputs": [],
   "source": [
    "categorical_cols"
   ]
  },
  {
   "cell_type": "code",
   "execution_count": null,
   "id": "3c2b1cd0",
   "metadata": {},
   "outputs": [],
   "source": [
    "encoder.categories_"
   ]
  },
  {
   "cell_type": "markdown",
   "id": "65e25dc7",
   "metadata": {},
   "source": [
    "#### Get Feature Names for the Encoded Columns"
   ]
  },
  {
   "cell_type": "code",
   "execution_count": null,
   "id": "6ca08040",
   "metadata": {},
   "outputs": [],
   "source": [
    "encoded_cols = list(encoder.get_feature_names(categorical_cols))\n",
    "encoded_cols"
   ]
  },
  {
   "cell_type": "markdown",
   "id": "a947cb84",
   "metadata": {},
   "source": [
    "#### Training Data Set"
   ]
  },
  {
   "cell_type": "code",
   "execution_count": null,
   "id": "011a46ce",
   "metadata": {},
   "outputs": [],
   "source": [
    "X_train[encoded_cols] = encoder.transform(X_train[categorical_cols])"
   ]
  },
  {
   "cell_type": "markdown",
   "id": "d25672e2",
   "metadata": {},
   "source": [
    "#### Validation Data Set"
   ]
  },
  {
   "cell_type": "code",
   "execution_count": null,
   "id": "4c3a7076",
   "metadata": {},
   "outputs": [],
   "source": [
    "X_val[encoded_cols] = encoder.transform(X_val[categorical_cols])"
   ]
  },
  {
   "cell_type": "markdown",
   "id": "8350c2c5",
   "metadata": {},
   "source": [
    "#### Test Data Set"
   ]
  },
  {
   "cell_type": "code",
   "execution_count": null,
   "id": "f19657e7",
   "metadata": {},
   "outputs": [],
   "source": [
    "X_test[encoded_cols] = encoder.transform(X_test[categorical_cols])"
   ]
  },
  {
   "cell_type": "markdown",
   "id": "186d420b",
   "metadata": {},
   "source": [
    "***Note :***<br>\n",
    "In these data frames, both categorical columns and corresponding encoded columns are also present"
   ]
  },
  {
   "cell_type": "markdown",
   "id": "822034cb",
   "metadata": {},
   "source": [
    "# Save Processed Data"
   ]
  },
  {
   "cell_type": "code",
   "execution_count": null,
   "id": "95a82437",
   "metadata": {},
   "outputs": [],
   "source": [
    "print('X_train:', X_train.shape)\n",
    "print('Y_train:', Y_train.shape)\n",
    "print('X_val:', X_val.shape)\n",
    "print('Y_val:', Y_val.shape)\n",
    "print('X_test:', X_test.shape)\n",
    "print('Y_test:', Y_test.shape)"
   ]
  },
  {
   "cell_type": "markdown",
   "id": "e5dc7a42",
   "metadata": {},
   "source": [
    "#### Store DataFrames as parquet format"
   ]
  },
  {
   "cell_type": "code",
   "execution_count": null,
   "id": "71a6a091",
   "metadata": {},
   "outputs": [],
   "source": [
    "X_train.to_parquet('X_train.parquet')\n",
    "X_val.to_parquet('X_val.parquet')\n",
    "X_test.to_parquet('X_test.parquet')"
   ]
  },
  {
   "cell_type": "code",
   "execution_count": null,
   "id": "129f3a6a",
   "metadata": {},
   "outputs": [],
   "source": [
    "pd.DataFrame(Y_train).to_parquet('Y_train.parquet')\n",
    "pd.DataFrame(Y_val).to_parquet('Y_val.parquet')\n",
    "pd.DataFrame(Y_test).to_parquet('Y_test.parquet')"
   ]
  },
  {
   "cell_type": "markdown",
   "id": "ed51be58",
   "metadata": {},
   "source": [
    "#### Read those stored data"
   ]
  },
  {
   "cell_type": "code",
   "execution_count": null,
   "id": "8f7560b8",
   "metadata": {},
   "outputs": [],
   "source": [
    "X_train = pd.read_parquet('X_train.parquet')\n",
    "X_val = pd.read_parquet('X_val.parquet')\n",
    "X_test = pd.read_parquet('X_test.parquet')"
   ]
  },
  {
   "cell_type": "code",
   "execution_count": null,
   "id": "788a1263",
   "metadata": {},
   "outputs": [],
   "source": [
    "Y_train = pd.read_parquet('Y_train.parquet')[target_cols]\n",
    "Y_val = pd.read_parquet('Y_val.parquet')[target_cols]\n",
    "Y_test = pd.read_parquet('Y_test.parquet')[target_cols]"
   ]
  },
  {
   "cell_type": "code",
   "execution_count": null,
   "id": "b65bf1ee",
   "metadata": {},
   "outputs": [],
   "source": [
    "print('X_train:', X_train.shape)\n",
    "print('Y_train:', Y_train.shape)\n",
    "print('X_val:', X_val.shape)\n",
    "print('Y_val:', Y_val.shape)\n",
    "print('X_test:', X_test.shape)\n",
    "print('Y_test:', Y_test.shape)"
   ]
  },
  {
   "cell_type": "markdown",
   "id": "17c20a73",
   "metadata": {},
   "source": [
    "# Training a Logistic Regression Model"
   ]
  },
  {
   "cell_type": "code",
   "execution_count": null,
   "id": "a4210f19",
   "metadata": {},
   "outputs": [],
   "source": [
    "model = LogisticRegression(solver ='liblinear') #liblinear optimization"
   ]
  },
  {
   "cell_type": "code",
   "execution_count": null,
   "id": "90187e65",
   "metadata": {},
   "outputs": [],
   "source": [
    "%%time\n",
    "model.fit(X_train[numeric_cols + encoded_cols], Y_train)"
   ]
  },
  {
   "cell_type": "code",
   "execution_count": null,
   "id": "f275c2f5",
   "metadata": {},
   "outputs": [],
   "source": [
    "weight_df = pd.DataFrame({\n",
    "    'feature' : (numeric_cols + encoded_cols),\n",
    "    'weight' : model.coef_.tolist()[0]\n",
    "})"
   ]
  },
  {
   "cell_type": "code",
   "execution_count": null,
   "id": "7144e852",
   "metadata": {},
   "outputs": [],
   "source": [
    "plt.figure(figsize=(10,50))\n",
    "sns.barplot(data=weight_df, x='weight', y='feature');"
   ]
  },
  {
   "cell_type": "markdown",
   "id": "86ee07e0",
   "metadata": {},
   "source": [
    "## Top 10 Important Features"
   ]
  },
  {
   "cell_type": "code",
   "execution_count": null,
   "id": "d9e3b49a",
   "metadata": {},
   "outputs": [],
   "source": [
    "sns.barplot(data=weight_df.sort_values('weight', ascending=False).head(10), x='weight', y='feature');"
   ]
  },
  {
   "cell_type": "markdown",
   "id": "f37cb912",
   "metadata": {},
   "source": [
    "# Making Predictions & Evaluations"
   ]
  },
  {
   "cell_type": "code",
   "execution_count": null,
   "id": "1a49800f",
   "metadata": {},
   "outputs": [],
   "source": [
    "X_train = X_train[numeric_cols + encoded_cols]\n",
    "X_val = X_val[numeric_cols + encoded_cols]\n",
    "X_test = X_test[numeric_cols + encoded_cols]"
   ]
  },
  {
   "cell_type": "code",
   "execution_count": null,
   "id": "61c90d45",
   "metadata": {},
   "outputs": [],
   "source": [
    "train_pred = model.predict(X_train)\n",
    "train_probs = model.predict_proba(X_train)"
   ]
  },
  {
   "cell_type": "code",
   "execution_count": null,
   "id": "180f35c7",
   "metadata": {},
   "outputs": [],
   "source": [
    "train_pred"
   ]
  },
  {
   "cell_type": "code",
   "execution_count": null,
   "id": "b16ed1fe",
   "metadata": {},
   "outputs": [],
   "source": [
    "train_probs"
   ]
  },
  {
   "cell_type": "code",
   "execution_count": null,
   "id": "7b0921f0",
   "metadata": {},
   "outputs": [],
   "source": [
    "Y_train"
   ]
  },
  {
   "cell_type": "markdown",
   "id": "0ae4e73c",
   "metadata": {},
   "source": [
    "#### Accuracy"
   ]
  },
  {
   "cell_type": "code",
   "execution_count": null,
   "id": "7bb0d65d",
   "metadata": {},
   "outputs": [],
   "source": [
    "print('Accuracy =',accuracy_score(Y_train, train_pred))"
   ]
  },
  {
   "cell_type": "markdown",
   "id": "0f6a85e2",
   "metadata": {},
   "source": [
    "The model achieves an accuracy of 85.1% on the training set. We can visualize the breakdown of correctly and incorrectly classified inputs using a confusion matrix.\n",
    "\n",
    "<img src=\"https://i.imgur.com/UM28BCN.png\" width=\"480\">"
   ]
  },
  {
   "cell_type": "markdown",
   "id": "bf0eb07a",
   "metadata": {},
   "source": [
    "#### Confusion Matrix - Training Data Set"
   ]
  },
  {
   "cell_type": "code",
   "execution_count": null,
   "id": "5ea4cd87",
   "metadata": {},
   "outputs": [],
   "source": [
    "cf = confusion_matrix(Y_train, train_pred, normalize='true')"
   ]
  },
  {
   "cell_type": "code",
   "execution_count": null,
   "id": "29fd2577",
   "metadata": {},
   "outputs": [],
   "source": [
    "print('Accuracy =',accuracy_score(Y_train, train_pred)*100)\n",
    "plt.figure();\n",
    "sns.heatmap(cf, annot=True);\n",
    "plt.title('Training Confusion Matrix');\n",
    "plt.xlabel('Prediction');\n",
    "plt.ylabel('Target');"
   ]
  },
  {
   "cell_type": "markdown",
   "id": "12e89802",
   "metadata": {},
   "source": [
    "#### Confusion Matrix - Validation Data Set"
   ]
  },
  {
   "cell_type": "code",
   "execution_count": null,
   "id": "6d10d68a",
   "metadata": {},
   "outputs": [],
   "source": [
    "X_val"
   ]
  },
  {
   "cell_type": "code",
   "execution_count": null,
   "id": "ca79bec8",
   "metadata": {},
   "outputs": [],
   "source": [
    "val_pred = model.predict(X_val)\n",
    "cf = confusion_matrix(Y_val, val_pred, normalize='true')\n",
    "cf"
   ]
  },
  {
   "cell_type": "code",
   "execution_count": null,
   "id": "b59b5849",
   "metadata": {
    "scrolled": true
   },
   "outputs": [],
   "source": [
    "print('Accuracy =',accuracy_score(Y_val, val_pred)*100)\n",
    "plt.figure();\n",
    "sns.heatmap(cf, annot=True);\n",
    "plt.title('Validation Confusion Matrix');\n",
    "plt.xlabel('Prediction');\n",
    "plt.ylabel('Target');"
   ]
  },
  {
   "cell_type": "markdown",
   "id": "e215df9f",
   "metadata": {},
   "source": [
    "#### Confusion Matrix - Test Data Set"
   ]
  },
  {
   "cell_type": "code",
   "execution_count": null,
   "id": "4da4d8d9",
   "metadata": {},
   "outputs": [],
   "source": [
    "test_pred = model.predict(X_test)\n",
    "cf = confusion_matrix(Y_test, test_pred, normalize='true')"
   ]
  },
  {
   "cell_type": "code",
   "execution_count": null,
   "id": "b7d11811",
   "metadata": {},
   "outputs": [],
   "source": [
    "print('Accuracy =', accuracy_score(Y_test, test_pred))\n",
    "plt.figure()\n",
    "sns.heatmap(cf, annot = True);\n",
    "plt.title('Testing Confusion Matrix');\n",
    "plt.xlabel('Prediction');\n",
    "plt.ylabel('Targer');"
   ]
  },
  {
   "cell_type": "markdown",
   "id": "c4910594",
   "metadata": {},
   "source": [
    "The accuracy of the model on the test and validation set are above 84%, which suggests that our model generalizes well to data it hasn't seen before. \n",
    "\n",
    "But how good is 84% accuracy? While this depends on the nature of the problem and on business requirements, a good way to verify whether a model has actually learned something useful is to compare its results to a \"random\" or \"dumb\" model.\n",
    "\n",
    "Let's create two models: one that guesses randomly and another that always return \"No\". Both of these models completely ignore the inputs given to them."
   ]
  },
  {
   "cell_type": "code",
   "execution_count": null,
   "id": "76cd663f",
   "metadata": {},
   "outputs": [],
   "source": [
    "def random_model(inputs):\n",
    "    return np.random.choice(['No', 'Yes'], len(inputs))\n",
    "print('Accuracy on Random Model on Validation Data Set =',accuracy_score(random_model(X_val), Y_val))"
   ]
  },
  {
   "cell_type": "markdown",
   "id": "80f6430c",
   "metadata": {},
   "source": [
    "Therefore, just by predicting randomly accuracy is 50 %"
   ]
  },
  {
   "cell_type": "code",
   "execution_count": null,
   "id": "c6dc720c",
   "metadata": {},
   "outputs": [],
   "source": [
    "def all_no(inputs):\n",
    "    return np.full(len(inputs), ['No'])\n",
    "print('Accuracy on All_No Model on Test Data Set =',accuracy_score(all_no(X_test), Y_test))"
   ]
  },
  {
   "cell_type": "markdown",
   "id": "b299e8a0",
   "metadata": {},
   "source": [
    "Therefore, just by predicting all as 'No' gives accuracy as 77 %.<br>\n",
    "***Note : *** Accuracy for All_No model is 77% and our model has accuracy as 84% for test data set<br>\n",
    "\n",
    "This is because the validation data set is skewed towards 'No' as see below:"
   ]
  },
  {
   "cell_type": "code",
   "execution_count": null,
   "id": "ce918c2c",
   "metadata": {},
   "outputs": [],
   "source": [
    "Y_test.value_counts()"
   ]
  },
  {
   "cell_type": "code",
   "execution_count": null,
   "id": "171c88cc",
   "metadata": {},
   "outputs": [],
   "source": []
  },
  {
   "cell_type": "code",
   "execution_count": null,
   "id": "d8b679df",
   "metadata": {},
   "outputs": [],
   "source": []
  },
  {
   "cell_type": "markdown",
   "id": "57538a07",
   "metadata": {},
   "source": [
    "> **EXERCISE**: Initialize the `LogisticRegression` model with different arguments and try to achieve a higher accuracy. The arguments used for initializing the model are called hyperparameters (to differentiate them from weights and biases - parameters that are learned by the model during training). You can find the full list of arguments here: https://scikit-learn.org/stable/modules/generated/sklearn.linear_model.LogisticRegression.html "
   ]
  },
  {
   "cell_type": "markdown",
   "id": "a24b1589",
   "metadata": {},
   "source": [
    "> **EXERCISE**: Train a logistic regression model using just the numeric columns from the dataset. Does it perform better or worse than the model trained above?"
   ]
  },
  {
   "cell_type": "markdown",
   "id": "9ae957e1",
   "metadata": {},
   "source": [
    "> **EXERCISE**: Train a logistic regression model using just the categorical columns from the dataset. Does it perform better or worse than the model trained above?"
   ]
  },
  {
   "cell_type": "markdown",
   "id": "2c383be6",
   "metadata": {},
   "source": [
    "> **EXERCISE**: Train a logistic regression model without feature scaling. Also try a different strategy for missing data imputation. Does it perform better or worse than the model trained above?"
   ]
  },
  {
   "cell_type": "code",
   "execution_count": null,
   "id": "ee117351",
   "metadata": {},
   "outputs": [],
   "source": []
  },
  {
   "cell_type": "code",
   "execution_count": null,
   "id": "bc70a59a",
   "metadata": {},
   "outputs": [],
   "source": []
  },
  {
   "cell_type": "markdown",
   "id": "4ba236a8",
   "metadata": {},
   "source": [
    "# Making Prediction on Single Input"
   ]
  },
  {
   "cell_type": "code",
   "execution_count": null,
   "id": "c41618fc",
   "metadata": {},
   "outputs": [],
   "source": [
    "new_input = {'Date': '2021-06-19',\n",
    "             'Location': 'Katherine',\n",
    "             'MinTemp': 23.2,\n",
    "             'MaxTemp': 33.2,\n",
    "             'Rainfall': 10.2,\n",
    "             'Evaporation': 4.2,\n",
    "             'Sunshine': np.nan,\n",
    "             'WindGustDir': 'NNW',\n",
    "             'WindGustSpeed': 52.0,\n",
    "             'WindDir9am': 'NW',\n",
    "             'WindDir3pm': 'NNE',\n",
    "             'WindSpeed9am': 13.0,\n",
    "             'WindSpeed3pm': 20.0,\n",
    "             'Humidity9am': 89.0,\n",
    "             'Humidity3pm': 58.0,\n",
    "             'Pressure9am': 1004.8,\n",
    "             'Pressure3pm': 1001.5,\n",
    "             'Cloud9am': 8.0,\n",
    "             'Cloud3pm': 5.0,\n",
    "             'Temp9am': 25.7,\n",
    "             'Temp3pm': 33.0,\n",
    "             'RainToday': 'Yes'}"
   ]
  },
  {
   "cell_type": "markdown",
   "id": "f43e0b09",
   "metadata": {},
   "source": [
    "***Note : ***There is Nan value also"
   ]
  },
  {
   "cell_type": "code",
   "execution_count": null,
   "id": "b85b0586",
   "metadata": {},
   "outputs": [],
   "source": [
    "new_input = pd.DataFrame([new_input])"
   ]
  },
  {
   "cell_type": "code",
   "execution_count": null,
   "id": "32c09326",
   "metadata": {},
   "outputs": [],
   "source": [
    "new_input"
   ]
  },
  {
   "cell_type": "markdown",
   "id": "f09ec0d7",
   "metadata": {},
   "source": [
    "We must now apply the same transformations applied while training the model:\n",
    "\n",
    "1. Imputation of missing values using the `imputer` created earlier (Average values for numeric columns only)\n",
    "2. Scaling numerical features using the `scaler` created earlier\n",
    "3. Encoding categorical features using the `encoder` created earlier"
   ]
  },
  {
   "cell_type": "code",
   "execution_count": null,
   "id": "8138c0f9",
   "metadata": {},
   "outputs": [],
   "source": [
    "new_input[numeric_cols] = imputer.transform(new_input[numeric_cols])\n",
    "new_input[numeric_cols] = scaler.transform(new_input[numeric_cols])\n",
    "new_input[encoded_cols] = encoder.transform(new_input[categorical_cols])"
   ]
  },
  {
   "cell_type": "code",
   "execution_count": null,
   "id": "ec85d20b",
   "metadata": {},
   "outputs": [],
   "source": [
    "X_inp = new_input[numeric_cols + encoded_cols]"
   ]
  },
  {
   "cell_type": "code",
   "execution_count": null,
   "id": "4edb1f3f",
   "metadata": {},
   "outputs": [],
   "source": [
    "print(model.predict(X_inp))"
   ]
  },
  {
   "cell_type": "code",
   "execution_count": null,
   "id": "a62c2702",
   "metadata": {},
   "outputs": [],
   "source": [
    "model.predict_proba(X_inp)"
   ]
  },
  {
   "cell_type": "markdown",
   "id": "65b75d83",
   "metadata": {},
   "source": [
    "Seems our model is not  confident with its prediction"
   ]
  },
  {
   "cell_type": "code",
   "execution_count": null,
   "id": "3c662863",
   "metadata": {},
   "outputs": [],
   "source": [
    "new_input = {'Date': '2021-06-19',\n",
    "             'Location': 'Launceston',\n",
    "             'MinTemp': 23.2,\n",
    "             'MaxTemp': 33.2,\n",
    "             'Rainfall': 10.2,\n",
    "             'Evaporation': 4.2,\n",
    "             'Sunshine': np.nan,\n",
    "             'WindGustDir': 'NNW',\n",
    "             'WindGustSpeed': 52.0,\n",
    "             'WindDir9am': 'NW',\n",
    "             'WindDir3pm': 'NNE',\n",
    "             'WindSpeed9am': 13.0,\n",
    "             'WindSpeed3pm': 20.0,\n",
    "             'Humidity9am': 89.0,\n",
    "             'Humidity3pm': 58.0,\n",
    "             'Pressure9am': 1004.8,\n",
    "             'Pressure3pm': 1001.5,\n",
    "             'Cloud9am': 8.0,\n",
    "             'Cloud3pm': 5.0,\n",
    "             'Temp9am': 25.7,\n",
    "             'Temp3pm': 33.0,\n",
    "             'RainToday': 'Yes'}"
   ]
  },
  {
   "cell_type": "code",
   "execution_count": null,
   "id": "e1bf86d3",
   "metadata": {},
   "outputs": [],
   "source": [
    "def predict_input(single_input):\n",
    "    input_df = pd.DataFrame([single_input])\n",
    "    input_df[numeric_cols] = imputer.transform(input_df[numeric_cols])\n",
    "    input_df[numeric_cols] = scaler.transform(input_df[numeric_cols])\n",
    "    input_df[encoded_cols] = encoder.transform(input_df[categorical_cols])\n",
    "    X_input = input_df[numeric_cols + encoded_cols]\n",
    "    pred = model.predict(X_input)[0]\n",
    "    prob = model.predict_proba(X_input)[0][list(model.classes_).index(pred)]\n",
    "    return pred, prob"
   ]
  },
  {
   "cell_type": "code",
   "execution_count": null,
   "id": "3e992d1b",
   "metadata": {},
   "outputs": [],
   "source": [
    "predict_input(new_input)"
   ]
  },
  {
   "cell_type": "markdown",
   "id": "84775aea",
   "metadata": {},
   "source": [
    "# Saving & Loading Model\n",
    "\n",
    "We can save the parameters (weights and biases) of our trained model to disk, so that we needn't retrain the model from scratch each time we wish to use it. Along with the model, it's also important to save imputers, scalers, encoders and even column names. Anything that will be required while generating predictions using the model should be saved.\n",
    "\n",
    "We can use the `joblib` module to save and load Python objects on the disk. "
   ]
  },
  {
   "cell_type": "markdown",
   "id": "c3b8d4af",
   "metadata": {},
   "source": [
    "Let's first create a dictionary containing all the required objects."
   ]
  },
  {
   "cell_type": "code",
   "execution_count": null,
   "id": "7eb57a60",
   "metadata": {},
   "outputs": [],
   "source": [
    "aussie_rain = {\n",
    "    'model': model,\n",
    "    'imputer': imputer,\n",
    "    'scaler': scaler,\n",
    "    'encoder': encoder,\n",
    "    'input_cols': input_cols,\n",
    "    'target_col': target_cols,\n",
    "    'numeric_cols': numeric_cols,\n",
    "    'categorical_cols': categorical_cols,\n",
    "    'encoded_cols': encoded_cols\n",
    "}"
   ]
  },
  {
   "cell_type": "markdown",
   "id": "c3f0a7f6",
   "metadata": {},
   "source": [
    "#### Save All"
   ]
  },
  {
   "cell_type": "code",
   "execution_count": null,
   "id": "282d4dbb",
   "metadata": {},
   "outputs": [],
   "source": [
    "joblib.dump(aussie_rain,'aussie_rain.joblib')"
   ]
  },
  {
   "cell_type": "markdown",
   "id": "15c11d33",
   "metadata": {},
   "source": [
    "#### Load"
   ]
  },
  {
   "cell_type": "code",
   "execution_count": null,
   "id": "e63bf013",
   "metadata": {},
   "outputs": [],
   "source": [
    "aussie_rain = joblib.load('aussie_rain.joblib')"
   ]
  },
  {
   "cell_type": "code",
   "execution_count": null,
   "id": "99a9d90c",
   "metadata": {},
   "outputs": [],
   "source": [
    "aussie_rain"
   ]
  },
  {
   "cell_type": "code",
   "execution_count": null,
   "id": "3d47eeba",
   "metadata": {},
   "outputs": [],
   "source": [
    "accuracy_score(aussie_rain['model'].predict(X_test), Y_test)"
   ]
  }
 ],
 "metadata": {
  "kernelspec": {
   "display_name": "Python 3",
   "language": "python",
   "name": "python3"
  },
  "language_info": {
   "codemirror_mode": {
    "name": "ipython",
    "version": 3
   },
   "file_extension": ".py",
   "mimetype": "text/x-python",
   "name": "python",
   "nbconvert_exporter": "python",
   "pygments_lexer": "ipython3",
   "version": "3.8.8"
  }
 },
 "nbformat": 4,
 "nbformat_minor": 5
}
