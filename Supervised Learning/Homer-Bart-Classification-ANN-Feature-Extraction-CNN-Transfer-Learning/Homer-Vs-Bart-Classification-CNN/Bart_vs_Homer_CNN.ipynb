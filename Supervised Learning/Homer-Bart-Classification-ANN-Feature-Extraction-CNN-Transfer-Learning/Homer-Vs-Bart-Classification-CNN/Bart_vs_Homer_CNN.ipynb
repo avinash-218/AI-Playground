{
 "cells": [
  {
   "cell_type": "markdown",
   "id": "9976ad61",
   "metadata": {
    "papermill": {
     "duration": 0.017048,
     "end_time": "2021-10-01T14:38:19.091134",
     "exception": false,
     "start_time": "2021-10-01T14:38:19.074086",
     "status": "completed"
    },
    "tags": []
   },
   "source": [
    "# Import Libraries"
   ]
  },
  {
   "cell_type": "code",
   "execution_count": 1,
   "id": "f1454656",
   "metadata": {
    "execution": {
     "iopub.execute_input": "2021-10-01T14:38:19.128527Z",
     "iopub.status.busy": "2021-10-01T14:38:19.127383Z",
     "iopub.status.idle": "2021-10-01T14:38:30.287637Z",
     "shell.execute_reply": "2021-10-01T14:38:30.286840Z",
     "shell.execute_reply.started": "2021-10-01T14:29:01.33536Z"
    },
    "papermill": {
     "duration": 11.179358,
     "end_time": "2021-10-01T14:38:30.287831",
     "exception": false,
     "start_time": "2021-10-01T14:38:19.108473",
     "status": "completed"
    },
    "tags": []
   },
   "outputs": [
    {
     "name": "stdout",
     "output_type": "stream",
     "text": [
      "Collecting keras==2.3.1\r\n",
      "  Downloading Keras-2.3.1-py2.py3-none-any.whl (377 kB)\r\n",
      "\u001b[K     |████████████████████████████████| 377 kB 600 kB/s \r\n",
      "\u001b[?25hCollecting keras-applications>=1.0.6\r\n",
      "  Downloading Keras_Applications-1.0.8-py3-none-any.whl (50 kB)\r\n",
      "\u001b[K     |████████████████████████████████| 50 kB 4.1 MB/s \r\n",
      "\u001b[?25hRequirement already satisfied: keras-preprocessing>=1.0.5 in /opt/conda/lib/python3.7/site-packages (from keras==2.3.1) (1.1.2)\r\n",
      "Requirement already satisfied: scipy>=0.14 in /opt/conda/lib/python3.7/site-packages (from keras==2.3.1) (1.7.1)\r\n",
      "Requirement already satisfied: six>=1.9.0 in /opt/conda/lib/python3.7/site-packages (from keras==2.3.1) (1.15.0)\r\n",
      "Requirement already satisfied: numpy>=1.9.1 in /opt/conda/lib/python3.7/site-packages (from keras==2.3.1) (1.19.5)\r\n",
      "Requirement already satisfied: h5py in /opt/conda/lib/python3.7/site-packages (from keras==2.3.1) (2.10.0)\r\n",
      "Requirement already satisfied: pyyaml in /opt/conda/lib/python3.7/site-packages (from keras==2.3.1) (5.4.1)\r\n",
      "Installing collected packages: keras-applications, keras\r\n",
      "Successfully installed keras-2.3.1 keras-applications-1.0.8\r\n",
      "\u001b[33mWARNING: Running pip as the 'root' user can result in broken permissions and conflicting behaviour with the system package manager. It is recommended to use a virtual environment instead: https://pip.pypa.io/warnings/venv\u001b[0m\r\n"
     ]
    }
   ],
   "source": [
    "!pip install keras==2.3.1"
   ]
  },
  {
   "cell_type": "code",
   "execution_count": 2,
   "id": "44ebf8cc",
   "metadata": {
    "execution": {
     "iopub.execute_input": "2021-10-01T14:38:30.339391Z",
     "iopub.status.busy": "2021-10-01T14:38:30.338563Z",
     "iopub.status.idle": "2021-10-01T14:38:37.296066Z",
     "shell.execute_reply": "2021-10-01T14:38:37.294951Z",
     "shell.execute_reply.started": "2021-10-01T14:32:25.474062Z"
    },
    "papermill": {
     "duration": 6.987835,
     "end_time": "2021-10-01T14:38:37.296237",
     "exception": false,
     "start_time": "2021-10-01T14:38:30.308402",
     "status": "completed"
    },
    "tags": []
   },
   "outputs": [
    {
     "name": "stderr",
     "output_type": "stream",
     "text": [
      "2021-10-01 14:38:31.019710: W tensorflow/stream_executor/platform/default/dso_loader.cc:60] Could not load dynamic library 'libcudart.so.11.0'; dlerror: libcudart.so.11.0: cannot open shared object file: No such file or directory; LD_LIBRARY_PATH: /opt/conda/lib\n",
      "2021-10-01 14:38:31.019866: I tensorflow/stream_executor/cuda/cudart_stub.cc:29] Ignore above cudart dlerror if you do not have a GPU set up on your machine.\n"
     ]
    }
   ],
   "source": [
    "from tensorflow.keras.preprocessing.image import ImageDataGenerator\n",
    "import numpy as np\n",
    "import matplotlib.pyplot as plt\n",
    "import seaborn as sns\n",
    "import cv2\n",
    "from tensorflow import keras \n",
    "import tensorflow as tf\n",
    "from tensorflow.keras.models import Sequential\n",
    "from tensorflow.keras.layers import Conv2D, MaxPooling2D, Flatten, Dense\n",
    "from sklearn.metrics import accuracy_score, confusion_matrix, classification_report"
   ]
  },
  {
   "cell_type": "markdown",
   "id": "629ccca0",
   "metadata": {
    "papermill": {
     "duration": 0.020938,
     "end_time": "2021-10-01T14:38:37.339185",
     "exception": false,
     "start_time": "2021-10-01T14:38:37.318247",
     "status": "completed"
    },
    "tags": []
   },
   "source": [
    "# Import Dataset"
   ]
  },
  {
   "cell_type": "markdown",
   "id": "e8e125e0",
   "metadata": {
    "papermill": {
     "duration": 0.02038,
     "end_time": "2021-10-01T14:38:37.379972",
     "exception": false,
     "start_time": "2021-10-01T14:38:37.359592",
     "status": "completed"
    },
    "tags": []
   },
   "source": [
    "# Image Generator"
   ]
  },
  {
   "cell_type": "code",
   "execution_count": 3,
   "id": "a4d1342f",
   "metadata": {
    "execution": {
     "iopub.execute_input": "2021-10-01T14:38:37.429145Z",
     "iopub.status.busy": "2021-10-01T14:38:37.428376Z",
     "iopub.status.idle": "2021-10-01T14:38:37.648825Z",
     "shell.execute_reply": "2021-10-01T14:38:37.648245Z",
     "shell.execute_reply.started": "2021-10-01T14:29:18.24681Z"
    },
    "papermill": {
     "duration": 0.24827,
     "end_time": "2021-10-01T14:38:37.648984",
     "exception": false,
     "start_time": "2021-10-01T14:38:37.400714",
     "status": "completed"
    },
    "tags": []
   },
   "outputs": [
    {
     "name": "stdout",
     "output_type": "stream",
     "text": [
      "Found 215 images belonging to 2 classes.\n",
      "Found 54 images belonging to 2 classes.\n"
     ]
    }
   ],
   "source": [
    "train_generator = ImageDataGenerator(rescale = 1./255,  #generate train images\n",
    "                                     rotation_range=7,\n",
    "                                     horizontal_flip=True,\n",
    "                                     zoom_range=0.2)\n",
    "\n",
    "train_dataset = train_generator.flow_from_directory('../input/homerbart2/homer_bart_2/training_set',\n",
    "                                                    target_size=(64, 64),\n",
    "                                                    batch_size = 8,\n",
    "                                                    class_mode='categorical',\n",
    "                                                    shuffle=True)\n",
    "test_generator = ImageDataGenerator(rescale = 1./255)\n",
    "\n",
    "test_dataset = test_generator.flow_from_directory('../input/homerbart2/homer_bart_2/test_set', \n",
    "                                                  target_size=(64,64),\n",
    "                                                  batch_size=1,\n",
    "                                                  class_mode='categorical',\n",
    "                                                  shuffle=False)"
   ]
  },
  {
   "cell_type": "code",
   "execution_count": 4,
   "id": "ffe50d7b",
   "metadata": {
    "execution": {
     "iopub.execute_input": "2021-10-01T14:38:37.699337Z",
     "iopub.status.busy": "2021-10-01T14:38:37.698650Z",
     "iopub.status.idle": "2021-10-01T14:38:37.701829Z",
     "shell.execute_reply": "2021-10-01T14:38:37.702299Z",
     "shell.execute_reply.started": "2021-10-01T14:29:20.565738Z"
    },
    "papermill": {
     "duration": 0.032455,
     "end_time": "2021-10-01T14:38:37.702472",
     "exception": false,
     "start_time": "2021-10-01T14:38:37.670017",
     "status": "completed"
    },
    "tags": []
   },
   "outputs": [
    {
     "name": "stdout",
     "output_type": "stream",
     "text": [
      "[0 0 0 0 0 0 0 0 0 0 0 0 0 0 0 0 0 0 0 0 0 0 0 0 0 0 0 0 0 0 0 0 0 0 0 0 0\n",
      " 0 0 0 0 0 0 0 0 0 0 0 0 0 0 0 0 0 0 0 0 0 0 0 0 0 0 0 0 0 0 0 0 0 0 0 0 0\n",
      " 0 0 0 0 0 0 0 0 0 0 0 0 0 0 0 0 0 0 0 0 0 0 0 0 0 0 0 0 0 0 0 0 0 0 0 0 0\n",
      " 0 0 0 0 0 0 0 0 0 0 0 0 0 0 0 0 0 0 0 0 0 1 1 1 1 1 1 1 1 1 1 1 1 1 1 1 1\n",
      " 1 1 1 1 1 1 1 1 1 1 1 1 1 1 1 1 1 1 1 1 1 1 1 1 1 1 1 1 1 1 1 1 1 1 1 1 1\n",
      " 1 1 1 1 1 1 1 1 1 1 1 1 1 1 1 1 1 1 1 1 1 1 1 1 1 1 1 1 1 1]\n",
      "\n",
      "{'bart': 0, 'homer': 1}\n"
     ]
    }
   ],
   "source": [
    "print(train_dataset.classes, train_dataset.class_indices,sep='\\n\\n')"
   ]
  },
  {
   "cell_type": "markdown",
   "id": "ac31427a",
   "metadata": {
    "papermill": {
     "duration": 0.020701,
     "end_time": "2021-10-01T14:38:37.744157",
     "exception": false,
     "start_time": "2021-10-01T14:38:37.723456",
     "status": "completed"
    },
    "tags": []
   },
   "source": [
    "# Model"
   ]
  },
  {
   "cell_type": "code",
   "execution_count": 5,
   "id": "56d49020",
   "metadata": {
    "execution": {
     "iopub.execute_input": "2021-10-01T14:38:37.794742Z",
     "iopub.status.busy": "2021-10-01T14:38:37.794075Z",
     "iopub.status.idle": "2021-10-01T14:38:38.137013Z",
     "shell.execute_reply": "2021-10-01T14:38:38.137505Z",
     "shell.execute_reply.started": "2021-10-01T14:29:25.230914Z"
    },
    "papermill": {
     "duration": 0.37255,
     "end_time": "2021-10-01T14:38:38.137689",
     "exception": false,
     "start_time": "2021-10-01T14:38:37.765139",
     "status": "completed"
    },
    "tags": []
   },
   "outputs": [
    {
     "name": "stderr",
     "output_type": "stream",
     "text": [
      "2021-10-01 14:38:37.807240: I tensorflow/compiler/jit/xla_cpu_device.cc:41] Not creating XLA devices, tf_xla_enable_xla_devices not set\n",
      "2021-10-01 14:38:37.810288: W tensorflow/stream_executor/platform/default/dso_loader.cc:60] Could not load dynamic library 'libcuda.so.1'; dlerror: libcuda.so.1: cannot open shared object file: No such file or directory; LD_LIBRARY_PATH: /opt/conda/lib\n",
      "2021-10-01 14:38:37.810322: W tensorflow/stream_executor/cuda/cuda_driver.cc:326] failed call to cuInit: UNKNOWN ERROR (303)\n",
      "2021-10-01 14:38:37.810347: I tensorflow/stream_executor/cuda/cuda_diagnostics.cc:156] kernel driver does not appear to be running on this host (b57e1796788f): /proc/driver/nvidia/version does not exist\n",
      "2021-10-01 14:38:37.811260: I tensorflow/core/platform/cpu_feature_guard.cc:142] This TensorFlow binary is optimized with oneAPI Deep Neural Network Library (oneDNN) to use the following CPU instructions in performance-critical operations:  AVX2 FMA\n",
      "To enable them in other operations, rebuild TensorFlow with the appropriate compiler flags.\n",
      "2021-10-01 14:38:37.811541: I tensorflow/compiler/jit/xla_gpu_device.cc:99] Not creating XLA devices, tf_xla_enable_xla_devices not set\n"
     ]
    }
   ],
   "source": [
    "model = Sequential()\n",
    "\n",
    "model.add(Conv2D(filters=32, kernel_size=(3,3), activation='relu', input_shape=(64,64,3)))\n",
    "model.add(MaxPooling2D(2,2))\n",
    "\n",
    "model.add(Conv2D(filters=32, kernel_size=(3,3), activation='relu'))\n",
    "model.add(MaxPooling2D(2,2))\n",
    "\n",
    "model.add(Conv2D(filters=32, kernel_size=(3,3), activation='relu'))\n",
    "model.add(MaxPooling2D(2,2))\n",
    "\n",
    "model.add(Flatten())    #1152 outputs\n",
    "#(1152 + 2)/2 = 577\n",
    "model.add(Dense(units=577, activation='relu'))\n",
    "model.add(Dense(units=577, activation='relu'))\n",
    "model.add(Dense(units=2, activation='softmax'))"
   ]
  },
  {
   "cell_type": "markdown",
   "id": "9f299653",
   "metadata": {
    "papermill": {
     "duration": 0.020795,
     "end_time": "2021-10-01T14:38:38.179919",
     "exception": false,
     "start_time": "2021-10-01T14:38:38.159124",
     "status": "completed"
    },
    "tags": []
   },
   "source": [
    "# Visualise Model"
   ]
  },
  {
   "cell_type": "code",
   "execution_count": 6,
   "id": "c81d2460",
   "metadata": {
    "execution": {
     "iopub.execute_input": "2021-10-01T14:38:38.225854Z",
     "iopub.status.busy": "2021-10-01T14:38:38.225181Z",
     "iopub.status.idle": "2021-10-01T14:38:39.352592Z",
     "shell.execute_reply": "2021-10-01T14:38:39.353120Z",
     "shell.execute_reply.started": "2021-10-01T14:29:29.644966Z"
    },
    "papermill": {
     "duration": 1.152281,
     "end_time": "2021-10-01T14:38:39.353298",
     "exception": false,
     "start_time": "2021-10-01T14:38:38.201017",
     "status": "completed"
    },
    "tags": []
   },
   "outputs": [
    {
     "name": "stdout",
     "output_type": "stream",
     "text": [
      "Model: \"sequential\"\n",
      "_________________________________________________________________\n",
      "Layer (type)                 Output Shape              Param #   \n",
      "=================================================================\n",
      "conv2d (Conv2D)              (None, 62, 62, 32)        896       \n",
      "_________________________________________________________________\n",
      "max_pooling2d (MaxPooling2D) (None, 31, 31, 32)        0         \n",
      "_________________________________________________________________\n",
      "conv2d_1 (Conv2D)            (None, 29, 29, 32)        9248      \n",
      "_________________________________________________________________\n",
      "max_pooling2d_1 (MaxPooling2 (None, 14, 14, 32)        0         \n",
      "_________________________________________________________________\n",
      "conv2d_2 (Conv2D)            (None, 12, 12, 32)        9248      \n",
      "_________________________________________________________________\n",
      "max_pooling2d_2 (MaxPooling2 (None, 6, 6, 32)          0         \n",
      "_________________________________________________________________\n",
      "flatten (Flatten)            (None, 1152)              0         \n",
      "_________________________________________________________________\n",
      "dense (Dense)                (None, 577)               665281    \n",
      "_________________________________________________________________\n",
      "dense_1 (Dense)              (None, 577)               333506    \n",
      "_________________________________________________________________\n",
      "dense_2 (Dense)              (None, 2)                 1156      \n",
      "=================================================================\n",
      "Total params: 1,019,335\n",
      "Trainable params: 1,019,335\n",
      "Non-trainable params: 0\n",
      "_________________________________________________________________\n"
     ]
    },
    {
     "data": {
      "image/png": "[encoded data removed]",
      "text/plain": [
       "<IPython.core.display.Image object>"
      ]
     },
     "execution_count": 6,
     "metadata": {},
     "output_type": "execute_result"
    }
   ],
   "source": [
    "model.summary()\n",
    "tf.keras.utils.plot_model(model, to_file='Model.png', show_shapes=True)"
   ]
  },
  {
   "cell_type": "markdown",
   "id": "d58c74b3",
   "metadata": {
    "papermill": {
     "duration": 0.023901,
     "end_time": "2021-10-01T14:38:39.401597",
     "exception": false,
     "start_time": "2021-10-01T14:38:39.377696",
     "status": "completed"
    },
    "tags": []
   },
   "source": [
    "# Training"
   ]
  },
  {
   "cell_type": "code",
   "execution_count": 7,
   "id": "8cae08b1",
   "metadata": {
    "execution": {
     "iopub.execute_input": "2021-10-01T14:38:39.467071Z",
     "iopub.status.busy": "2021-10-01T14:38:39.466399Z",
     "iopub.status.idle": "2021-10-01T14:39:29.716508Z",
     "shell.execute_reply": "2021-10-01T14:39:29.715915Z",
     "shell.execute_reply.started": "2021-10-01T14:29:35.791005Z"
    },
    "papermill": {
     "duration": 50.290868,
     "end_time": "2021-10-01T14:39:29.716659",
     "exception": false,
     "start_time": "2021-10-01T14:38:39.425791",
     "status": "completed"
    },
    "tags": []
   },
   "outputs": [
    {
     "name": "stderr",
     "output_type": "stream",
     "text": [
      "2021-10-01 14:38:39.687425: I tensorflow/compiler/mlir/mlir_graph_optimization_pass.cc:116] None of the MLIR optimization passes are enabled (registered 2)\n",
      "2021-10-01 14:38:39.696284: I tensorflow/core/platform/profile_utils/cpu_utils.cc:112] CPU Frequency: 2199995000 Hz\n"
     ]
    },
    {
     "name": "stdout",
     "output_type": "stream",
     "text": [
      "Epoch 1/50\n",
      "27/27 [==============================] - 3s 73ms/step - loss: 0.7000 - accuracy: 0.5615\n",
      "Epoch 2/50\n",
      "27/27 [==============================] - 1s 33ms/step - loss: 0.5887 - accuracy: 0.6785\n",
      "Epoch 3/50\n",
      "27/27 [==============================] - 1s 33ms/step - loss: 0.5950 - accuracy: 0.7388\n",
      "Epoch 4/50\n",
      "27/27 [==============================] - 1s 33ms/step - loss: 0.5708 - accuracy: 0.7182\n",
      "Epoch 5/50\n",
      "27/27 [==============================] - 1s 34ms/step - loss: 0.5203 - accuracy: 0.7260\n",
      "Epoch 6/50\n",
      "27/27 [==============================] - 1s 33ms/step - loss: 0.4431 - accuracy: 0.7957\n",
      "Epoch 7/50\n",
      "27/27 [==============================] - 1s 33ms/step - loss: 0.3643 - accuracy: 0.8539\n",
      "Epoch 8/50\n",
      "27/27 [==============================] - 1s 34ms/step - loss: 0.3389 - accuracy: 0.8540\n",
      "Epoch 9/50\n",
      "27/27 [==============================] - 1s 34ms/step - loss: 0.3893 - accuracy: 0.7680\n",
      "Epoch 10/50\n",
      "27/27 [==============================] - 1s 33ms/step - loss: 0.1845 - accuracy: 0.9066\n",
      "Epoch 11/50\n",
      "27/27 [==============================] - 1s 33ms/step - loss: 0.2284 - accuracy: 0.8822\n",
      "Epoch 12/50\n",
      "27/27 [==============================] - 1s 33ms/step - loss: 0.1854 - accuracy: 0.9329\n",
      "Epoch 13/50\n",
      "27/27 [==============================] - 1s 44ms/step - loss: 0.2582 - accuracy: 0.8839\n",
      "Epoch 14/50\n",
      "27/27 [==============================] - 1s 35ms/step - loss: 0.0917 - accuracy: 0.9569\n",
      "Epoch 15/50\n",
      "27/27 [==============================] - 1s 34ms/step - loss: 0.0994 - accuracy: 0.9660\n",
      "Epoch 16/50\n",
      "27/27 [==============================] - 1s 35ms/step - loss: 0.1330 - accuracy: 0.9499\n",
      "Epoch 17/50\n",
      "27/27 [==============================] - 1s 33ms/step - loss: 0.3792 - accuracy: 0.8093\n",
      "Epoch 18/50\n",
      "27/27 [==============================] - 1s 34ms/step - loss: 0.2195 - accuracy: 0.9421\n",
      "Epoch 19/50\n",
      "27/27 [==============================] - 1s 35ms/step - loss: 0.1721 - accuracy: 0.9157\n",
      "Epoch 20/50\n",
      "27/27 [==============================] - 1s 33ms/step - loss: 0.1646 - accuracy: 0.9237\n",
      "Epoch 21/50\n",
      "27/27 [==============================] - 1s 35ms/step - loss: 0.0509 - accuracy: 0.9904\n",
      "Epoch 22/50\n",
      "27/27 [==============================] - 1s 34ms/step - loss: 0.0776 - accuracy: 0.9826\n",
      "Epoch 23/50\n",
      "27/27 [==============================] - 1s 33ms/step - loss: 0.1089 - accuracy: 0.9533\n",
      "Epoch 24/50\n",
      "27/27 [==============================] - 1s 37ms/step - loss: 0.1488 - accuracy: 0.9347\n",
      "Epoch 25/50\n",
      "27/27 [==============================] - 1s 34ms/step - loss: 0.1744 - accuracy: 0.9432\n",
      "Epoch 26/50\n",
      "27/27 [==============================] - 1s 35ms/step - loss: 0.0962 - accuracy: 0.9623\n",
      "Epoch 27/50\n",
      "27/27 [==============================] - 1s 34ms/step - loss: 0.0465 - accuracy: 0.9821\n",
      "Epoch 28/50\n",
      "27/27 [==============================] - 1s 35ms/step - loss: 0.0325 - accuracy: 0.9871\n",
      "Epoch 29/50\n",
      "27/27 [==============================] - 1s 35ms/step - loss: 0.0352 - accuracy: 0.9904\n",
      "Epoch 30/50\n",
      "27/27 [==============================] - 1s 36ms/step - loss: 0.0681 - accuracy: 0.9576\n",
      "Epoch 31/50\n",
      "27/27 [==============================] - 1s 33ms/step - loss: 0.0129 - accuracy: 0.9997\n",
      "Epoch 32/50\n",
      "27/27 [==============================] - 1s 34ms/step - loss: 0.0719 - accuracy: 0.9807\n",
      "Epoch 33/50\n",
      "27/27 [==============================] - 1s 33ms/step - loss: 0.0491 - accuracy: 0.9789\n",
      "Epoch 34/50\n",
      "27/27 [==============================] - 1s 35ms/step - loss: 0.2443 - accuracy: 0.9284\n",
      "Epoch 35/50\n",
      "27/27 [==============================] - 1s 36ms/step - loss: 0.1042 - accuracy: 0.9759\n",
      "Epoch 36/50\n",
      "27/27 [==============================] - 1s 34ms/step - loss: 0.0414 - accuracy: 0.9868\n",
      "Epoch 37/50\n",
      "27/27 [==============================] - 1s 34ms/step - loss: 0.0546 - accuracy: 0.9829\n",
      "Epoch 38/50\n",
      "27/27 [==============================] - 1s 34ms/step - loss: 0.0562 - accuracy: 0.9697\n",
      "Epoch 39/50\n",
      "27/27 [==============================] - 1s 33ms/step - loss: 0.0483 - accuracy: 0.9832\n",
      "Epoch 40/50\n",
      "27/27 [==============================] - 1s 34ms/step - loss: 0.0207 - accuracy: 0.9968\n",
      "Epoch 41/50\n",
      "27/27 [==============================] - 1s 34ms/step - loss: 0.1206 - accuracy: 0.9608\n",
      "Epoch 42/50\n",
      "27/27 [==============================] - 1s 33ms/step - loss: 0.2047 - accuracy: 0.9619\n",
      "Epoch 43/50\n",
      "27/27 [==============================] - 1s 33ms/step - loss: 0.0477 - accuracy: 0.9816\n",
      "Epoch 44/50\n",
      "27/27 [==============================] - 1s 34ms/step - loss: 0.0801 - accuracy: 0.9681\n",
      "Epoch 45/50\n",
      "27/27 [==============================] - 1s 33ms/step - loss: 0.0216 - accuracy: 0.9912\n",
      "Epoch 46/50\n",
      "27/27 [==============================] - 1s 34ms/step - loss: 0.0157 - accuracy: 0.9906\n",
      "Epoch 47/50\n",
      "27/27 [==============================] - 1s 40ms/step - loss: 0.0316 - accuracy: 0.9929\n",
      "Epoch 48/50\n",
      "27/27 [==============================] - 1s 37ms/step - loss: 0.1584 - accuracy: 0.9643\n",
      "Epoch 49/50\n",
      "27/27 [==============================] - 1s 34ms/step - loss: 0.0177 - accuracy: 0.9951\n",
      "Epoch 50/50\n",
      "27/27 [==============================] - 1s 34ms/step - loss: 0.0076 - accuracy: 1.0000\n"
     ]
    }
   ],
   "source": [
    "model.compile(optimizer='adam', loss='categorical_crossentropy', metrics=['accuracy'])\n",
    "model_history = model.fit(train_dataset, epochs=50)"
   ]
  },
  {
   "cell_type": "markdown",
   "id": "7752200f",
   "metadata": {
    "papermill": {
     "duration": 0.273154,
     "end_time": "2021-10-01T14:39:30.263811",
     "exception": false,
     "start_time": "2021-10-01T14:39:29.990657",
     "status": "completed"
    },
    "tags": []
   },
   "source": [
    "# Visualise Efficiency On Train Dataset"
   ]
  },
  {
   "cell_type": "code",
   "execution_count": 8,
   "id": "150925ee",
   "metadata": {
    "execution": {
     "iopub.execute_input": "2021-10-01T14:39:30.830873Z",
     "iopub.status.busy": "2021-10-01T14:39:30.830111Z",
     "iopub.status.idle": "2021-10-01T14:39:31.136471Z",
     "shell.execute_reply": "2021-10-01T14:39:31.135409Z",
     "shell.execute_reply.started": "2021-10-01T14:30:12.583176Z"
    },
    "papermill": {
     "duration": 0.600182,
     "end_time": "2021-10-01T14:39:31.136638",
     "exception": false,
     "start_time": "2021-10-01T14:39:30.536456",
     "status": "completed"
    },
    "tags": []
   },
   "outputs": [
    {
     "data": {
      "image/png": "[encoded data removed]",
      "text/plain": [
       "<Figure size 432x288 with 1 Axes>"
      ]
     },
     "metadata": {
      "needs_background": "light"
     },
     "output_type": "display_data"
    }
   ],
   "source": [
    "plt.plot(model_history.history['loss'])\n",
    "plt.plot(model_history.history['accuracy'])\n",
    "plt.grid(True)\n",
    "plt.legend(['Loss','Accuracy'])\n",
    "plt.title('Training')\n",
    "plt.savefig('Training.jpg')"
   ]
  },
  {
   "cell_type": "markdown",
   "id": "779429ea",
   "metadata": {
    "papermill": {
     "duration": 0.272836,
     "end_time": "2021-10-01T14:39:31.695467",
     "exception": false,
     "start_time": "2021-10-01T14:39:31.422631",
     "status": "completed"
    },
    "tags": []
   },
   "source": [
    "# Evaluation On Test Set"
   ]
  },
  {
   "cell_type": "code",
   "execution_count": 9,
   "id": "e83c5f4c",
   "metadata": {
    "execution": {
     "iopub.execute_input": "2021-10-01T14:39:32.246588Z",
     "iopub.status.busy": "2021-10-01T14:39:32.245924Z",
     "iopub.status.idle": "2021-10-01T14:39:33.123488Z",
     "shell.execute_reply": "2021-10-01T14:39:33.122973Z",
     "shell.execute_reply.started": "2021-10-01T14:30:17.758993Z"
    },
    "papermill": {
     "duration": 1.156807,
     "end_time": "2021-10-01T14:39:33.123644",
     "exception": false,
     "start_time": "2021-10-01T14:39:31.966837",
     "status": "completed"
    },
    "tags": []
   },
   "outputs": [
    {
     "name": "stdout",
     "output_type": "stream",
     "text": [
      "Accuracy : 92.5925925925926\n",
      "              precision    recall  f1-score   support\n",
      "\n",
      "           0       0.88      1.00      0.93        28\n",
      "           1       1.00      0.85      0.92        26\n",
      "\n",
      "    accuracy                           0.93        54\n",
      "   macro avg       0.94      0.92      0.93        54\n",
      "weighted avg       0.94      0.93      0.93        54\n",
      "\n"
     ]
    },
    {
     "data": {
      "image/png": "[encoded data removed]",
      "text/plain": [
       "<Figure size 432x288 with 2 Axes>"
      ]
     },
     "metadata": {
      "needs_background": "light"
     },
     "output_type": "display_data"
    }
   ],
   "source": [
    "predictions = model.predict(test_dataset)\n",
    "\n",
    "#since we used categorical model(not binary) we get probabilities for an image to be in each class\n",
    "#so we consider that the image belogs to the class with higher probability\n",
    "#print(predictions)\n",
    "predictions = np.argmax(predictions, axis=1)\n",
    "\n",
    "#print(test_dataset.classes) #expected classes\n",
    "#print('\\n',predictions) #predicted classes\n",
    "\n",
    "print('Accuracy :',accuracy_score(predictions,test_dataset.classes)*100)    #accuracy\n",
    "cm = confusion_matrix(test_dataset.classes, predictions)\n",
    "sns.heatmap(cm, annot=True)\n",
    "print(classification_report(test_dataset.classes, predictions))"
   ]
  },
  {
   "cell_type": "markdown",
   "id": "094104df",
   "metadata": {
    "papermill": {
     "duration": 0.273101,
     "end_time": "2021-10-01T14:39:33.671096",
     "exception": false,
     "start_time": "2021-10-01T14:39:33.397995",
     "status": "completed"
    },
    "tags": []
   },
   "source": [
    "# Save Model"
   ]
  },
  {
   "cell_type": "code",
   "execution_count": 10,
   "id": "a256b1f8",
   "metadata": {
    "execution": {
     "iopub.execute_input": "2021-10-01T14:39:34.224764Z",
     "iopub.status.busy": "2021-10-01T14:39:34.223891Z",
     "iopub.status.idle": "2021-10-01T14:39:34.279855Z",
     "shell.execute_reply": "2021-10-01T14:39:34.279257Z",
     "shell.execute_reply.started": "2021-10-01T14:32:45.429457Z"
    },
    "papermill": {
     "duration": 0.33579,
     "end_time": "2021-10-01T14:39:34.280020",
     "exception": false,
     "start_time": "2021-10-01T14:39:33.944230",
     "status": "completed"
    },
    "tags": []
   },
   "outputs": [],
   "source": [
    "model_json = model.to_json()\n",
    "with open('model.json', 'w') as json_file:\n",
    "    json_file.write(model_json)\n",
    "\n",
    "model_saved = tf.keras.models.save_model(model, './weights.hdf5')"
   ]
  },
  {
   "cell_type": "markdown",
   "id": "1c3ab03d",
   "metadata": {
    "papermill": {
     "duration": 0.272192,
     "end_time": "2021-10-01T14:39:34.827201",
     "exception": false,
     "start_time": "2021-10-01T14:39:34.555009",
     "status": "completed"
    },
    "tags": []
   },
   "source": [
    "# Load Model"
   ]
  },
  {
   "cell_type": "code",
   "execution_count": 11,
   "id": "3d615286",
   "metadata": {
    "execution": {
     "iopub.execute_input": "2021-10-01T14:39:35.389485Z",
     "iopub.status.busy": "2021-10-01T14:39:35.387839Z",
     "iopub.status.idle": "2021-10-01T14:39:35.496694Z",
     "shell.execute_reply": "2021-10-01T14:39:35.496124Z",
     "shell.execute_reply.started": "2021-10-01T14:32:47.131469Z"
    },
    "papermill": {
     "duration": 0.394728,
     "end_time": "2021-10-01T14:39:35.496853",
     "exception": false,
     "start_time": "2021-10-01T14:39:35.102125",
     "status": "completed"
    },
    "tags": []
   },
   "outputs": [
    {
     "name": "stdout",
     "output_type": "stream",
     "text": [
      "Model: \"sequential\"\n",
      "_________________________________________________________________\n",
      "Layer (type)                 Output Shape              Param #   \n",
      "=================================================================\n",
      "conv2d (Conv2D)              (None, 62, 62, 32)        896       \n",
      "_________________________________________________________________\n",
      "max_pooling2d (MaxPooling2D) (None, 31, 31, 32)        0         \n",
      "_________________________________________________________________\n",
      "conv2d_1 (Conv2D)            (None, 29, 29, 32)        9248      \n",
      "_________________________________________________________________\n",
      "max_pooling2d_1 (MaxPooling2 (None, 14, 14, 32)        0         \n",
      "_________________________________________________________________\n",
      "conv2d_2 (Conv2D)            (None, 12, 12, 32)        9248      \n",
      "_________________________________________________________________\n",
      "max_pooling2d_2 (MaxPooling2 (None, 6, 6, 32)          0         \n",
      "_________________________________________________________________\n",
      "flatten (Flatten)            (None, 1152)              0         \n",
      "_________________________________________________________________\n",
      "dense (Dense)                (None, 577)               665281    \n",
      "_________________________________________________________________\n",
      "dense_1 (Dense)              (None, 577)               333506    \n",
      "_________________________________________________________________\n",
      "dense_2 (Dense)              (None, 2)                 1156      \n",
      "=================================================================\n",
      "Total params: 1,019,335\n",
      "Trainable params: 1,019,335\n",
      "Non-trainable params: 0\n",
      "_________________________________________________________________\n"
     ]
    }
   ],
   "source": [
    "with open('model.json', 'r') as json_file:\n",
    "    json_saved_model = json_file.read()\n",
    "\n",
    "model_loaded = tf.keras.models.model_from_json(json_saved_model)\n",
    "model_loaded.load_weights('weights.hdf5')\n",
    "model_loaded.compile(optimizer='adam', loss='categorical_crossentropy', metrics=['accuracy'])\n",
    "model_loaded.summary()"
   ]
  },
  {
   "cell_type": "markdown",
   "id": "801f2874",
   "metadata": {
    "papermill": {
     "duration": 0.278875,
     "end_time": "2021-10-01T14:39:36.054137",
     "exception": false,
     "start_time": "2021-10-01T14:39:35.775262",
     "status": "completed"
    },
    "tags": []
   },
   "source": [
    "# Test Single Image"
   ]
  },
  {
   "cell_type": "code",
   "execution_count": 12,
   "id": "4fa64edd",
   "metadata": {
    "_cell_guid": "b1076dfc-b9ad-4769-8c92-a6c4dae69d19",
    "_uuid": "8f2839f25d086af736a60e9eeb907d3b93b6e0e5",
    "execution": {
     "iopub.execute_input": "2021-10-01T14:39:36.667185Z",
     "iopub.status.busy": "2021-10-01T14:39:36.666391Z",
     "iopub.status.idle": "2021-10-01T14:39:36.800689Z",
     "shell.execute_reply": "2021-10-01T14:39:36.800154Z",
     "shell.execute_reply.started": "2021-10-01T14:34:44.624793Z"
    },
    "papermill": {
     "duration": 0.470617,
     "end_time": "2021-10-01T14:39:36.800897",
     "exception": false,
     "start_time": "2021-10-01T14:39:36.330280",
     "status": "completed"
    },
    "tags": []
   },
   "outputs": [
    {
     "name": "stdout",
     "output_type": "stream",
     "text": [
      "Bart\n"
     ]
    }
   ],
   "source": [
    "path = '../input/homerbart2/homer_bart_2/test_set/bart/bart1.bmp'\n",
    "image = cv2.imread(path)\n",
    "#tf.keras.preprocessing.image.load_img(path)\n",
    "image = cv2.resize(image, (64,64))\n",
    "image = image/ 255    #normalise\n",
    "#print(image.shape)\n",
    "image = image.reshape(-1, 64,64,3)      #reshape in format to send more than one image to predict\n",
    "#print(image.shape)\n",
    "\n",
    "result = model_loaded.predict(image)\n",
    "#print(result)  #probabilities that the image belong to each class\n",
    "result = np.argmax(result, axis=1)\n",
    "\n",
    "if(result==0):\n",
    "    print('Bart')\n",
    "else:\n",
    "    print('Homer')"
   ]
  }
 ],
 "metadata": {
  "kernelspec": {
   "display_name": "Python 3",
   "language": "python",
   "name": "python3"
  },
  "language_info": {
   "codemirror_mode": {
    "name": "ipython",
    "version": 3
   },
   "file_extension": ".py",
   "mimetype": "text/x-python",
   "name": "python",
   "nbconvert_exporter": "python",
   "pygments_lexer": "ipython3",
   "version": "3.7.10"
  },
  "papermill": {
   "default_parameters": {},
   "duration": 89.854251,
   "end_time": "2021-10-01T14:39:40.406255",
   "environment_variables": {},
   "exception": null,
   "input_path": "__notebook__.ipynb",
   "output_path": "__notebook__.ipynb",
   "parameters": {},
   "start_time": "2021-10-01T14:38:10.552004",
   "version": "2.3.3"
  }
 },
 "nbformat": 4,
 "nbformat_minor": 5
}
