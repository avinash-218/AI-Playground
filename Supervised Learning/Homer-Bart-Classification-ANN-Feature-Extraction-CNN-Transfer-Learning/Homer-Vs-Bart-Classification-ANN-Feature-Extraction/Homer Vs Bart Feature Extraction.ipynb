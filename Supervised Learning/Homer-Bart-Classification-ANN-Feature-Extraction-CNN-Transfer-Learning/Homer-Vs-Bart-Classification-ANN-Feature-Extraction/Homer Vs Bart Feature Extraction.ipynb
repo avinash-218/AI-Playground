{
 "cells": [
  {
   "cell_type": "markdown",
   "id": "d01c501e",
   "metadata": {
    "papermill": {
     "duration": 0.016375,
     "end_time": "2021-10-01T16:31:22.429561",
     "exception": false,
     "start_time": "2021-10-01T16:31:22.413186",
     "status": "completed"
    },
    "tags": []
   },
   "source": [
    "# Import Libraries"
   ]
  },
  {
   "cell_type": "code",
   "execution_count": 1,
   "id": "929ceb01",
   "metadata": {
    "execution": {
     "iopub.execute_input": "2021-10-01T16:31:22.464490Z",
     "iopub.status.busy": "2021-10-01T16:31:22.463320Z",
     "iopub.status.idle": "2021-10-01T16:31:33.619105Z",
     "shell.execute_reply": "2021-10-01T16:31:33.618332Z",
     "shell.execute_reply.started": "2021-10-01T16:27:54.721278Z"
    },
    "papermill": {
     "duration": 11.174124,
     "end_time": "2021-10-01T16:31:33.619268",
     "exception": false,
     "start_time": "2021-10-01T16:31:22.445144",
     "status": "completed"
    },
    "tags": []
   },
   "outputs": [
    {
     "name": "stdout",
     "output_type": "stream",
     "text": [
      "Collecting keras==2.3.1\r\n",
      "  Downloading Keras-2.3.1-py2.py3-none-any.whl (377 kB)\r\n",
      "\u001b[K     |████████████████████████████████| 377 kB 593 kB/s \r\n",
      "\u001b[?25hRequirement already satisfied: scipy>=0.14 in /opt/conda/lib/python3.7/site-packages (from keras==2.3.1) (1.7.1)\r\n",
      "Requirement already satisfied: six>=1.9.0 in /opt/conda/lib/python3.7/site-packages (from keras==2.3.1) (1.15.0)\r\n",
      "Collecting keras-applications>=1.0.6\r\n",
      "  Downloading Keras_Applications-1.0.8-py3-none-any.whl (50 kB)\r\n",
      "\u001b[K     |████████████████████████████████| 50 kB 4.6 MB/s \r\n",
      "\u001b[?25hRequirement already satisfied: keras-preprocessing>=1.0.5 in /opt/conda/lib/python3.7/site-packages (from keras==2.3.1) (1.1.2)\r\n",
      "Requirement already satisfied: h5py in /opt/conda/lib/python3.7/site-packages (from keras==2.3.1) (2.10.0)\r\n",
      "Requirement already satisfied: numpy>=1.9.1 in /opt/conda/lib/python3.7/site-packages (from keras==2.3.1) (1.19.5)\r\n",
      "Requirement already satisfied: pyyaml in /opt/conda/lib/python3.7/site-packages (from keras==2.3.1) (5.4.1)\r\n",
      "Installing collected packages: keras-applications, keras\r\n",
      "Successfully installed keras-2.3.1 keras-applications-1.0.8\r\n",
      "\u001b[33mWARNING: Running pip as the 'root' user can result in broken permissions and conflicting behaviour with the system package manager. It is recommended to use a virtual environment instead: https://pip.pypa.io/warnings/venv\u001b[0m\r\n"
     ]
    }
   ],
   "source": [
    "!pip install keras==2.3.1"
   ]
  },
  {
   "cell_type": "code",
   "execution_count": 2,
   "id": "9b53e006",
   "metadata": {
    "execution": {
     "iopub.execute_input": "2021-10-01T16:31:33.664929Z",
     "iopub.status.busy": "2021-10-01T16:31:33.664271Z",
     "iopub.status.idle": "2021-10-01T16:31:40.841081Z",
     "shell.execute_reply": "2021-10-01T16:31:40.840327Z",
     "shell.execute_reply.started": "2021-10-01T16:28:05.774011Z"
    },
    "id": "8nY2YQKqj7Rn",
    "papermill": {
     "duration": 7.202539,
     "end_time": "2021-10-01T16:31:40.841232",
     "exception": false,
     "start_time": "2021-10-01T16:31:33.638693",
     "status": "completed"
    },
    "tags": []
   },
   "outputs": [
    {
     "name": "stderr",
     "output_type": "stream",
     "text": [
      "2021-10-01 16:31:35.502634: W tensorflow/stream_executor/platform/default/dso_loader.cc:60] Could not load dynamic library 'libcudart.so.11.0'; dlerror: libcudart.so.11.0: cannot open shared object file: No such file or directory; LD_LIBRARY_PATH: /opt/conda/lib\n",
      "2021-10-01 16:31:35.502771: I tensorflow/stream_executor/cuda/cudart_stub.cc:29] Ignore above cudart dlerror if you do not have a GPU set up on your machine.\n",
      "Using TensorFlow backend.\n"
     ]
    }
   ],
   "source": [
    "import seaborn as sns\n",
    "from sklearn.model_selection import train_test_split\n",
    "from sklearn.metrics import accuracy_score, confusion_matrix, classification_report\n",
    "import tensorflow as tf\n",
    "import pandas as pd\n",
    "import matplotlib.pyplot as plt\n",
    "from keras.models import save_model"
   ]
  },
  {
   "cell_type": "code",
   "execution_count": 3,
   "id": "bad00a04",
   "metadata": {
    "execution": {
     "iopub.execute_input": "2021-10-01T16:31:40.888054Z",
     "iopub.status.busy": "2021-10-01T16:31:40.887274Z",
     "iopub.status.idle": "2021-10-01T16:31:40.907969Z",
     "shell.execute_reply": "2021-10-01T16:31:40.907412Z",
     "shell.execute_reply.started": "2021-10-01T16:28:10.769528Z"
    },
    "id": "TTq9r0QKj9if",
    "papermill": {
     "duration": 0.045965,
     "end_time": "2021-10-01T16:31:40.908181",
     "exception": false,
     "start_time": "2021-10-01T16:31:40.862216",
     "status": "completed"
    },
    "tags": []
   },
   "outputs": [],
   "source": [
    "#import the csv file\n",
    "dataset = pd.read_csv('../input/featuresbart-homer/features.csv')"
   ]
  },
  {
   "cell_type": "code",
   "execution_count": 4,
   "id": "bf673ff0",
   "metadata": {
    "execution": {
     "iopub.execute_input": "2021-10-01T16:31:40.960941Z",
     "iopub.status.busy": "2021-10-01T16:31:40.959966Z",
     "iopub.status.idle": "2021-10-01T16:31:40.962976Z",
     "shell.execute_reply": "2021-10-01T16:31:40.962338Z",
     "shell.execute_reply.started": "2021-10-01T16:28:12.415702Z"
    },
    "id": "lXwYilObj_1e",
    "papermill": {
     "duration": 0.034388,
     "end_time": "2021-10-01T16:31:40.963127",
     "exception": false,
     "start_time": "2021-10-01T16:31:40.928739",
     "status": "completed"
    },
    "tags": []
   },
   "outputs": [],
   "source": [
    "#Extract X and Y\n",
    "X = dataset.iloc[:,:-1].values\n",
    "Y = dataset.iloc[:,-1].values"
   ]
  },
  {
   "cell_type": "markdown",
   "id": "5923cf6b",
   "metadata": {
    "papermill": {
     "duration": 0.020601,
     "end_time": "2021-10-01T16:31:41.004118",
     "exception": false,
     "start_time": "2021-10-01T16:31:40.983517",
     "status": "completed"
    },
    "tags": []
   },
   "source": [
    "# Train Test Split"
   ]
  },
  {
   "cell_type": "code",
   "execution_count": 5,
   "id": "5b02ab95",
   "metadata": {
    "execution": {
     "iopub.execute_input": "2021-10-01T16:31:41.055887Z",
     "iopub.status.busy": "2021-10-01T16:31:41.054432Z",
     "iopub.status.idle": "2021-10-01T16:31:41.058559Z",
     "shell.execute_reply": "2021-10-01T16:31:41.057829Z",
     "shell.execute_reply.started": "2021-10-01T16:28:14.543760Z"
    },
    "id": "16KbhpZjmfyu",
    "papermill": {
     "duration": 0.033306,
     "end_time": "2021-10-01T16:31:41.058714",
     "exception": false,
     "start_time": "2021-10-01T16:31:41.025408",
     "status": "completed"
    },
    "tags": []
   },
   "outputs": [],
   "source": [
    "X_train, X_test, Y_train, Y_test = train_test_split(X, Y, test_size = 0.2, random_state = 1)"
   ]
  },
  {
   "cell_type": "markdown",
   "id": "3b2c440a",
   "metadata": {
    "papermill": {
     "duration": 0.02137,
     "end_time": "2021-10-01T16:31:41.100794",
     "exception": false,
     "start_time": "2021-10-01T16:31:41.079424",
     "status": "completed"
    },
    "tags": []
   },
   "source": [
    "# Build Model"
   ]
  },
  {
   "cell_type": "code",
   "execution_count": 6,
   "id": "0752bebd",
   "metadata": {
    "execution": {
     "iopub.execute_input": "2021-10-01T16:31:41.149392Z",
     "iopub.status.busy": "2021-10-01T16:31:41.148664Z",
     "iopub.status.idle": "2021-10-01T16:31:41.444181Z",
     "shell.execute_reply": "2021-10-01T16:31:41.444916Z",
     "shell.execute_reply.started": "2021-10-01T16:28:16.064273Z"
    },
    "id": "G-u8h2GxmgAm",
    "papermill": {
     "duration": 0.323644,
     "end_time": "2021-10-01T16:31:41.445102",
     "exception": false,
     "start_time": "2021-10-01T16:31:41.121458",
     "status": "completed"
    },
    "tags": []
   },
   "outputs": [
    {
     "name": "stderr",
     "output_type": "stream",
     "text": [
      "2021-10-01 16:31:41.162152: I tensorflow/compiler/jit/xla_cpu_device.cc:41] Not creating XLA devices, tf_xla_enable_xla_devices not set\n",
      "2021-10-01 16:31:41.165803: W tensorflow/stream_executor/platform/default/dso_loader.cc:60] Could not load dynamic library 'libcuda.so.1'; dlerror: libcuda.so.1: cannot open shared object file: No such file or directory; LD_LIBRARY_PATH: /opt/conda/lib\n",
      "2021-10-01 16:31:41.165843: W tensorflow/stream_executor/cuda/cuda_driver.cc:326] failed call to cuInit: UNKNOWN ERROR (303)\n",
      "2021-10-01 16:31:41.165869: I tensorflow/stream_executor/cuda/cuda_diagnostics.cc:156] kernel driver does not appear to be running on this host (f676da44419c): /proc/driver/nvidia/version does not exist\n",
      "2021-10-01 16:31:41.167088: I tensorflow/core/platform/cpu_feature_guard.cc:142] This TensorFlow binary is optimized with oneAPI Deep Neural Network Library (oneDNN) to use the following CPU instructions in performance-critical operations:  AVX2 FMA\n",
      "To enable them in other operations, rebuild TensorFlow with the appropriate compiler flags.\n",
      "2021-10-01 16:31:41.167712: I tensorflow/compiler/jit/xla_gpu_device.cc:99] Not creating XLA devices, tf_xla_enable_xla_devices not set\n"
     ]
    }
   ],
   "source": [
    "network1 = tf.keras.models.Sequential()\n",
    "network1.add(tf.keras.layers.Dense(input_shape = (6,), units = 4, activation='relu'))\n",
    "network1.add(tf.keras.layers.Dense(units = 4, activation='relu'))\n",
    "network1.add(tf.keras.layers.Dense(units = 4, activation='relu'))\n",
    "network1.add(tf.keras.layers.Dense(units = 1, activation='sigmoid'))"
   ]
  },
  {
   "cell_type": "markdown",
   "id": "3f8116a6",
   "metadata": {
    "papermill": {
     "duration": 0.02228,
     "end_time": "2021-10-01T16:31:41.488146",
     "exception": false,
     "start_time": "2021-10-01T16:31:41.465866",
     "status": "completed"
    },
    "tags": []
   },
   "source": [
    "# Visualise Model"
   ]
  },
  {
   "cell_type": "code",
   "execution_count": 7,
   "id": "abdfe066",
   "metadata": {
    "execution": {
     "iopub.execute_input": "2021-10-01T16:31:41.532123Z",
     "iopub.status.busy": "2021-10-01T16:31:41.531364Z",
     "iopub.status.idle": "2021-10-01T16:31:41.539846Z",
     "shell.execute_reply": "2021-10-01T16:31:41.539256Z",
     "shell.execute_reply.started": "2021-10-01T16:28:19.120166Z"
    },
    "id": "-7TbYE9VmgDl",
    "outputId": "2dcbc984-21cf-4d2b-80b4-9b0fca47a506",
    "papermill": {
     "duration": 0.031469,
     "end_time": "2021-10-01T16:31:41.540044",
     "exception": false,
     "start_time": "2021-10-01T16:31:41.508575",
     "status": "completed"
    },
    "tags": []
   },
   "outputs": [
    {
     "name": "stdout",
     "output_type": "stream",
     "text": [
      "Model: \"sequential\"\n",
      "_________________________________________________________________\n",
      "Layer (type)                 Output Shape              Param #   \n",
      "=================================================================\n",
      "dense (Dense)                (None, 4)                 28        \n",
      "_________________________________________________________________\n",
      "dense_1 (Dense)              (None, 4)                 20        \n",
      "_________________________________________________________________\n",
      "dense_2 (Dense)              (None, 4)                 20        \n",
      "_________________________________________________________________\n",
      "dense_3 (Dense)              (None, 1)                 5         \n",
      "=================================================================\n",
      "Total params: 73\n",
      "Trainable params: 73\n",
      "Non-trainable params: 0\n",
      "_________________________________________________________________\n"
     ]
    }
   ],
   "source": [
    "network1.summary()"
   ]
  },
  {
   "cell_type": "markdown",
   "id": "d2d97c86",
   "metadata": {
    "papermill": {
     "duration": 0.020542,
     "end_time": "2021-10-01T16:31:41.582103",
     "exception": false,
     "start_time": "2021-10-01T16:31:41.561561",
     "status": "completed"
    },
    "tags": []
   },
   "source": [
    "# Train Model"
   ]
  },
  {
   "cell_type": "code",
   "execution_count": 8,
   "id": "09f1e2a8",
   "metadata": {
    "execution": {
     "iopub.execute_input": "2021-10-01T16:31:41.639018Z",
     "iopub.status.busy": "2021-10-01T16:31:41.637974Z",
     "iopub.status.idle": "2021-10-01T16:31:43.169790Z",
     "shell.execute_reply": "2021-10-01T16:31:43.169175Z",
     "shell.execute_reply.started": "2021-10-01T16:28:21.430931Z"
    },
    "id": "Qm8DGuWRm_NY",
    "papermill": {
     "duration": 1.567076,
     "end_time": "2021-10-01T16:31:43.169958",
     "exception": false,
     "start_time": "2021-10-01T16:31:41.602882",
     "status": "completed"
    },
    "tags": []
   },
   "outputs": [
    {
     "name": "stderr",
     "output_type": "stream",
     "text": [
      "2021-10-01 16:31:41.727563: I tensorflow/compiler/mlir/mlir_graph_optimization_pass.cc:116] None of the MLIR optimization passes are enabled (registered 2)\n",
      "2021-10-01 16:31:41.745449: I tensorflow/core/platform/profile_utils/cpu_utils.cc:112] CPU Frequency: 2199995000 Hz\n"
     ]
    },
    {
     "name": "stdout",
     "output_type": "stream",
     "text": [
      "Epoch 1/50\n",
      "7/7 [==============================] - 1s 2ms/step - loss: 0.5655 - accuracy: 0.6222\n",
      "Epoch 2/50\n",
      "7/7 [==============================] - 0s 2ms/step - loss: 0.5623 - accuracy: 0.6075\n",
      "Epoch 3/50\n",
      "7/7 [==============================] - 0s 1ms/step - loss: 0.5337 - accuracy: 0.6375\n",
      "Epoch 4/50\n",
      "7/7 [==============================] - 0s 1ms/step - loss: 0.5543 - accuracy: 0.6185\n",
      "Epoch 5/50\n",
      "7/7 [==============================] - 0s 1ms/step - loss: 0.5432 - accuracy: 0.6443\n",
      "Epoch 6/50\n",
      "7/7 [==============================] - 0s 1ms/step - loss: 0.5175 - accuracy: 0.6436\n",
      "Epoch 7/50\n",
      "7/7 [==============================] - 0s 1ms/step - loss: 0.5389 - accuracy: 0.6344\n",
      "Epoch 8/50\n",
      "7/7 [==============================] - 0s 1ms/step - loss: 0.5017 - accuracy: 0.6641\n",
      "Epoch 9/50\n",
      "7/7 [==============================] - 0s 1ms/step - loss: 0.5030 - accuracy: 0.6592\n",
      "Epoch 10/50\n",
      "7/7 [==============================] - 0s 2ms/step - loss: 0.4732 - accuracy: 0.6994\n",
      "Epoch 11/50\n",
      "7/7 [==============================] - 0s 2ms/step - loss: 0.5034 - accuracy: 0.6446\n",
      "Epoch 12/50\n",
      "7/7 [==============================] - 0s 1ms/step - loss: 0.4766 - accuracy: 0.6894\n",
      "Epoch 13/50\n",
      "7/7 [==============================] - 0s 1ms/step - loss: 0.4774 - accuracy: 0.6963\n",
      "Epoch 14/50\n",
      "7/7 [==============================] - 0s 2ms/step - loss: 0.4698 - accuracy: 0.7135\n",
      "Epoch 15/50\n",
      "7/7 [==============================] - 0s 1ms/step - loss: 0.4601 - accuracy: 0.6907\n",
      "Epoch 16/50\n",
      "7/7 [==============================] - 0s 2ms/step - loss: 0.4779 - accuracy: 0.7073\n",
      "Epoch 17/50\n",
      "7/7 [==============================] - 0s 2ms/step - loss: 0.4348 - accuracy: 0.7101\n",
      "Epoch 18/50\n",
      "7/7 [==============================] - 0s 1ms/step - loss: 0.4338 - accuracy: 0.7476\n",
      "Epoch 19/50\n",
      "7/7 [==============================] - 0s 1ms/step - loss: 0.4565 - accuracy: 0.6990\n",
      "Epoch 20/50\n",
      "7/7 [==============================] - 0s 1ms/step - loss: 0.4581 - accuracy: 0.7160\n",
      "Epoch 21/50\n",
      "7/7 [==============================] - 0s 2ms/step - loss: 0.4390 - accuracy: 0.7537\n",
      "Epoch 22/50\n",
      "7/7 [==============================] - 0s 2ms/step - loss: 0.4287 - accuracy: 0.7436\n",
      "Epoch 23/50\n",
      "7/7 [==============================] - 0s 2ms/step - loss: 0.4217 - accuracy: 0.7768\n",
      "Epoch 24/50\n",
      "7/7 [==============================] - 0s 1ms/step - loss: 0.4239 - accuracy: 0.7413\n",
      "Epoch 25/50\n",
      "7/7 [==============================] - 0s 2ms/step - loss: 0.4333 - accuracy: 0.7804\n",
      "Epoch 26/50\n",
      "7/7 [==============================] - 0s 1ms/step - loss: 0.4068 - accuracy: 0.8068\n",
      "Epoch 27/50\n",
      "7/7 [==============================] - 0s 2ms/step - loss: 0.4051 - accuracy: 0.8257\n",
      "Epoch 28/50\n",
      "7/7 [==============================] - 0s 2ms/step - loss: 0.4048 - accuracy: 0.8363\n",
      "Epoch 29/50\n",
      "7/7 [==============================] - 0s 1ms/step - loss: 0.4036 - accuracy: 0.8219\n",
      "Epoch 30/50\n",
      "7/7 [==============================] - 0s 1ms/step - loss: 0.3762 - accuracy: 0.8376\n",
      "Epoch 31/50\n",
      "7/7 [==============================] - 0s 2ms/step - loss: 0.3791 - accuracy: 0.8429\n",
      "Epoch 32/50\n",
      "7/7 [==============================] - 0s 1ms/step - loss: 0.3613 - accuracy: 0.8599\n",
      "Epoch 33/50\n",
      "7/7 [==============================] - 0s 2ms/step - loss: 0.3809 - accuracy: 0.8257\n",
      "Epoch 34/50\n",
      "7/7 [==============================] - 0s 2ms/step - loss: 0.3723 - accuracy: 0.8386\n",
      "Epoch 35/50\n",
      "7/7 [==============================] - 0s 2ms/step - loss: 0.3522 - accuracy: 0.8651\n",
      "Epoch 36/50\n",
      "7/7 [==============================] - 0s 2ms/step - loss: 0.3687 - accuracy: 0.8464\n",
      "Epoch 37/50\n",
      "7/7 [==============================] - 0s 2ms/step - loss: 0.3441 - accuracy: 0.8641\n",
      "Epoch 38/50\n",
      "7/7 [==============================] - 0s 2ms/step - loss: 0.3607 - accuracy: 0.8496\n",
      "Epoch 39/50\n",
      "7/7 [==============================] - 0s 2ms/step - loss: 0.3336 - accuracy: 0.8731\n",
      "Epoch 40/50\n",
      "7/7 [==============================] - 0s 2ms/step - loss: 0.3626 - accuracy: 0.8285\n",
      "Epoch 41/50\n",
      "7/7 [==============================] - 0s 2ms/step - loss: 0.3229 - accuracy: 0.8653\n",
      "Epoch 42/50\n",
      "7/7 [==============================] - 0s 2ms/step - loss: 0.3421 - accuracy: 0.8471\n",
      "Epoch 43/50\n",
      "7/7 [==============================] - 0s 2ms/step - loss: 0.3338 - accuracy: 0.8415\n",
      "Epoch 44/50\n",
      "7/7 [==============================] - 0s 2ms/step - loss: 0.3078 - accuracy: 0.8465\n",
      "Epoch 45/50\n",
      "7/7 [==============================] - 0s 2ms/step - loss: 0.3271 - accuracy: 0.8416\n",
      "Epoch 46/50\n",
      "7/7 [==============================] - 0s 2ms/step - loss: 0.3234 - accuracy: 0.8646\n",
      "Epoch 47/50\n",
      "7/7 [==============================] - 0s 2ms/step - loss: 0.3248 - accuracy: 0.8492\n",
      "Epoch 48/50\n",
      "7/7 [==============================] - 0s 2ms/step - loss: 0.3205 - accuracy: 0.8676\n",
      "Epoch 49/50\n",
      "7/7 [==============================] - 0s 2ms/step - loss: 0.3345 - accuracy: 0.8413\n",
      "Epoch 50/50\n",
      "7/7 [==============================] - 0s 2ms/step - loss: 0.3142 - accuracy: 0.8702\n"
     ]
    }
   ],
   "source": [
    "#compile\n",
    "network1.compile(optimizer='Adam', loss='binary_crossentropy', metrics =['accuracy'])\n",
    "\n",
    "#train\n",
    "history = network1.fit(X_train, Y_train, epochs = 50)"
   ]
  },
  {
   "cell_type": "markdown",
   "id": "29369abb",
   "metadata": {
    "papermill": {
     "duration": 0.058495,
     "end_time": "2021-10-01T16:31:43.287177",
     "exception": false,
     "start_time": "2021-10-01T16:31:43.228682",
     "status": "completed"
    },
    "tags": []
   },
   "source": [
    "# Evaluate"
   ]
  },
  {
   "cell_type": "code",
   "execution_count": 9,
   "id": "8cb7305d",
   "metadata": {
    "execution": {
     "iopub.execute_input": "2021-10-01T16:31:43.412661Z",
     "iopub.status.busy": "2021-10-01T16:31:43.410089Z",
     "iopub.status.idle": "2021-10-01T16:31:43.875553Z",
     "shell.execute_reply": "2021-10-01T16:31:43.876367Z",
     "shell.execute_reply.started": "2021-10-01T16:28:24.800122Z"
    },
    "id": "1yUjO30QmgIH",
    "outputId": "8c4b68be-2a3a-46e4-9fd6-c12cce4e78d7",
    "papermill": {
     "duration": 0.533422,
     "end_time": "2021-10-01T16:31:43.876626",
     "exception": false,
     "start_time": "2021-10-01T16:31:43.343204",
     "status": "completed"
    },
    "tags": []
   },
   "outputs": [
    {
     "name": "stdout",
     "output_type": "stream",
     "text": [
      "Accuracy : 87.03703703703704\n",
      "              precision    recall  f1-score   support\n",
      "\n",
      "           0       0.96      0.79      0.86        28\n",
      "           1       0.81      0.96      0.88        26\n",
      "\n",
      "    accuracy                           0.87        54\n",
      "   macro avg       0.88      0.87      0.87        54\n",
      "weighted avg       0.88      0.87      0.87        54\n",
      "\n"
     ]
    },
    {
     "data": {
      "image/png": "[encoded data removed]",
      "text/plain": [
       "<Figure size 432x288 with 2 Axes>"
      ]
     },
     "metadata": {
      "needs_background": "light"
     },
     "output_type": "display_data"
    }
   ],
   "source": [
    "predictions = network1.predict(X_test)\n",
    "predictions = predictions > 0.5 #threshold\n",
    "print('Accuracy :', accuracy_score(Y_test, predictions)*100)\n",
    "cm = confusion_matrix(Y_test, predictions)\n",
    "sns.heatmap(cm, annot=True);\n",
    "print(classification_report(Y_test, predictions))"
   ]
  },
  {
   "cell_type": "markdown",
   "id": "b68aad2b",
   "metadata": {
    "papermill": {
     "duration": 0.05765,
     "end_time": "2021-10-01T16:31:43.997855",
     "exception": false,
     "start_time": "2021-10-01T16:31:43.940205",
     "status": "completed"
    },
    "tags": []
   },
   "source": [
    "# Save Model & Weights"
   ]
  },
  {
   "cell_type": "code",
   "execution_count": 10,
   "id": "eed4333b",
   "metadata": {
    "execution": {
     "iopub.execute_input": "2021-10-01T16:31:44.122398Z",
     "iopub.status.busy": "2021-10-01T16:31:44.121203Z",
     "iopub.status.idle": "2021-10-01T16:31:44.157709Z",
     "shell.execute_reply": "2021-10-01T16:31:44.157098Z",
     "shell.execute_reply.started": "2021-10-01T16:28:28.255700Z"
    },
    "id": "YDI8cCGFox23",
    "papermill": {
     "duration": 0.101425,
     "end_time": "2021-10-01T16:31:44.157869",
     "exception": false,
     "start_time": "2021-10-01T16:31:44.056444",
     "status": "completed"
    },
    "tags": []
   },
   "outputs": [],
   "source": [
    "#save json model structure\n",
    "model_json = network1.to_json() #convert model structure to json format\n",
    "with open('network1.json', 'w') as json_file:\n",
    "  json_file.write(model_json) #write model structure in json format to disk\n",
    "\n",
    "#save model weights\n",
    "network1_saved = tf.keras.models.save_model(network1, './weights1.hdf5')"
   ]
  },
  {
   "cell_type": "code",
   "execution_count": 11,
   "id": "75de0dc2",
   "metadata": {
    "execution": {
     "iopub.execute_input": "2021-10-01T16:31:44.283864Z",
     "iopub.status.busy": "2021-10-01T16:31:44.282539Z",
     "iopub.status.idle": "2021-10-01T16:31:44.347858Z",
     "shell.execute_reply": "2021-10-01T16:31:44.347224Z",
     "shell.execute_reply.started": "2021-10-01T16:28:57.375935Z"
    },
    "id": "huPNazeqtU7G",
    "papermill": {
     "duration": 0.128418,
     "end_time": "2021-10-01T16:31:44.348015",
     "exception": false,
     "start_time": "2021-10-01T16:31:44.219597",
     "status": "completed"
    },
    "tags": []
   },
   "outputs": [],
   "source": [
    "#read stored json model structure\n",
    "with open('network1.json', 'r') as json_file:\n",
    "  json_saved_model = json_file.read() #load saved model structure from json file\n",
    "\n",
    "#build model from json structure\n",
    "network1_loaded = tf.keras.models.model_from_json(json_saved_model) #convert model structure to model\n",
    "network1_loaded.load_weights('weights1.hdf5') #load model weights\n",
    "network1_loaded.compile(optimizer='Adam', loss='binary_crossentropy', metrics =['accuracy']) #same as when trained"
   ]
  },
  {
   "cell_type": "code",
   "execution_count": 12,
   "id": "4d92061a",
   "metadata": {
    "execution": {
     "iopub.execute_input": "2021-10-01T16:31:44.471932Z",
     "iopub.status.busy": "2021-10-01T16:31:44.471210Z",
     "iopub.status.idle": "2021-10-01T16:31:44.476063Z",
     "shell.execute_reply": "2021-10-01T16:31:44.476662Z",
     "shell.execute_reply.started": "2021-10-01T16:29:03.144058Z"
    },
    "id": "iHaZDbjgtxgI",
    "outputId": "05974443-829d-40c4-e9ae-7fb640d8ea49",
    "papermill": {
     "duration": 0.070263,
     "end_time": "2021-10-01T16:31:44.476850",
     "exception": false,
     "start_time": "2021-10-01T16:31:44.406587",
     "status": "completed"
    },
    "tags": []
   },
   "outputs": [
    {
     "name": "stdout",
     "output_type": "stream",
     "text": [
      "Model: \"sequential\"\n",
      "_________________________________________________________________\n",
      "Layer (type)                 Output Shape              Param #   \n",
      "=================================================================\n",
      "dense (Dense)                (None, 4)                 28        \n",
      "_________________________________________________________________\n",
      "dense_1 (Dense)              (None, 4)                 20        \n",
      "_________________________________________________________________\n",
      "dense_2 (Dense)              (None, 4)                 20        \n",
      "_________________________________________________________________\n",
      "dense_3 (Dense)              (None, 1)                 5         \n",
      "=================================================================\n",
      "Total params: 73\n",
      "Trainable params: 73\n",
      "Non-trainable params: 0\n",
      "_________________________________________________________________\n"
     ]
    }
   ],
   "source": [
    "#model summary\n",
    "network1_loaded.summary()"
   ]
  },
  {
   "cell_type": "markdown",
   "id": "aaa0e377",
   "metadata": {
    "papermill": {
     "duration": 0.059731,
     "end_time": "2021-10-01T16:31:44.598302",
     "exception": false,
     "start_time": "2021-10-01T16:31:44.538571",
     "status": "completed"
    },
    "tags": []
   },
   "source": [
    "# Single Image Prediction"
   ]
  },
  {
   "cell_type": "code",
   "execution_count": 13,
   "id": "744fc9d0",
   "metadata": {
    "execution": {
     "iopub.execute_input": "2021-10-01T16:31:44.731779Z",
     "iopub.status.busy": "2021-10-01T16:31:44.731091Z",
     "iopub.status.idle": "2021-10-01T16:31:44.871694Z",
     "shell.execute_reply": "2021-10-01T16:31:44.870969Z",
     "shell.execute_reply.started": "2021-10-01T16:29:06.503569Z"
    },
    "id": "K28wJg8Otz1V",
    "outputId": "7edb1ece-3a07-4ff3-b4a4-f93cb2fa3e8b",
    "papermill": {
     "duration": 0.212886,
     "end_time": "2021-10-01T16:31:44.871888",
     "exception": false,
     "start_time": "2021-10-01T16:31:44.659002",
     "status": "completed"
    },
    "tags": []
   },
   "outputs": [
    {
     "name": "stdout",
     "output_type": "stream",
     "text": [
      "1.37547e-05\n",
      "Bart\n"
     ]
    }
   ],
   "source": [
    "test_image = X_test[0]\n",
    "test_image = test_image.reshape(1, -1)\n",
    "print(network1_loaded.predict(test_image)[0][0]) \n",
    "if(network1_loaded.predict(test_image)[0][0] < 0.5):\n",
    "  print('Bart')\n",
    "else:\n",
    "  print('Homer')"
   ]
  }
 ],
 "metadata": {
  "kernelspec": {
   "display_name": "Python 3",
   "language": "python",
   "name": "python3"
  },
  "language_info": {
   "codemirror_mode": {
    "name": "ipython",
    "version": 3
   },
   "file_extension": ".py",
   "mimetype": "text/x-python",
   "name": "python",
   "nbconvert_exporter": "python",
   "pygments_lexer": "ipython3",
   "version": "3.7.10"
  },
  "papermill": {
   "default_parameters": {},
   "duration": 34.871956,
   "end_time": "2021-10-01T16:31:48.501235",
   "environment_variables": {},
   "exception": null,
   "input_path": "__notebook__.ipynb",
   "output_path": "__notebook__.ipynb",
   "parameters": {},
   "start_time": "2021-10-01T16:31:13.629279",
   "version": "2.3.3"
  }
 },
 "nbformat": 4,
 "nbformat_minor": 5
}
