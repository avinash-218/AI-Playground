{
 "cells": [
  {
   "cell_type": "markdown",
   "id": "59d1c556",
   "metadata": {},
   "source": [
    "# Importing Libraries"
   ]
  },
  {
   "cell_type": "code",
   "execution_count": null,
   "id": "0dad3427",
   "metadata": {},
   "outputs": [],
   "source": [
    "import pandas as pd\n",
    "from sklearn.model_selection import train_test_split\n",
    "from sklearn.linear_model import LogisticRegression\n",
    "from sklearn.metrics import accuracy_score\n",
    "import numpy as np\n",
    "from sklearn.preprocessing import StandardScaler, LabelEncoder\n",
    "from pandas import Series"
   ]
  },
  {
   "cell_type": "markdown",
   "id": "9742519c",
   "metadata": {},
   "source": [
    "# Importing Dataset"
   ]
  },
  {
   "cell_type": "code",
   "execution_count": null,
   "id": "cb84dab0",
   "metadata": {},
   "outputs": [],
   "source": [
    "dataset = pd.read_csv(\"Social_Network_Ads.csv\")"
   ]
  },
  {
   "cell_type": "code",
   "execution_count": null,
   "id": "584277a2",
   "metadata": {},
   "outputs": [],
   "source": [
    "dataset"
   ]
  },
  {
   "cell_type": "code",
   "execution_count": null,
   "id": "24971696",
   "metadata": {},
   "outputs": [],
   "source": [
    "dataset.info()"
   ]
  },
  {
   "cell_type": "markdown",
   "id": "65566352",
   "metadata": {},
   "source": [
    "No Null values"
   ]
  },
  {
   "cell_type": "code",
   "execution_count": null,
   "id": "2efa4c5f",
   "metadata": {},
   "outputs": [],
   "source": [
    "dataset.corr()"
   ]
  },
  {
   "cell_type": "markdown",
   "id": "98f80e18",
   "metadata": {},
   "source": [
    "# Train Test Split"
   ]
  },
  {
   "cell_type": "code",
   "execution_count": null,
   "id": "528cc29f",
   "metadata": {},
   "outputs": [],
   "source": [
    "train_df, test_df = train_test_split(dataset, random_state=42, test_size=0.2)"
   ]
  },
  {
   "cell_type": "markdown",
   "id": "9eb8ce12",
   "metadata": {},
   "source": [
    "# Find Inputs & Targets\n",
    "Obviously User Id is not necessary.<br>\n",
    "Gender, Age, EstimatedSalary are inputs.<br>\n",
    "Purchased is the target."
   ]
  },
  {
   "cell_type": "code",
   "execution_count": null,
   "id": "67e67575",
   "metadata": {},
   "outputs": [],
   "source": [
    "numeric_cols = ['Age', 'EstimatedSalary']\n",
    "categorical_cols = ['Gender']\n",
    "target_cols = ['Purchased']"
   ]
  },
  {
   "cell_type": "code",
   "execution_count": null,
   "id": "f78134cb",
   "metadata": {},
   "outputs": [],
   "source": [
    "X_train = train_df[numeric_cols + categorical_cols].copy()\n",
    "Y_train = train_df[target_cols].copy()\n",
    "X_test = test_df[numeric_cols + categorical_cols].copy()\n",
    "Y_test = test_df[target_cols].copy()"
   ]
  },
  {
   "cell_type": "markdown",
   "id": "33743b9d",
   "metadata": {},
   "source": [
    "# Scaling Numeric Columns"
   ]
  },
  {
   "cell_type": "code",
   "execution_count": null,
   "id": "01fad0f6",
   "metadata": {},
   "outputs": [],
   "source": [
    "scaler = StandardScaler()"
   ]
  },
  {
   "cell_type": "code",
   "execution_count": null,
   "id": "4fa0e34f",
   "metadata": {},
   "outputs": [],
   "source": [
    "scaler.fit(dataset[numeric_cols])"
   ]
  },
  {
   "cell_type": "code",
   "execution_count": null,
   "id": "0c64b66f",
   "metadata": {},
   "outputs": [],
   "source": [
    "X_train[numeric_cols] = scaler.transform(X_train[numeric_cols])\n",
    "X_test[numeric_cols] = scaler.transform(X_test[numeric_cols])"
   ]
  },
  {
   "cell_type": "markdown",
   "id": "e8ff741f",
   "metadata": {},
   "source": [
    "# Encoding Categorical Colums"
   ]
  },
  {
   "cell_type": "code",
   "execution_count": null,
   "id": "d2a1ad53",
   "metadata": {},
   "outputs": [],
   "source": [
    "encoder = LabelEncoder()"
   ]
  },
  {
   "cell_type": "code",
   "execution_count": null,
   "id": "b432d54b",
   "metadata": {},
   "outputs": [],
   "source": [
    "encoder.fit(Series.ravel(dataset[categorical_cols]))"
   ]
  },
  {
   "cell_type": "code",
   "execution_count": null,
   "id": "cf9d0923",
   "metadata": {},
   "outputs": [],
   "source": [
    "type(X_test)"
   ]
  },
  {
   "cell_type": "code",
   "execution_count": null,
   "id": "90540d17",
   "metadata": {},
   "outputs": [],
   "source": [
    "X_train[categorical_cols] = encoder.transform(pd.Series.ravel(X_train[categorical_cols]))\n",
    "X_test[categorical_cols] = encoder.transform(pd.Series.ravel(X_test[categorical_cols]))"
   ]
  },
  {
   "cell_type": "markdown",
   "id": "5b10237e",
   "metadata": {},
   "source": [
    "# Training a Logistic Regression Model"
   ]
  },
  {
   "cell_type": "code",
   "execution_count": null,
   "id": "f83059bc",
   "metadata": {},
   "outputs": [],
   "source": [
    "model = LogisticRegression(solver ='liblinear')"
   ]
  },
  {
   "cell_type": "markdown",
   "id": "c51c684e",
   "metadata": {},
   "source": [
    "## Train Data Set"
   ]
  },
  {
   "cell_type": "code",
   "execution_count": null,
   "id": "bc60101f",
   "metadata": {},
   "outputs": [],
   "source": [
    "model.fit(X_train, Series.ravel(Y_train))"
   ]
  },
  {
   "cell_type": "code",
   "execution_count": null,
   "id": "2aea1014",
   "metadata": {},
   "outputs": [],
   "source": [
    "Y_train_pred = model.predict(X_train)"
   ]
  },
  {
   "cell_type": "code",
   "execution_count": null,
   "id": "b584cab3",
   "metadata": {},
   "outputs": [],
   "source": [
    "print('Training Accuracy :',accuracy_score(Y_train, Y_train_pred)*100)"
   ]
  },
  {
   "cell_type": "markdown",
   "id": "cfa514b0",
   "metadata": {},
   "source": [
    "## Test Data Set"
   ]
  },
  {
   "cell_type": "code",
   "execution_count": null,
   "id": "b8b16577",
   "metadata": {},
   "outputs": [],
   "source": [
    "Y_test_pred = model.predict(X_test)"
   ]
  },
  {
   "cell_type": "code",
   "execution_count": null,
   "id": "b7e8c2d9",
   "metadata": {},
   "outputs": [],
   "source": [
    "print('Test Accuracy :',accuracy_score(Y_test, Y_test_pred)*100)"
   ]
  },
  {
   "cell_type": "markdown",
   "id": "0afd80c9",
   "metadata": {},
   "source": [
    "## Determine Whether Our Model Is Truely Intelligent"
   ]
  },
  {
   "cell_type": "code",
   "execution_count": null,
   "id": "51fee954",
   "metadata": {},
   "outputs": [],
   "source": [
    "Y_train.value_counts()"
   ]
  },
  {
   "cell_type": "code",
   "execution_count": null,
   "id": "62d71ee2",
   "metadata": {},
   "outputs": [],
   "source": [
    "Y_test.value_counts()"
   ]
  },
  {
   "cell_type": "markdown",
   "id": "b6930d64",
   "metadata": {},
   "source": [
    "As seen, there are more 0s in Y_train & Y_test.<br>\n",
    "So the accuracy of our model ***MAY*** be due to more zero prediction of our model<br>\n",
    "So let us compare this model with two dumb programs:<br>\n",
    "    1) All zero - that output zero for whatever the inputs maybe<br>\n",
    "    2) Random - that outputs randomly"
   ]
  },
  {
   "cell_type": "markdown",
   "id": "b7284e97",
   "metadata": {},
   "source": [
    "### All Zero"
   ]
  },
  {
   "cell_type": "code",
   "execution_count": null,
   "id": "ba2b415e",
   "metadata": {},
   "outputs": [],
   "source": [
    "def all_zero(inp):\n",
    "    t = np.zeros(inp.shape)\n",
    "    t = pd.DataFrame(t)\n",
    "    print('Accuracy of All_Zero Program in Training Set',accuracy_score(t, inp))\n",
    "all_zero(Y_train)"
   ]
  },
  {
   "cell_type": "code",
   "execution_count": null,
   "id": "9d9c75c6",
   "metadata": {},
   "outputs": [],
   "source": [
    "print('Training Accuracy :',accuracy_score(Y_train, Y_train_pred)*100)"
   ]
  },
  {
   "cell_type": "markdown",
   "id": "6975fc8e",
   "metadata": {},
   "source": [
    "Seems our model performs better than all_zero model, so our model is really intelligent."
   ]
  },
  {
   "cell_type": "markdown",
   "id": "37b0fce2",
   "metadata": {},
   "source": [
    "### Random"
   ]
  },
  {
   "cell_type": "code",
   "execution_count": null,
   "id": "47113914",
   "metadata": {},
   "outputs": [],
   "source": [
    "def randomly(inp):\n",
    "    t = np.random.choice([0,1], size=inp.shape)\n",
    "    t = pd.DataFrame(t)\n",
    "    print('Accuracy of Random Program in Test Set',accuracy_score(t, inp))\n",
    "randomly(Y_train)\n",
    "#print(accuracy_score(Y_pred, Y_train))"
   ]
  },
  {
   "cell_type": "code",
   "execution_count": null,
   "id": "8f623f32",
   "metadata": {},
   "outputs": [],
   "source": [
    "print('Test Accuracy :',accuracy_score(Y_test, Y_test_pred)*100)"
   ]
  },
  {
   "cell_type": "markdown",
   "id": "891a2138",
   "metadata": {},
   "source": [
    "Seems our model also performs better than random model, so our model is really intelligent."
   ]
  }
 ],
 "metadata": {
  "kernelspec": {
   "display_name": "Python 3",
   "language": "python",
   "name": "python3"
  },
  "language_info": {
   "codemirror_mode": {
    "name": "ipython",
    "version": 3
   },
   "file_extension": ".py",
   "mimetype": "text/x-python",
   "name": "python",
   "nbconvert_exporter": "python",
   "pygments_lexer": "ipython3",
   "version": "3.8.8"
  }
 },
 "nbformat": 4,
 "nbformat_minor": 5
}
