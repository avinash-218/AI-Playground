{
 "cells": [
  {
   "cell_type": "markdown",
   "id": "2707f643",
   "metadata": {},
   "source": [
    "# Import Libraries"
   ]
  },
  {
   "cell_type": "code",
   "execution_count": null,
   "id": "ec657ee7",
   "metadata": {},
   "outputs": [],
   "source": [
    "import pandas as pd\n",
    "import plotly.express as px\n",
    "import matplotlib.pyplot as plt\n",
    "import seaborn as sns\n",
    "%matplotlib inline\n",
    "from sklearn.linear_model import LogisticRegression\n",
    "from sklearn.metrics import accuracy_score\n",
    "import numpy as np\n",
    "from sklearn.model_selection import train_test_split\n",
    "from sklearn.preprocessing import StandardScaler"
   ]
  },
  {
   "cell_type": "markdown",
   "id": "4789b739",
   "metadata": {},
   "source": [
    "# Import Dataset"
   ]
  },
  {
   "cell_type": "code",
   "execution_count": null,
   "id": "771759c8",
   "metadata": {},
   "outputs": [],
   "source": [
    "dataset = pd.read_csv('diabetes2.csv')"
   ]
  },
  {
   "cell_type": "code",
   "execution_count": null,
   "id": "2d65e5fb",
   "metadata": {},
   "outputs": [],
   "source": [
    "dataset"
   ]
  },
  {
   "cell_type": "markdown",
   "id": "c314eb93",
   "metadata": {},
   "source": [
    "The data was collected and made available by “National Institute of Diabetes and Digestive and Kidney Diseases” as part of the Pima Indians Diabetes Database. Several constraints were placed on the selection of these instances from a larger database. In particular, all patients here belong to the Pima Indian heritage (subgroup of Native Americans), and are females of ages 21 and above.<br>\n",
    "\n",
    "Predict, for given feature values, a woman is diabetic or not."
   ]
  },
  {
   "cell_type": "markdown",
   "id": "15ee17ac",
   "metadata": {},
   "source": [
    "# Data Visualization & Analysis"
   ]
  },
  {
   "cell_type": "markdown",
   "id": "ccf8b283",
   "metadata": {},
   "source": [
    "## Pregnancies Distribution"
   ]
  },
  {
   "cell_type": "code",
   "execution_count": null,
   "id": "69044f6a",
   "metadata": {},
   "outputs": [],
   "source": [
    "fig = px.histogram(dataset['Pregnancies'], title='Pregnancies Distribution', marginal='box', color=dataset['Outcome'], color_discrete_sequence=['red','blue'])\n",
    "fig.update_layout(bargap=0.1)\n",
    "fig.show()"
   ]
  },
  {
   "cell_type": "markdown",
   "id": "5e12357c",
   "metadata": {},
   "source": [
    "***1- Diabetic; 0 - Non-Diabetic***<br>\n",
    "Exponentially Decaying Distribution<br>\n",
    "There are more womans with less number of pregnancies (both diabetic and non-diabetic)"
   ]
  },
  {
   "cell_type": "markdown",
   "id": "f06842fc",
   "metadata": {},
   "source": [
    "## Glucose Distribution"
   ]
  },
  {
   "cell_type": "code",
   "execution_count": null,
   "id": "1c5b6e98",
   "metadata": {},
   "outputs": [],
   "source": [
    "fig = px.histogram(dataset['Glucose'], title='Glucose Distribution', marginal='box', color=dataset['Outcome'], color_discrete_sequence=['red','blue'])\n",
    "fig.update_layout(bargap=0.1)\n",
    "fig.show()"
   ]
  },
  {
   "cell_type": "markdown",
   "id": "d4ff509d",
   "metadata": {},
   "source": [
    "***1- Diabetic; 0 - Non-Diabetic***<br>\n",
    "Normal Distribution<br>\n",
    "Normal blood glucose levels for adults, without diabetes, is ***90 to 110*** mg/dL<br>\n",
    "Most of the non-diabetic women have normal glucose level.(Also it is obvious medically)<br>\n",
    "Most of the diabetic women have glucose level in the range 100 - 200.<br>\n",
    "Compared to lack of glucose level(< 90), more women have excessive glucose level(>110).\n",
    "\n",
    "For higher glucose levels, there is a high probability for a women to be diabetic.\n",
    "\n",
    "***Note :*** Even women having normal glucose level are diabetic."
   ]
  },
  {
   "cell_type": "markdown",
   "id": "cfae4b54",
   "metadata": {},
   "source": [
    "## BloodPressure Distribution"
   ]
  },
  {
   "cell_type": "code",
   "execution_count": null,
   "id": "04b97292",
   "metadata": {},
   "outputs": [],
   "source": [
    "fig = px.histogram(dataset['BloodPressure'], title='BloodPressure Distribution', marginal='box', color=dataset['Outcome'], color_discrete_sequence=['red','blue'])\n",
    "fig.update_layout(bargap=0.1)\n",
    "fig.show()"
   ]
  },
  {
   "cell_type": "markdown",
   "id": "4d5d663f",
   "metadata": {},
   "source": [
    "***1- Diabetic; 0 - Non-Diabetic***<br>\n",
    "Normal Distribution<br>\n",
    "A normal blood pressure level is ***less than 120/80 mmHg***<br>\n",
    "\n",
    "Most of the non-diabetic women have pressure level in the range 60-84.<br>\n",
    "Most of the diabetic women have glucose level in the range 60 - 84.<br>\n",
    "\n",
    "***Note :*** Even women having normal pressure level are diabetic."
   ]
  },
  {
   "cell_type": "markdown",
   "id": "32882fd8",
   "metadata": {},
   "source": [
    "## SkinThickness Distribution"
   ]
  },
  {
   "cell_type": "code",
   "execution_count": null,
   "id": "559e9600",
   "metadata": {},
   "outputs": [],
   "source": [
    "fig = px.histogram(dataset['SkinThickness'], title='SkinThickness Distribution', marginal='box', color=dataset['Outcome'], color_discrete_sequence=['red','blue'])\n",
    "fig.update_layout(bargap=0.1)\n",
    "fig.show()"
   ]
  },
  {
   "cell_type": "markdown",
   "id": "e13d3877",
   "metadata": {},
   "source": [
    "***1- Diabetic; 0 - Non-Diabetic***<br>\n",
    "For skinthickness = 0 - 4, there are more diabetic and non-diabetic women<br>\n",
    "For skinthickness in the range 0 - 34, there is more probability for a women to be non-diabetic.<br>\n",
    "For skinthickness in the > 34, there is equal probability for a women to be diabetic and non-diabetic.<br>\n"
   ]
  },
  {
   "cell_type": "markdown",
   "id": "0672d846",
   "metadata": {},
   "source": [
    "## Insulin Distribution"
   ]
  },
  {
   "cell_type": "code",
   "execution_count": null,
   "id": "588a984e",
   "metadata": {},
   "outputs": [],
   "source": [
    "fig = px.histogram(dataset['Insulin'], title='Insulin Distribution', marginal='box', color=dataset['Outcome'], color_discrete_sequence=['red','blue'])\n",
    "fig.update_layout(bargap=0.1)\n",
    "fig.show()"
   ]
  },
  {
   "cell_type": "markdown",
   "id": "a337f461",
   "metadata": {},
   "source": [
    "For insulin level 0 - 19, there are more diabetic and non-diabetic women compared to other level"
   ]
  },
  {
   "cell_type": "markdown",
   "id": "e54c72ae",
   "metadata": {},
   "source": [
    "## BMI Distribution"
   ]
  },
  {
   "cell_type": "code",
   "execution_count": null,
   "id": "ae99965f",
   "metadata": {},
   "outputs": [],
   "source": [
    "fig = px.histogram(dataset['BMI'], title='BMI Distribution', marginal='box', color=dataset['Outcome'], color_discrete_sequence=['red','blue'])\n",
    "fig.update_layout(bargap=0.1)\n",
    "fig.show()"
   ]
  },
  {
   "cell_type": "markdown",
   "id": "d8a24ff5",
   "metadata": {},
   "source": [
    "Normal Distribution<br>\n",
    "Most of the women have BMI in the range 23 - 41<br>\n",
    "There are more diabetic women for the BMI > 41"
   ]
  },
  {
   "cell_type": "markdown",
   "id": "7495f81d",
   "metadata": {},
   "source": [
    "## DiabetesPedigreeFunction Distribution"
   ]
  },
  {
   "cell_type": "code",
   "execution_count": null,
   "id": "6c6d5733",
   "metadata": {},
   "outputs": [],
   "source": [
    "fig = px.histogram(dataset['DiabetesPedigreeFunction'], title='DiabetesPedigreeFunction Distribution', marginal='box', color=dataset['Outcome'], color_discrete_sequence=['red','blue'])\n",
    "fig.update_layout(bargap=0.1)\n",
    "fig.show()"
   ]
  },
  {
   "cell_type": "markdown",
   "id": "94074521",
   "metadata": {},
   "source": [
    "Lesser the value, more the number of women (both cases)<br>\n",
    "With increase in DiabetesPedigreeFunction value non-diabetic women count decreases<br>"
   ]
  },
  {
   "cell_type": "markdown",
   "id": "476b8b88",
   "metadata": {},
   "source": [
    "## Age Distribution"
   ]
  },
  {
   "cell_type": "code",
   "execution_count": null,
   "id": "3da8879f",
   "metadata": {},
   "outputs": [],
   "source": [
    "fig = px.histogram(dataset['Age'], title='Age Distribution', marginal='box', color=dataset['Outcome'], color_discrete_sequence=['red','blue'])\n",
    "fig.update_layout(bargap=0.1)\n",
    "fig.show()"
   ]
  },
  {
   "cell_type": "markdown",
   "id": "300287c6",
   "metadata": {},
   "source": [
    "Exponentially Decaying Curve<br>\n",
    "More number of non-diabetic women are in the age range 20 - 31<br>\n",
    "More number of diabetic women are in the range 22 - 53<br>"
   ]
  },
  {
   "cell_type": "code",
   "execution_count": null,
   "id": "307aa34a",
   "metadata": {},
   "outputs": [],
   "source": [
    "dataset.corr()"
   ]
  },
  {
   "cell_type": "markdown",
   "id": "09e71b04",
   "metadata": {},
   "source": [
    "# Logistic Regression"
   ]
  },
  {
   "cell_type": "markdown",
   "id": "b228cc1c",
   "metadata": {},
   "source": [
    "## Pregnancies Vs Outcome"
   ]
  },
  {
   "cell_type": "code",
   "execution_count": null,
   "id": "28f8ecb7",
   "metadata": {},
   "outputs": [],
   "source": [
    "X = dataset['Pregnancies']\n",
    "X = np.array(X).reshape(-1,1)\n",
    "Y = dataset['Outcome']\n",
    "model = LogisticRegression(solver='liblinear')\n",
    "model.fit(X, Y)\n",
    "print('Accuracy is :', accuracy_score(Y, model.predict(X)))\n",
    "print('Correlation is',dataset['Outcome'].corr(dataset['Pregnancies']))"
   ]
  },
  {
   "cell_type": "markdown",
   "id": "e0233d69",
   "metadata": {},
   "source": [
    "## Glucose Vs Outcome"
   ]
  },
  {
   "cell_type": "code",
   "execution_count": null,
   "id": "073fe450",
   "metadata": {},
   "outputs": [],
   "source": [
    "X = dataset['Glucose']\n",
    "X = np.array(X).reshape(-1,1)\n",
    "Y = dataset['Outcome']\n",
    "model = LogisticRegression(solver='liblinear')\n",
    "model.fit(X, Y)\n",
    "print('Accuracy is :', accuracy_score(Y, model.predict(X)))\n",
    "print('Correlation is',dataset['Outcome'].corr(dataset['Glucose']))"
   ]
  },
  {
   "cell_type": "markdown",
   "id": "36451e58",
   "metadata": {},
   "source": [
    "## BloodPressure Vs Outcome"
   ]
  },
  {
   "cell_type": "code",
   "execution_count": null,
   "id": "f7093313",
   "metadata": {},
   "outputs": [],
   "source": [
    "X = dataset['BloodPressure']\n",
    "X = np.array(X).reshape(-1,1)\n",
    "Y = dataset['Outcome']\n",
    "model = LogisticRegression(solver='liblinear')\n",
    "model.fit(X, Y)\n",
    "print('Accuracy is :', accuracy_score(Y, model.predict(X)))\n",
    "print('Correlation is',dataset['Outcome'].corr(dataset['BloodPressure']))"
   ]
  },
  {
   "cell_type": "markdown",
   "id": "fefb74b7",
   "metadata": {},
   "source": [
    "## SkinThickness Vs Outcome"
   ]
  },
  {
   "cell_type": "code",
   "execution_count": null,
   "id": "c4aca016",
   "metadata": {},
   "outputs": [],
   "source": [
    "X = dataset['SkinThickness']\n",
    "X = np.array(X).reshape(-1,1)\n",
    "Y = dataset['Outcome']\n",
    "model = LogisticRegression(solver='liblinear')\n",
    "model.fit(X, Y)\n",
    "print('Accuracy is :', accuracy_score(Y, model.predict(X)))\n",
    "print('Correlation is',dataset['Outcome'].corr(dataset['SkinThickness']))"
   ]
  },
  {
   "cell_type": "markdown",
   "id": "e09e6fe9",
   "metadata": {},
   "source": [
    "## Insulin Vs Outcome"
   ]
  },
  {
   "cell_type": "code",
   "execution_count": null,
   "id": "768c6de5",
   "metadata": {},
   "outputs": [],
   "source": [
    "X = dataset['Insulin']\n",
    "X = np.array(X).reshape(-1,1)\n",
    "Y = dataset['Outcome']\n",
    "model = LogisticRegression(solver='liblinear')\n",
    "model.fit(X, Y)\n",
    "print('Accuracy is :', accuracy_score(Y, model.predict(X)))\n",
    "print('Correlation is',dataset['Outcome'].corr(dataset['Insulin']))"
   ]
  },
  {
   "cell_type": "markdown",
   "id": "5f778e7b",
   "metadata": {},
   "source": [
    "## BMI Vs Outcome"
   ]
  },
  {
   "cell_type": "code",
   "execution_count": null,
   "id": "4812d552",
   "metadata": {},
   "outputs": [],
   "source": [
    "X = dataset['BMI']\n",
    "X = np.array(X).reshape(-1,1)\n",
    "Y = dataset['Outcome']\n",
    "model = LogisticRegression(solver='liblinear')\n",
    "model.fit(X, Y)\n",
    "print('Accuracy is :', accuracy_score(Y, model.predict(X)))\n",
    "print('Correlation is',dataset['Outcome'].corr(dataset['BMI']))"
   ]
  },
  {
   "cell_type": "markdown",
   "id": "d9f5c11d",
   "metadata": {},
   "source": [
    "## DiabetesPedigreeFunction Vs Outcome"
   ]
  },
  {
   "cell_type": "code",
   "execution_count": null,
   "id": "67b9e582",
   "metadata": {},
   "outputs": [],
   "source": [
    "X = dataset['DiabetesPedigreeFunction']\n",
    "X = np.array(X).reshape(-1,1)\n",
    "Y = dataset['Outcome']\n",
    "model = LogisticRegression(solver='liblinear')\n",
    "model.fit(X, Y)\n",
    "print('Accuracy is :', accuracy_score(Y, model.predict(X)))\n",
    "print('Correlation is',dataset['Outcome'].corr(dataset['DiabetesPedigreeFunction']))"
   ]
  },
  {
   "cell_type": "markdown",
   "id": "7b498ea5",
   "metadata": {},
   "source": [
    "## Age Vs Outcome"
   ]
  },
  {
   "cell_type": "code",
   "execution_count": null,
   "id": "4137ad0f",
   "metadata": {},
   "outputs": [],
   "source": [
    "X = dataset['Age']\n",
    "X = np.array(X).reshape(-1,1)\n",
    "Y = dataset['Outcome']\n",
    "model = LogisticRegression(solver='liblinear')\n",
    "model.fit(X, Y)\n",
    "print('Accuracy is :', accuracy_score(Y, model.predict(X)))\n",
    "print('Correlation is',dataset['Outcome'].corr(dataset['Age']))"
   ]
  },
  {
   "cell_type": "markdown",
   "id": "89ddc223",
   "metadata": {},
   "source": [
    "### Accuracy in Decreasing Order\n",
    "***Glucose Vs Outcome*** - 0.7473958333333334<br>\n",
    "***BMI Vs Outcome*** - 0.6692708333333334<br>\n",
    "***Pregnancies Vs Outcome*** - 0.6640625<br>\n",
    "***DiabetesPedigreeFunction Vs Outcome*** - 0.6614583333333334<br>\n",
    "***Insulin Vs Outcome*** - 0.6575520833333334<br>\n",
    "***SkinThickness Vs Outcome*** - 0.65234375<br>\n",
    "***BloodPressure Vs Outcome*** - 0.6510416666666666<br>\n",
    "***Age Vs Outcome*** - 0.6471354166666666<br>\n",
    "\n",
    "***Note :*** Eventhough correlation between Age and Outcome is higher than DiabetesPedigreeFunction, Insulin, SkinThickness, SkinThickness it is less dependent on Outcome.<br>\n",
    "This is because ***'Correlation doesn't imply Causation'***"
   ]
  },
  {
   "cell_type": "markdown",
   "id": "c999a7b9",
   "metadata": {},
   "source": [
    "## Glucose & BMI Vs Outcome"
   ]
  },
  {
   "cell_type": "code",
   "execution_count": null,
   "id": "6d15572f",
   "metadata": {},
   "outputs": [],
   "source": [
    "X = dataset[['Glucose', 'BMI']]\n",
    "Y = dataset['Outcome']\n",
    "model = LogisticRegression(solver='liblinear')\n",
    "model.fit(X, Y)\n",
    "print('Accuracy is :', accuracy_score(Y, model.predict(X)))"
   ]
  },
  {
   "cell_type": "markdown",
   "id": "2133039e",
   "metadata": {},
   "source": [
    "Accuracy is increase slightly so continue considering BMI"
   ]
  },
  {
   "cell_type": "markdown",
   "id": "dd2bca0a",
   "metadata": {},
   "source": [
    "## Glucose, BMI & Pregnancies Vs Outcome"
   ]
  },
  {
   "cell_type": "code",
   "execution_count": null,
   "id": "3a0db2a2",
   "metadata": {},
   "outputs": [],
   "source": [
    "X = dataset[['Glucose', 'BMI', 'Pregnancies']]\n",
    "Y = dataset['Outcome']\n",
    "model = LogisticRegression(solver='liblinear')\n",
    "model.fit(X, Y)\n",
    "print('Accuracy is :', accuracy_score(Y, model.predict(X)))"
   ]
  },
  {
   "cell_type": "markdown",
   "id": "b0420236",
   "metadata": {},
   "source": [
    "Accuracy is increase slightly so continue considering Glucose"
   ]
  },
  {
   "cell_type": "markdown",
   "id": "7ad62fc3",
   "metadata": {},
   "source": [
    "## Glucose, BMI, Pregnancies & DiabetesPedigreeFunction Vs Outcome"
   ]
  },
  {
   "cell_type": "code",
   "execution_count": null,
   "id": "5d642a92",
   "metadata": {},
   "outputs": [],
   "source": [
    "X = dataset[['Glucose', 'BMI', 'Pregnancies', 'DiabetesPedigreeFunction']]\n",
    "Y = dataset['Outcome']\n",
    "model = LogisticRegression(solver='liblinear')\n",
    "model.fit(X, Y)\n",
    "print('Accuracy is :', accuracy_score(Y, model.predict(X)))"
   ]
  },
  {
   "cell_type": "markdown",
   "id": "2bd5d0a4",
   "metadata": {},
   "source": [
    "Accuracy is increase slightly so continue considering Glucose"
   ]
  },
  {
   "cell_type": "markdown",
   "id": "0926d94f",
   "metadata": {},
   "source": [
    "## Glucose, BMI, Pregnancies, DiabetesPedigreeFunction & Insulin Vs Outcome"
   ]
  },
  {
   "cell_type": "code",
   "execution_count": null,
   "id": "80dda49b",
   "metadata": {},
   "outputs": [],
   "source": [
    "X = dataset[['Glucose', 'BMI', 'Pregnancies', 'DiabetesPedigreeFunction', 'Insulin']]\n",
    "Y = dataset['Outcome']\n",
    "model = LogisticRegression(solver='liblinear')\n",
    "model.fit(X, Y)\n",
    "print('Accuracy is :', accuracy_score(Y, model.predict(X)))"
   ]
  },
  {
   "cell_type": "markdown",
   "id": "8f787c3d",
   "metadata": {},
   "source": [
    "Accuracy is increase slightly so continue considering Glucose"
   ]
  },
  {
   "cell_type": "markdown",
   "id": "4b390a34",
   "metadata": {},
   "source": [
    "## Glucose, BMI, Pregnancies, DiabetesPedigreeFunction, Insulin & SkinThickness Vs Outcome"
   ]
  },
  {
   "cell_type": "code",
   "execution_count": null,
   "id": "ba23cbf6",
   "metadata": {},
   "outputs": [],
   "source": [
    "X = dataset[['Glucose', 'BMI', 'Pregnancies', 'DiabetesPedigreeFunction', 'Insulin', 'SkinThickness']]\n",
    "Y = dataset['Outcome']\n",
    "model = LogisticRegression(solver='liblinear')\n",
    "model.fit(X, Y)\n",
    "print('Accuracy is :', accuracy_score(Y, model.predict(X)))"
   ]
  },
  {
   "cell_type": "markdown",
   "id": "652cf131",
   "metadata": {},
   "source": [
    "Accuracy is increase slightly so continue considering Glucose"
   ]
  },
  {
   "cell_type": "markdown",
   "id": "3a00b2a9",
   "metadata": {},
   "source": [
    "## Glucose, BMI, Pregnancies, DiabetesPedigreeFunction, Insulin, SkinThickness & BloodPressure Vs Outcome"
   ]
  },
  {
   "cell_type": "code",
   "execution_count": null,
   "id": "5b62ae24",
   "metadata": {},
   "outputs": [],
   "source": [
    "X = dataset[['Glucose', 'BMI', 'Pregnancies', 'DiabetesPedigreeFunction', 'Insulin', 'SkinThickness', 'BloodPressure']]\n",
    "Y = dataset['Outcome']\n",
    "model = LogisticRegression(solver='liblinear')\n",
    "model.fit(X, Y)\n",
    "print('Accuracy is :', accuracy_score(Y, model.predict(X)))"
   ]
  },
  {
   "cell_type": "markdown",
   "id": "9ce47665",
   "metadata": {},
   "source": [
    "Accuracy is decreased when 'BloodPressure' is included so it should not be considered."
   ]
  },
  {
   "cell_type": "markdown",
   "id": "41c0b479",
   "metadata": {},
   "source": [
    "## Glucose, BMI, Pregnancies, DiabetesPedigreeFunction, Insulin, SkinThickness & Age Vs Outcome"
   ]
  },
  {
   "cell_type": "code",
   "execution_count": null,
   "id": "b04b9c36",
   "metadata": {},
   "outputs": [],
   "source": [
    "X = dataset[['Glucose', 'BMI', 'Pregnancies', 'DiabetesPedigreeFunction', 'Insulin', 'SkinThickness', 'Age']]\n",
    "Y = dataset['Outcome']\n",
    "model = LogisticRegression(solver='liblinear')\n",
    "model.fit(X, Y)\n",
    "print('Accuracy is :', accuracy_score(Y, model.predict(X)))"
   ]
  },
  {
   "cell_type": "markdown",
   "id": "164132b0",
   "metadata": {},
   "source": [
    "Accuracy of Glucose, BMI, Pregnancies, DiabetesPedigreeFunction, Insulin & SkinThickness Vs Outcome : 0.7760416666666666<br>\n",
    "Accuracy of Glucose, BMI, Pregnancies, DiabetesPedigreeFunction, Insulin, SkinThickness & Age Vs Outcome : 0.7760416666666666<br>\n",
    "Since both are same it means age doesn't contribute anything for prediction, so it can be neglected.<br>\n",
    "\n",
    "<b>Note :</b> <br>\n",
    "Accuracy of Glucose Vs Outcome - 0.7473958333333334<br>\n",
    "Accuracy of Glucose, BMI, Pregnancies, DiabetesPedigreeFunction, Insulin & SkinThickness Vs Outcome - 0.7760416666666666<br>\n",
    "\n",
    "Only 0.0286458333333332 rise in accuracy, which is not promising.So we can just use Glucose alone<br>\n",
    "***But*** still feature scaling isn't done, so we continue considering."
   ]
  },
  {
   "cell_type": "markdown",
   "id": "e76f96d2",
   "metadata": {},
   "source": [
    "# Train Test Split"
   ]
  },
  {
   "cell_type": "code",
   "execution_count": null,
   "id": "d0d15157",
   "metadata": {},
   "outputs": [],
   "source": [
    "train_df, test_df = train_test_split(dataset, random_state=42, test_size=0.2)"
   ]
  },
  {
   "cell_type": "markdown",
   "id": "a90c0c5f",
   "metadata": {},
   "source": [
    "# Identify Inputs & Targets\n",
    "Target Column(s) - Outcome<br>\n",
    "Numeric Columns - Pregnancies, Glucose, BloodPressure, SkinThickness, Insulin, BMI, DiabetesPedigreeFunction, Age<br>\n",
    "No categorical input columns<br>"
   ]
  },
  {
   "cell_type": "code",
   "execution_count": null,
   "id": "73b45ce6",
   "metadata": {},
   "outputs": [],
   "source": [
    "target_cols = ['Outcome']\n",
    "input_cols = ['Glucose', 'BMI', 'Pregnancies', 'DiabetesPedigreeFunction', 'Insulin', 'SkinThickness']"
   ]
  },
  {
   "cell_type": "code",
   "execution_count": null,
   "id": "c99f5c6e",
   "metadata": {},
   "outputs": [],
   "source": [
    "X_train = train_df[input_cols]\n",
    "X_test = test_df[input_cols]\n",
    "Y_train = train_df[target_cols]\n",
    "Y_test = test_df[target_cols]"
   ]
  },
  {
   "cell_type": "markdown",
   "id": "509f5b2c",
   "metadata": {},
   "source": [
    "# Impute Nan Values (if any)"
   ]
  },
  {
   "cell_type": "code",
   "execution_count": null,
   "id": "51edd489",
   "metadata": {},
   "outputs": [],
   "source": [
    "dataset.info()"
   ]
  },
  {
   "cell_type": "markdown",
   "id": "73671217",
   "metadata": {},
   "source": [
    "There are no Nan Values in the dataset"
   ]
  },
  {
   "cell_type": "markdown",
   "id": "554dfc8e",
   "metadata": {},
   "source": [
    "# Scaling Numeric Columns\n",
    "\n",
    "***Try minmax scaler also***"
   ]
  },
  {
   "cell_type": "code",
   "execution_count": null,
   "id": "9cdbac24",
   "metadata": {},
   "outputs": [],
   "source": [
    "scaler = StandardScaler()\n",
    "scaler.fit(dataset[input_cols])"
   ]
  },
  {
   "cell_type": "code",
   "execution_count": null,
   "id": "e677a675",
   "metadata": {},
   "outputs": [],
   "source": [
    "X_train = scaler.transform(X_train)\n",
    "X_test = scaler.transform(X_test)"
   ]
  },
  {
   "cell_type": "markdown",
   "id": "41e1eac3",
   "metadata": {},
   "source": [
    "# Encoding Categorical Columns\n",
    "Since there are no categorical columns other than target column, no encoding is needed."
   ]
  },
  {
   "cell_type": "markdown",
   "id": "8a0638c1",
   "metadata": {},
   "source": [
    "# Training"
   ]
  },
  {
   "cell_type": "code",
   "execution_count": null,
   "id": "fbc9d933",
   "metadata": {},
   "outputs": [],
   "source": [
    "model = LogisticRegression(solver='liblinear')\n",
    "Y_train = pd.Series.ravel(Y_train)\n",
    "model.fit(X_train, Y_train)\n",
    "Y_train_pred = model.predict(X_train)\n",
    "print('Accuracy in Training Data Set :',accuracy_score(Y_train, Y_train_pred)*100)"
   ]
  },
  {
   "cell_type": "markdown",
   "id": "8fe50148",
   "metadata": {},
   "source": [
    "# Testing"
   ]
  },
  {
   "cell_type": "code",
   "execution_count": null,
   "id": "375ede48",
   "metadata": {},
   "outputs": [],
   "source": [
    "model = LogisticRegression(solver='liblinear')\n",
    "Y_test = pd.Series.ravel(Y_test)\n",
    "model.fit(X_test, Y_test)\n",
    "Y_test_pred = model.predict(X_test)\n",
    "print('Accuracy in Testing Data Set :',accuracy_score(Y_test, Y_test_pred)*100)"
   ]
  },
  {
   "cell_type": "markdown",
   "id": "cd3bf864",
   "metadata": {},
   "source": [
    "Accuracy of Glucose Vs Outcome - 0.7473958333333334\n",
    "\n",
    "Before Feature Scaling,<br>\n",
    "Accuracy is 77.60416666666666<br>\n",
    "After Feature Scaling,<br>\n",
    "Accuracy is 77.68729641693811<br>\n",
    "\n",
    "Only very little improvement."
   ]
  }
 ],
 "metadata": {
  "kernelspec": {
   "display_name": "Python 3",
   "language": "python",
   "name": "python3"
  },
  "language_info": {
   "codemirror_mode": {
    "name": "ipython",
    "version": 3
   },
   "file_extension": ".py",
   "mimetype": "text/x-python",
   "name": "python",
   "nbconvert_exporter": "python",
   "pygments_lexer": "ipython3",
   "version": "3.8.8"
  }
 },
 "nbformat": 4,
 "nbformat_minor": 5
}
