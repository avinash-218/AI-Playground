{
 "cells": [
  {
   "cell_type": "markdown",
   "id": "10b3a483",
   "metadata": {
    "papermill": {
     "duration": 0.01105,
     "end_time": "2022-09-28T08:28:18.755036",
     "exception": false,
     "start_time": "2022-09-28T08:28:18.743986",
     "status": "completed"
    },
    "tags": []
   },
   "source": [
    "# Import Libraries"
   ]
  },
  {
   "cell_type": "code",
   "execution_count": 1,
   "id": "351fa174",
   "metadata": {
    "execution": {
     "iopub.execute_input": "2022-09-28T08:28:18.779388Z",
     "iopub.status.busy": "2022-09-28T08:28:18.778286Z",
     "iopub.status.idle": "2022-09-28T08:28:20.199474Z",
     "shell.execute_reply": "2022-09-28T08:28:20.197864Z"
    },
    "papermill": {
     "duration": 1.436416,
     "end_time": "2022-09-28T08:28:20.202789",
     "exception": false,
     "start_time": "2022-09-28T08:28:18.766373",
     "status": "completed"
    },
    "tags": []
   },
   "outputs": [],
   "source": [
    "import pandas as pd\n",
    "import numpy as np\n",
    "import matplotlib.pyplot as plt\n",
    "import pickle\n",
    "from sklearn.preprocessing import LabelEncoder\n",
    "from sklearn.model_selection import train_test_split, cross_val_score\n",
    "from sklearn.ensemble import RandomForestRegressor\n",
    "from sklearn.metrics import r2_score"
   ]
  },
  {
   "cell_type": "markdown",
   "id": "b2f376b4",
   "metadata": {
    "papermill": {
     "duration": 0.008946,
     "end_time": "2022-09-28T08:28:20.222078",
     "exception": false,
     "start_time": "2022-09-28T08:28:20.213132",
     "status": "completed"
    },
    "tags": []
   },
   "source": [
    "# Import Dataset"
   ]
  },
  {
   "cell_type": "code",
   "execution_count": 2,
   "id": "6aed90a6",
   "metadata": {
    "execution": {
     "iopub.execute_input": "2022-09-28T08:28:20.245239Z",
     "iopub.status.busy": "2022-09-28T08:28:20.244496Z",
     "iopub.status.idle": "2022-09-28T08:28:23.306965Z",
     "shell.execute_reply": "2022-09-28T08:28:23.305346Z"
    },
    "papermill": {
     "duration": 3.077403,
     "end_time": "2022-09-28T08:28:23.309981",
     "exception": false,
     "start_time": "2022-09-28T08:28:20.232578",
     "status": "completed"
    },
    "tags": []
   },
   "outputs": [],
   "source": [
    "data = pd.read_csv('../input/naalaiya-thiran/Data/autos.csv', header=0, sep=',', encoding='Latin1')"
   ]
  },
  {
   "cell_type": "markdown",
   "id": "5ebc8b59",
   "metadata": {
    "papermill": {
     "duration": 0.008896,
     "end_time": "2022-09-28T08:28:23.328334",
     "exception": false,
     "start_time": "2022-09-28T08:28:23.319438",
     "status": "completed"
    },
    "tags": []
   },
   "source": [
    "# Data Preprocessing - Data Cleaning"
   ]
  },
  {
   "cell_type": "code",
   "execution_count": 3,
   "id": "8316e633",
   "metadata": {
    "execution": {
     "iopub.execute_input": "2022-09-28T08:28:23.348908Z",
     "iopub.status.busy": "2022-09-28T08:28:23.348501Z",
     "iopub.status.idle": "2022-09-28T08:28:23.358445Z",
     "shell.execute_reply": "2022-09-28T08:28:23.357212Z"
    },
    "papermill": {
     "duration": 0.023884,
     "end_time": "2022-09-28T08:28:23.361712",
     "exception": false,
     "start_time": "2022-09-28T08:28:23.337828",
     "status": "completed"
    },
    "tags": []
   },
   "outputs": [
    {
     "data": {
      "text/plain": [
       "Index(['dateCrawled', 'name', 'seller', 'offerType', 'price', 'abtest',\n",
       "       'vehicleType', 'yearOfRegistration', 'gearbox', 'powerPS', 'model',\n",
       "       'kilometer', 'monthOfRegistration', 'fuelType', 'brand',\n",
       "       'notRepairedDamage', 'dateCreated', 'nrOfPictures', 'postalCode',\n",
       "       'lastSeen'],\n",
       "      dtype='object')"
      ]
     },
     "execution_count": 3,
     "metadata": {},
     "output_type": "execute_result"
    }
   ],
   "source": [
    "data.columns"
   ]
  },
  {
   "cell_type": "code",
   "execution_count": 4,
   "id": "3b488391",
   "metadata": {
    "execution": {
     "iopub.execute_input": "2022-09-28T08:28:23.385093Z",
     "iopub.status.busy": "2022-09-28T08:28:23.384652Z",
     "iopub.status.idle": "2022-09-28T08:28:23.392318Z",
     "shell.execute_reply": "2022-09-28T08:28:23.390987Z"
    },
    "papermill": {
     "duration": 0.0232,
     "end_time": "2022-09-28T08:28:23.394891",
     "exception": false,
     "start_time": "2022-09-28T08:28:23.371691",
     "status": "completed"
    },
    "tags": []
   },
   "outputs": [
    {
     "data": {
      "text/plain": [
       "(371528, 20)"
      ]
     },
     "execution_count": 4,
     "metadata": {},
     "output_type": "execute_result"
    }
   ],
   "source": [
    "data.shape"
   ]
  },
  {
   "cell_type": "code",
   "execution_count": 5,
   "id": "22900576",
   "metadata": {
    "execution": {
     "iopub.execute_input": "2022-09-28T08:28:23.417357Z",
     "iopub.status.busy": "2022-09-28T08:28:23.416892Z",
     "iopub.status.idle": "2022-09-28T08:28:23.644472Z",
     "shell.execute_reply": "2022-09-28T08:28:23.643048Z"
    },
    "papermill": {
     "duration": 0.242604,
     "end_time": "2022-09-28T08:28:23.648279",
     "exception": false,
     "start_time": "2022-09-28T08:28:23.405675",
     "status": "completed"
    },
    "tags": []
   },
   "outputs": [
    {
     "data": {
      "text/plain": [
       "dateCrawled                0\n",
       "name                       0\n",
       "seller                     0\n",
       "offerType                  0\n",
       "price                      0\n",
       "abtest                     0\n",
       "vehicleType            37869\n",
       "yearOfRegistration         0\n",
       "gearbox                20209\n",
       "powerPS                    0\n",
       "model                  20484\n",
       "kilometer                  0\n",
       "monthOfRegistration        0\n",
       "fuelType               33386\n",
       "brand                      0\n",
       "notRepairedDamage      72060\n",
       "dateCreated                0\n",
       "nrOfPictures               0\n",
       "postalCode                 0\n",
       "lastSeen                   0\n",
       "dtype: int64"
      ]
     },
     "execution_count": 5,
     "metadata": {},
     "output_type": "execute_result"
    }
   ],
   "source": [
    "data.isna().sum()"
   ]
  },
  {
   "cell_type": "code",
   "execution_count": 6,
   "id": "b2ec3335",
   "metadata": {
    "execution": {
     "iopub.execute_input": "2022-09-28T08:28:23.670151Z",
     "iopub.status.busy": "2022-09-28T08:28:23.669697Z",
     "iopub.status.idle": "2022-09-28T08:28:24.316882Z",
     "shell.execute_reply": "2022-09-28T08:28:24.315245Z"
    },
    "papermill": {
     "duration": 0.661328,
     "end_time": "2022-09-28T08:28:24.319681",
     "exception": false,
     "start_time": "2022-09-28T08:28:23.658353",
     "status": "completed"
    },
    "tags": []
   },
   "outputs": [
    {
     "data": {
      "text/plain": [
       "dateCrawled            280500\n",
       "name                   233531\n",
       "seller                      2\n",
       "offerType                   2\n",
       "price                    5597\n",
       "abtest                      2\n",
       "vehicleType                 8\n",
       "yearOfRegistration        155\n",
       "gearbox                     2\n",
       "powerPS                   794\n",
       "model                     251\n",
       "kilometer                  13\n",
       "monthOfRegistration        13\n",
       "fuelType                    7\n",
       "brand                      40\n",
       "notRepairedDamage           2\n",
       "dateCreated               114\n",
       "nrOfPictures                1\n",
       "postalCode               8150\n",
       "lastSeen               182806\n",
       "dtype: int64"
      ]
     },
     "execution_count": 6,
     "metadata": {},
     "output_type": "execute_result"
    }
   ],
   "source": [
    "data.nunique()"
   ]
  },
  {
   "cell_type": "code",
   "execution_count": 7,
   "id": "986c65a6",
   "metadata": {
    "execution": {
     "iopub.execute_input": "2022-09-28T08:28:24.343658Z",
     "iopub.status.busy": "2022-09-28T08:28:24.343236Z",
     "iopub.status.idle": "2022-09-28T08:28:24.380007Z",
     "shell.execute_reply": "2022-09-28T08:28:24.378086Z"
    },
    "papermill": {
     "duration": 0.05228,
     "end_time": "2022-09-28T08:28:24.382906",
     "exception": false,
     "start_time": "2022-09-28T08:28:24.330626",
     "status": "completed"
    },
    "tags": []
   },
   "outputs": [
    {
     "data": {
      "text/plain": [
       "privat        371525\n",
       "gewerblich         3\n",
       "Name: seller, dtype: int64"
      ]
     },
     "execution_count": 7,
     "metadata": {},
     "output_type": "execute_result"
    }
   ],
   "source": [
    "data.seller.value_counts()\n",
    "#seller has only two unique values and they are mostly imbalanced, hence remove the column"
   ]
  },
  {
   "cell_type": "code",
   "execution_count": 8,
   "id": "7dbc2f29",
   "metadata": {
    "execution": {
     "iopub.execute_input": "2022-09-28T08:28:24.404909Z",
     "iopub.status.busy": "2022-09-28T08:28:24.404418Z",
     "iopub.status.idle": "2022-09-28T08:28:24.502644Z",
     "shell.execute_reply": "2022-09-28T08:28:24.500853Z"
    },
    "papermill": {
     "duration": 0.112578,
     "end_time": "2022-09-28T08:28:24.505686",
     "exception": false,
     "start_time": "2022-09-28T08:28:24.393108",
     "status": "completed"
    },
    "tags": []
   },
   "outputs": [],
   "source": [
    "data.drop('seller', inplace=True,axis=1)"
   ]
  },
  {
   "cell_type": "code",
   "execution_count": 9,
   "id": "898ce74e",
   "metadata": {
    "execution": {
     "iopub.execute_input": "2022-09-28T08:28:24.528372Z",
     "iopub.status.busy": "2022-09-28T08:28:24.527929Z",
     "iopub.status.idle": "2022-09-28T08:28:24.560637Z",
     "shell.execute_reply": "2022-09-28T08:28:24.559239Z"
    },
    "papermill": {
     "duration": 0.046947,
     "end_time": "2022-09-28T08:28:24.563154",
     "exception": false,
     "start_time": "2022-09-28T08:28:24.516207",
     "status": "completed"
    },
    "tags": []
   },
   "outputs": [
    {
     "data": {
      "text/plain": [
       "Angebot    371516\n",
       "Gesuch         12\n",
       "Name: offerType, dtype: int64"
      ]
     },
     "execution_count": 9,
     "metadata": {},
     "output_type": "execute_result"
    }
   ],
   "source": [
    "data.offerType.value_counts()\n",
    "#offerType has only two unique values and they are mostly imbalanced, hence remove the column"
   ]
  },
  {
   "cell_type": "code",
   "execution_count": 10,
   "id": "31ccd4fc",
   "metadata": {
    "execution": {
     "iopub.execute_input": "2022-09-28T08:28:24.586685Z",
     "iopub.status.busy": "2022-09-28T08:28:24.586261Z",
     "iopub.status.idle": "2022-09-28T08:28:24.674251Z",
     "shell.execute_reply": "2022-09-28T08:28:24.673081Z"
    },
    "papermill": {
     "duration": 0.103766,
     "end_time": "2022-09-28T08:28:24.677274",
     "exception": false,
     "start_time": "2022-09-28T08:28:24.573508",
     "status": "completed"
    },
    "tags": []
   },
   "outputs": [],
   "source": [
    "data.drop('offerType', inplace=True,axis=1)"
   ]
  },
  {
   "cell_type": "markdown",
   "id": "f81d1f0a",
   "metadata": {
    "papermill": {
     "duration": 0.009688,
     "end_time": "2022-09-28T08:28:24.697220",
     "exception": false,
     "start_time": "2022-09-28T08:28:24.687532",
     "status": "completed"
    },
    "tags": []
   },
   "source": [
    "- Power should be in range 50ps to 900ps\n",
    "- Year of Registration should be between 1950 and 2017\n",
    "\n",
    "Remove rows that fails to satisfy these two constraints"
   ]
  },
  {
   "cell_type": "code",
   "execution_count": 11,
   "id": "982ed179",
   "metadata": {
    "execution": {
     "iopub.execute_input": "2022-09-28T08:28:24.719571Z",
     "iopub.status.busy": "2022-09-28T08:28:24.719141Z",
     "iopub.status.idle": "2022-09-28T08:28:24.830419Z",
     "shell.execute_reply": "2022-09-28T08:28:24.828426Z"
    },
    "papermill": {
     "duration": 0.126583,
     "end_time": "2022-09-28T08:28:24.833930",
     "exception": false,
     "start_time": "2022-09-28T08:28:24.707347",
     "status": "completed"
    },
    "tags": []
   },
   "outputs": [
    {
     "name": "stdout",
     "output_type": "stream",
     "text": [
      "(371528, 18)\n",
      "(319709, 18)\n"
     ]
    }
   ],
   "source": [
    "#powerPS column\n",
    "print(data.shape)\n",
    "data = data[(data.powerPS > 50) & (data.powerPS < 900)]\n",
    "print(data.shape)"
   ]
  },
  {
   "cell_type": "code",
   "execution_count": 12,
   "id": "050cac30",
   "metadata": {
    "execution": {
     "iopub.execute_input": "2022-09-28T08:28:24.857631Z",
     "iopub.status.busy": "2022-09-28T08:28:24.857076Z",
     "iopub.status.idle": "2022-09-28T08:28:24.955206Z",
     "shell.execute_reply": "2022-09-28T08:28:24.953337Z"
    },
    "papermill": {
     "duration": 0.11453,
     "end_time": "2022-09-28T08:28:24.958956",
     "exception": false,
     "start_time": "2022-09-28T08:28:24.844426",
     "status": "completed"
    },
    "tags": []
   },
   "outputs": [
    {
     "name": "stdout",
     "output_type": "stream",
     "text": [
      "(319709, 18)\n",
      "(309171, 18)\n"
     ]
    }
   ],
   "source": [
    "#year of registration column\n",
    "print(data.shape)\n",
    "data =  data[(data.yearOfRegistration >1949) & (data.yearOfRegistration<2017)]\n",
    "print(data.shape)"
   ]
  },
  {
   "cell_type": "code",
   "execution_count": 13,
   "id": "d736fcb1",
   "metadata": {
    "execution": {
     "iopub.execute_input": "2022-09-28T08:28:24.981742Z",
     "iopub.status.busy": "2022-09-28T08:28:24.981298Z",
     "iopub.status.idle": "2022-09-28T08:28:24.990308Z",
     "shell.execute_reply": "2022-09-28T08:28:24.988326Z"
    },
    "papermill": {
     "duration": 0.024109,
     "end_time": "2022-09-28T08:28:24.993594",
     "exception": false,
     "start_time": "2022-09-28T08:28:24.969485",
     "status": "completed"
    },
    "tags": []
   },
   "outputs": [
    {
     "data": {
      "text/plain": [
       "(309171, 18)"
      ]
     },
     "execution_count": 13,
     "metadata": {},
     "output_type": "execute_result"
    }
   ],
   "source": [
    "data.shape"
   ]
  },
  {
   "cell_type": "code",
   "execution_count": 14,
   "id": "ab8b32a7",
   "metadata": {
    "execution": {
     "iopub.execute_input": "2022-09-28T08:28:25.017373Z",
     "iopub.status.busy": "2022-09-28T08:28:25.016272Z",
     "iopub.status.idle": "2022-09-28T08:28:25.499277Z",
     "shell.execute_reply": "2022-09-28T08:28:25.498029Z"
    },
    "papermill": {
     "duration": 0.497953,
     "end_time": "2022-09-28T08:28:25.502327",
     "exception": false,
     "start_time": "2022-09-28T08:28:25.004374",
     "status": "completed"
    },
    "tags": []
   },
   "outputs": [
    {
     "data": {
      "text/plain": [
       "dateCrawled            244995\n",
       "name                   189262\n",
       "price                    5400\n",
       "abtest                      2\n",
       "vehicleType                 8\n",
       "yearOfRegistration         67\n",
       "gearbox                     2\n",
       "powerPS                   499\n",
       "model                     249\n",
       "kilometer                  13\n",
       "monthOfRegistration        13\n",
       "fuelType                    7\n",
       "brand                      40\n",
       "notRepairedDamage           2\n",
       "dateCreated               109\n",
       "nrOfPictures                1\n",
       "postalCode               8124\n",
       "lastSeen               156923\n",
       "dtype: int64"
      ]
     },
     "execution_count": 14,
     "metadata": {},
     "output_type": "execute_result"
    }
   ],
   "source": [
    "data.nunique()"
   ]
  },
  {
   "cell_type": "code",
   "execution_count": 15,
   "id": "235fea7a",
   "metadata": {
    "execution": {
     "iopub.execute_input": "2022-09-28T08:28:25.526450Z",
     "iopub.status.busy": "2022-09-28T08:28:25.526028Z",
     "iopub.status.idle": "2022-09-28T08:28:25.587960Z",
     "shell.execute_reply": "2022-09-28T08:28:25.586612Z"
    },
    "papermill": {
     "duration": 0.077044,
     "end_time": "2022-09-28T08:28:25.591108",
     "exception": false,
     "start_time": "2022-09-28T08:28:25.514064",
     "status": "completed"
    },
    "tags": []
   },
   "outputs": [],
   "source": [
    "#drop biased columns and columns with same values for all rows\n",
    "data.drop(['name', 'abtest', 'dateCrawled', 'nrOfPictures', 'lastSeen', 'postalCode', 'dateCreated'], axis=1, inplace=True)"
   ]
  },
  {
   "cell_type": "code",
   "execution_count": 16,
   "id": "14267ec1",
   "metadata": {
    "execution": {
     "iopub.execute_input": "2022-09-28T08:28:25.615590Z",
     "iopub.status.busy": "2022-09-28T08:28:25.614349Z",
     "iopub.status.idle": "2022-09-28T08:28:25.748946Z",
     "shell.execute_reply": "2022-09-28T08:28:25.747733Z"
    },
    "papermill": {
     "duration": 0.149071,
     "end_time": "2022-09-28T08:28:25.751631",
     "exception": false,
     "start_time": "2022-09-28T08:28:25.602560",
     "status": "completed"
    },
    "tags": []
   },
   "outputs": [
    {
     "data": {
      "text/plain": [
       "price                  5400\n",
       "vehicleType               8\n",
       "yearOfRegistration       67\n",
       "gearbox                   2\n",
       "powerPS                 499\n",
       "model                   249\n",
       "kilometer                13\n",
       "monthOfRegistration      13\n",
       "fuelType                  7\n",
       "brand                    40\n",
       "notRepairedDamage         2\n",
       "dtype: int64"
      ]
     },
     "execution_count": 16,
     "metadata": {},
     "output_type": "execute_result"
    }
   ],
   "source": [
    "data.nunique()"
   ]
  },
  {
   "cell_type": "code",
   "execution_count": 17,
   "id": "0ba32f54",
   "metadata": {
    "execution": {
     "iopub.execute_input": "2022-09-28T08:28:25.775383Z",
     "iopub.status.busy": "2022-09-28T08:28:25.774966Z",
     "iopub.status.idle": "2022-09-28T08:28:25.866062Z",
     "shell.execute_reply": "2022-09-28T08:28:25.865069Z"
    },
    "papermill": {
     "duration": 0.105635,
     "end_time": "2022-09-28T08:28:25.868517",
     "exception": false,
     "start_time": "2022-09-28T08:28:25.762882",
     "status": "completed"
    },
    "tags": []
   },
   "outputs": [
    {
     "data": {
      "text/plain": [
       "price                  309171\n",
       "vehicleType            297749\n",
       "yearOfRegistration     309171\n",
       "gearbox                303873\n",
       "powerPS                309171\n",
       "model                  297372\n",
       "kilometer              309171\n",
       "monthOfRegistration    309171\n",
       "fuelType               293284\n",
       "brand                  309171\n",
       "notRepairedDamage      265690\n",
       "dtype: int64"
      ]
     },
     "execution_count": 17,
     "metadata": {},
     "output_type": "execute_result"
    }
   ],
   "source": [
    "data.count()"
   ]
  },
  {
   "cell_type": "code",
   "execution_count": 18,
   "id": "25a8d1de",
   "metadata": {
    "execution": {
     "iopub.execute_input": "2022-09-28T08:28:25.892606Z",
     "iopub.status.busy": "2022-09-28T08:28:25.891949Z",
     "iopub.status.idle": "2022-09-28T08:28:26.108857Z",
     "shell.execute_reply": "2022-09-28T08:28:26.107825Z"
    },
    "papermill": {
     "duration": 0.23208,
     "end_time": "2022-09-28T08:28:26.111915",
     "exception": false,
     "start_time": "2022-09-28T08:28:25.879835",
     "status": "completed"
    },
    "tags": []
   },
   "outputs": [],
   "source": [
    "new_data = data.copy()\n",
    "cols = list(new_data.columns)\n",
    "cols.remove('brand')\n",
    "cols\n",
    "new_data = new_data.drop_duplicates(cols)"
   ]
  },
  {
   "cell_type": "code",
   "execution_count": 19,
   "id": "bcc44443",
   "metadata": {
    "execution": {
     "iopub.execute_input": "2022-09-28T08:28:26.136125Z",
     "iopub.status.busy": "2022-09-28T08:28:26.135669Z",
     "iopub.status.idle": "2022-09-28T08:28:26.143443Z",
     "shell.execute_reply": "2022-09-28T08:28:26.142253Z"
    },
    "papermill": {
     "duration": 0.022822,
     "end_time": "2022-09-28T08:28:26.145804",
     "exception": false,
     "start_time": "2022-09-28T08:28:26.122982",
     "status": "completed"
    },
    "tags": []
   },
   "outputs": [
    {
     "data": {
      "text/plain": [
       "['price',\n",
       " 'vehicleType',\n",
       " 'yearOfRegistration',\n",
       " 'gearbox',\n",
       " 'powerPS',\n",
       " 'model',\n",
       " 'kilometer',\n",
       " 'monthOfRegistration',\n",
       " 'fuelType',\n",
       " 'notRepairedDamage']"
      ]
     },
     "execution_count": 19,
     "metadata": {},
     "output_type": "execute_result"
    }
   ],
   "source": [
    "cols"
   ]
  },
  {
   "cell_type": "code",
   "execution_count": 20,
   "id": "a73652c0",
   "metadata": {
    "execution": {
     "iopub.execute_input": "2022-09-28T08:28:26.171215Z",
     "iopub.status.busy": "2022-09-28T08:28:26.170771Z",
     "iopub.status.idle": "2022-09-28T08:28:26.257112Z",
     "shell.execute_reply": "2022-09-28T08:28:26.255500Z"
    },
    "papermill": {
     "duration": 0.103045,
     "end_time": "2022-09-28T08:28:26.260314",
     "exception": false,
     "start_time": "2022-09-28T08:28:26.157269",
     "status": "completed"
    },
    "tags": []
   },
   "outputs": [
    {
     "data": {
      "text/plain": [
       "price                  285145\n",
       "vehicleType            274091\n",
       "yearOfRegistration     285145\n",
       "gearbox                280031\n",
       "powerPS                285145\n",
       "model                  273813\n",
       "kilometer              285145\n",
       "monthOfRegistration    285145\n",
       "fuelType               269665\n",
       "brand                  285145\n",
       "notRepairedDamage      243965\n",
       "dtype: int64"
      ]
     },
     "execution_count": 20,
     "metadata": {},
     "output_type": "execute_result"
    }
   ],
   "source": [
    "new_data.count()"
   ]
  },
  {
   "cell_type": "markdown",
   "id": "5375ae5c",
   "metadata": {
    "papermill": {
     "duration": 0.011719,
     "end_time": "2022-09-28T08:28:26.283590",
     "exception": false,
     "start_time": "2022-09-28T08:28:26.271871",
     "status": "completed"
    },
    "tags": []
   },
   "source": [
    "Replace german words with english words"
   ]
  },
  {
   "cell_type": "code",
   "execution_count": 21,
   "id": "0f86429c",
   "metadata": {
    "execution": {
     "iopub.execute_input": "2022-09-28T08:28:26.308580Z",
     "iopub.status.busy": "2022-09-28T08:28:26.308175Z",
     "iopub.status.idle": "2022-09-28T08:28:26.493046Z",
     "shell.execute_reply": "2022-09-28T08:28:26.491739Z"
    },
    "papermill": {
     "duration": 0.200957,
     "end_time": "2022-09-28T08:28:26.496415",
     "exception": false,
     "start_time": "2022-09-28T08:28:26.295458",
     "status": "completed"
    },
    "tags": []
   },
   "outputs": [],
   "source": [
    "new_data.gearbox.replace(('manuell','automatik'),('manual','automatic'), inplace=True)\n",
    "new_data.fuelType.replace(('benzin','andere','elektro'),('petrol','others','electric'), inplace=True)\n",
    "new_data.vehicleType.replace(('kleinwagen','cabrio','kombi','andere'),\n",
    "                            ('small car','convertible','combination','others'), inplace=True)\n",
    "new_data.notRepairedDamage.replace(('ja','nein'),('Yes','No'), inplace=True)"
   ]
  },
  {
   "cell_type": "code",
   "execution_count": 22,
   "id": "f3cd3004",
   "metadata": {
    "execution": {
     "iopub.execute_input": "2022-09-28T08:28:26.522626Z",
     "iopub.status.busy": "2022-09-28T08:28:26.522218Z",
     "iopub.status.idle": "2022-09-28T08:28:26.638858Z",
     "shell.execute_reply": "2022-09-28T08:28:26.637215Z"
    },
    "papermill": {
     "duration": 0.133803,
     "end_time": "2022-09-28T08:28:26.642093",
     "exception": false,
     "start_time": "2022-09-28T08:28:26.508290",
     "status": "completed"
    },
    "tags": []
   },
   "outputs": [],
   "source": [
    "new_data = new_data[(new_data.price>=100) & (new_data.price<=150000)]\n",
    "new_data['notRepairedDamage'].fillna(value='not-declared',inplace=True)\n",
    "new_data['fuelType'].fillna(value='not-declared',inplace=True)\n",
    "new_data['gearbox'].fillna(value='not-declared',inplace=True)\n",
    "new_data['vehicleType'].fillna(value='not-declared',inplace=True)\n",
    "new_data['model'].fillna(value='not-declared',inplace=True)"
   ]
  },
  {
   "cell_type": "markdown",
   "id": "60a15d32",
   "metadata": {
    "papermill": {
     "duration": 0.011075,
     "end_time": "2022-09-28T08:28:26.664409",
     "exception": false,
     "start_time": "2022-09-28T08:28:26.653334",
     "status": "completed"
    },
    "tags": []
   },
   "source": [
    "# Export Preprocessed Data"
   ]
  },
  {
   "cell_type": "code",
   "execution_count": 23,
   "id": "dfc44502",
   "metadata": {
    "execution": {
     "iopub.execute_input": "2022-09-28T08:28:26.689066Z",
     "iopub.status.busy": "2022-09-28T08:28:26.688633Z",
     "iopub.status.idle": "2022-09-28T08:28:27.715336Z",
     "shell.execute_reply": "2022-09-28T08:28:27.714162Z"
    },
    "papermill": {
     "duration": 1.04294,
     "end_time": "2022-09-28T08:28:27.718329",
     "exception": false,
     "start_time": "2022-09-28T08:28:26.675389",
     "status": "completed"
    },
    "tags": []
   },
   "outputs": [],
   "source": [
    "new_data.to_csv(\"autos_preprocessed.csv\")"
   ]
  },
  {
   "cell_type": "markdown",
   "id": "b02e20c3",
   "metadata": {
    "papermill": {
     "duration": 0.011431,
     "end_time": "2022-09-28T08:28:27.740905",
     "exception": false,
     "start_time": "2022-09-28T08:28:27.729474",
     "status": "completed"
    },
    "tags": []
   },
   "source": [
    "# Label Encoding"
   ]
  },
  {
   "cell_type": "code",
   "execution_count": 24,
   "id": "9fb10d72",
   "metadata": {
    "execution": {
     "iopub.execute_input": "2022-09-28T08:28:27.765826Z",
     "iopub.status.busy": "2022-09-28T08:28:27.764531Z",
     "iopub.status.idle": "2022-09-28T08:28:28.226389Z",
     "shell.execute_reply": "2022-09-28T08:28:28.225170Z"
    },
    "papermill": {
     "duration": 0.477238,
     "end_time": "2022-09-28T08:28:28.229167",
     "exception": false,
     "start_time": "2022-09-28T08:28:27.751929",
     "status": "completed"
    },
    "tags": []
   },
   "outputs": [
    {
     "name": "stdout",
     "output_type": "stream",
     "text": [
      "Index(['price', 'yearOfRegistration', 'powerPS', 'kilometer',\n",
      "       'monthOfRegistration', 'gearbox_labels', 'notRepairedDamage_labels',\n",
      "       'model_labels', 'brand_labels', 'fuelType_labels',\n",
      "       'vehicleType_labels'],\n",
      "      dtype='object')\n"
     ]
    }
   ],
   "source": [
    "labels = ['gearbox', 'notRepairedDamage', 'model', 'brand', 'fuelType', 'vehicleType']\n",
    "\n",
    "mapper = {}\n",
    "for i in labels:\n",
    "    mapper[i] = LabelEncoder()\n",
    "    mapper[i].fit(new_data[i])\n",
    "    tr = mapper[i].transform(new_data[i])\n",
    "    np.save(str('classes'+i+'.npy'), mapper[i].classes_)\n",
    "    new_data.loc[:, i+'_labels'] = pd.Series(tr, index=new_data.index)\n",
    "    \n",
    "labeled = new_data[['price', 'yearOfRegistration','powerPS','kilometer','monthOfRegistration']\n",
    "                  +[x+\"_labels\" for x in labels]]\n",
    "\n",
    "print(labeled.columns)"
   ]
  },
  {
   "cell_type": "markdown",
   "id": "15bad20d",
   "metadata": {
    "papermill": {
     "duration": 0.010701,
     "end_time": "2022-09-28T08:28:28.251790",
     "exception": false,
     "start_time": "2022-09-28T08:28:28.241089",
     "status": "completed"
    },
    "tags": []
   },
   "source": [
    "# Split Data into X & Y"
   ]
  },
  {
   "cell_type": "code",
   "execution_count": 25,
   "id": "36de3746",
   "metadata": {
    "execution": {
     "iopub.execute_input": "2022-09-28T08:28:28.276667Z",
     "iopub.status.busy": "2022-09-28T08:28:28.275602Z",
     "iopub.status.idle": "2022-09-28T08:28:28.282586Z",
     "shell.execute_reply": "2022-09-28T08:28:28.281296Z"
    },
    "papermill": {
     "duration": 0.022347,
     "end_time": "2022-09-28T08:28:28.285626",
     "exception": false,
     "start_time": "2022-09-28T08:28:28.263279",
     "status": "completed"
    },
    "tags": []
   },
   "outputs": [],
   "source": [
    "X = labeled.iloc[:,1:].values\n",
    "Y = labeled.iloc[:,0].values.reshape(-1,1)"
   ]
  },
  {
   "cell_type": "markdown",
   "id": "aab7a0e8",
   "metadata": {
    "papermill": {
     "duration": 0.011254,
     "end_time": "2022-09-28T08:28:28.308377",
     "exception": false,
     "start_time": "2022-09-28T08:28:28.297123",
     "status": "completed"
    },
    "tags": []
   },
   "source": [
    "# Split X & Y into X_train, X_test, Y_train, Y_test"
   ]
  },
  {
   "cell_type": "code",
   "execution_count": 26,
   "id": "b15fa656",
   "metadata": {
    "execution": {
     "iopub.execute_input": "2022-09-28T08:28:28.335876Z",
     "iopub.status.busy": "2022-09-28T08:28:28.335046Z",
     "iopub.status.idle": "2022-09-28T08:28:28.392058Z",
     "shell.execute_reply": "2022-09-28T08:28:28.390814Z"
    },
    "papermill": {
     "duration": 0.075165,
     "end_time": "2022-09-28T08:28:28.395133",
     "exception": false,
     "start_time": "2022-09-28T08:28:28.319968",
     "status": "completed"
    },
    "tags": []
   },
   "outputs": [],
   "source": [
    "X_train, X_test, Y_train, Y_test = train_test_split(X, Y, test_size=0.3, random_state=3)"
   ]
  },
  {
   "cell_type": "markdown",
   "id": "87f8aa20",
   "metadata": {
    "papermill": {
     "duration": 0.010413,
     "end_time": "2022-09-28T08:28:28.416537",
     "exception": false,
     "start_time": "2022-09-28T08:28:28.406124",
     "status": "completed"
    },
    "tags": []
   },
   "source": [
    "# Predictive Modeling"
   ]
  },
  {
   "cell_type": "code",
   "execution_count": 27,
   "id": "4166242e",
   "metadata": {
    "execution": {
     "iopub.execute_input": "2022-09-28T08:28:28.442113Z",
     "iopub.status.busy": "2022-09-28T08:28:28.441651Z",
     "iopub.status.idle": "2022-09-28T08:28:28.449326Z",
     "shell.execute_reply": "2022-09-28T08:28:28.446138Z"
    },
    "papermill": {
     "duration": 0.024675,
     "end_time": "2022-09-28T08:28:28.453096",
     "exception": false,
     "start_time": "2022-09-28T08:28:28.428421",
     "status": "completed"
    },
    "tags": []
   },
   "outputs": [],
   "source": [
    "regressor = RandomForestRegressor(n_estimators=1000, max_depth=10, random_state=34)"
   ]
  },
  {
   "cell_type": "code",
   "execution_count": 28,
   "id": "e44e140d",
   "metadata": {
    "execution": {
     "iopub.execute_input": "2022-09-28T08:28:28.477892Z",
     "iopub.status.busy": "2022-09-28T08:28:28.476814Z",
     "iopub.status.idle": "2022-09-28T08:34:42.625836Z",
     "shell.execute_reply": "2022-09-28T08:34:42.624529Z"
    },
    "papermill": {
     "duration": 374.175211,
     "end_time": "2022-09-28T08:34:42.639573",
     "exception": false,
     "start_time": "2022-09-28T08:28:28.464362",
     "status": "completed"
    },
    "tags": []
   },
   "outputs": [
    {
     "data": {
      "text/plain": [
       "RandomForestRegressor(max_depth=10, n_estimators=1000, random_state=34)"
      ]
     },
     "execution_count": 28,
     "metadata": {},
     "output_type": "execute_result"
    }
   ],
   "source": [
    "regressor.fit(X_train, np.ravel(Y_train, order='C'))"
   ]
  },
  {
   "cell_type": "markdown",
   "id": "5d79ddc9",
   "metadata": {
    "papermill": {
     "duration": 0.011381,
     "end_time": "2022-09-28T08:34:42.662228",
     "exception": false,
     "start_time": "2022-09-28T08:34:42.650847",
     "status": "completed"
    },
    "tags": []
   },
   "source": [
    "# Score Evaluate"
   ]
  },
  {
   "cell_type": "code",
   "execution_count": 29,
   "id": "85363bed",
   "metadata": {
    "execution": {
     "iopub.execute_input": "2022-09-28T08:34:42.688061Z",
     "iopub.status.busy": "2022-09-28T08:34:42.687349Z",
     "iopub.status.idle": "2022-09-28T08:34:51.195652Z",
     "shell.execute_reply": "2022-09-28T08:34:51.194735Z"
    },
    "papermill": {
     "duration": 8.524272,
     "end_time": "2022-09-28T08:34:51.198796",
     "exception": false,
     "start_time": "2022-09-28T08:34:42.674524",
     "status": "completed"
    },
    "tags": []
   },
   "outputs": [
    {
     "name": "stdout",
     "output_type": "stream",
     "text": [
      "0.790872389259348\n"
     ]
    }
   ],
   "source": [
    "Y_pred = regressor.predict(X_test)\n",
    "\n",
    "print(r2_score(Y_pred, Y_test))"
   ]
  },
  {
   "cell_type": "markdown",
   "id": "3c57fa3c",
   "metadata": {
    "papermill": {
     "duration": 0.012451,
     "end_time": "2022-09-28T08:34:51.223463",
     "exception": false,
     "start_time": "2022-09-28T08:34:51.211012",
     "status": "completed"
    },
    "tags": []
   },
   "source": [
    "# Save Model"
   ]
  },
  {
   "cell_type": "code",
   "execution_count": 30,
   "id": "afa2f3ad",
   "metadata": {
    "execution": {
     "iopub.execute_input": "2022-09-28T08:34:51.247975Z",
     "iopub.status.busy": "2022-09-28T08:34:51.247446Z",
     "iopub.status.idle": "2022-09-28T08:34:51.538447Z",
     "shell.execute_reply": "2022-09-28T08:34:51.537421Z"
    },
    "papermill": {
     "duration": 0.306383,
     "end_time": "2022-09-28T08:34:51.541293",
     "exception": false,
     "start_time": "2022-09-28T08:34:51.234910",
     "status": "completed"
    },
    "tags": []
   },
   "outputs": [],
   "source": [
    "pickle.dump(regressor, open('resale_model.sav', 'wb'))"
   ]
  }
 ],
 "metadata": {
  "kernelspec": {
   "display_name": "Python 3",
   "language": "python",
   "name": "python3"
  },
  "language_info": {
   "codemirror_mode": {
    "name": "ipython",
    "version": 3
   },
   "file_extension": ".py",
   "mimetype": "text/x-python",
   "name": "python",
   "nbconvert_exporter": "python",
   "pygments_lexer": "ipython3",
   "version": "3.7.12"
  },
  "papermill": {
   "default_parameters": {},
   "duration": 404.250978,
   "end_time": "2022-09-28T08:34:52.377638",
   "environment_variables": {},
   "exception": null,
   "input_path": "__notebook__.ipynb",
   "output_path": "__notebook__.ipynb",
   "parameters": {},
   "start_time": "2022-09-28T08:28:08.126660",
   "version": "2.3.4"
  }
 },
 "nbformat": 4,
 "nbformat_minor": 5
}
