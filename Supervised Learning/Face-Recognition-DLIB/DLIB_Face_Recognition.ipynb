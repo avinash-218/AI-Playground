{
  "nbformat": 4,
  "nbformat_minor": 0,
  "metadata": {
    "colab": {
      "name": "DLIB-Face Recognition.ipynb",
      "provenance": [],
      "collapsed_sections": []
    },
    "kernelspec": {
      "name": "python3",
      "display_name": "Python 3"
    },
    "language_info": {
      "name": "python"
    },
    "accelerator": "GPU"
  },
  "cells": [
    {
      "cell_type": "code",
      "metadata": {
        "id": "BFhiNVEuRFXw"
      },
      "source": [
        "#import libraries\n",
        "import dlib\n",
        "import cv2\n",
        "import numpy as np\n",
        "from PIL import Image #work with images\n",
        "import os\n",
        "import zipfile\n",
        "from sklearn.metrics import accuracy_score, confusion_matrix\n",
        "import seaborn\n",
        "from google.colab.patches import cv2_imshow"
      ],
      "execution_count": null,
      "outputs": []
    },
    {
      "cell_type": "code",
      "metadata": {
        "id": "77155ylKaKNa"
      },
      "source": [
        "#path of dataset\n",
        "path=\"/content/drive/MyDrive/Computer Vision Masterclass/Datasets/yalefaces.zip\"\n",
        "\n",
        "#uncompress the file\n",
        "zip_obj = zipfile.ZipFile(file=path, mode='r')  #read mode\n",
        "zip_obj.extractall('./')  #extract in current folder\n",
        "zip_obj.close() #release memory"
      ],
      "execution_count": null,
      "outputs": []
    },
    {
      "cell_type": "code",
      "metadata": {
        "id": "Qd_bWyMCYLwW"
      },
      "source": [
        "#detection of 68 facial points\n",
        "face_detector = dlib.get_frontal_face_detector()\n",
        "points_detector = dlib.shape_predictor('/content/drive/MyDrive/Computer Vision Masterclass/Weights/shape_predictor_68_face_landmarks.dat')\n",
        "face_descriptor_extractor = dlib.face_recognition_model_v1('/content/drive/MyDrive/Computer Vision Masterclass/Weights/dlib_face_recognition_resnet_model_v1.dat')"
      ],
      "execution_count": null,
      "outputs": []
    },
    {
      "cell_type": "code",
      "metadata": {
        "id": "Gb-1ZhPxYrfh"
      },
      "source": [
        "index = {}  #contains path of each train image\n",
        "idx = 0 #counter\n",
        "face_descriptors= None  #face descriptors of all images\n",
        "\n",
        "#path of train data\n",
        "paths = [os.path.join('/content/yalefaces/train', f) for f in os.listdir('/content/yalefaces/train')]\n",
        "\n",
        "for path in paths:\n",
        "  #print(path)\n",
        "  image = Image.open(path).convert('RGB') #read image\n",
        "  image_np = np.array(image, 'uint8') #numpy representation of image\n",
        "  face_detection = face_detector(image_np, 1) #face detector\n",
        "\n",
        "  for face in face_detection:\n",
        "    l, t, r, b = face.left(), face.top(), face.right(), face.bottom()\n",
        "    cv2.rectangle(image_np, (l,t), (r,b), (0,0,255), 2) #draw rectangle\n",
        "    points = points_detector(image_np, face)  #points detector\n",
        "    for point in points.parts():\n",
        "      cv2.circle(image_np, (point.x, point.y), 2, (0,255,0), 1) #draw circle\n",
        "\n",
        "    face_descriptor = face_descriptor_extractor.compute_face_descriptor(image_np, points) #face descriptor\n",
        "    face_descriptor = np.array([f for f in face_descriptor], dtype=np.float64)\n",
        "    face_descriptor = face_descriptor.reshape((1,-1)) #reshaping for compatibility\n",
        "\n",
        "    if(face_descriptors is None):\n",
        "      face_descriptors = face_descriptor\n",
        "    else:\n",
        "      face_descriptors = np.concatenate((face_descriptors, face_descriptor), axis = 0)\n",
        "    index[idx] = path\n",
        "    idx += 1\n",
        "\n",
        "  cv2_imshow(image_np)"
      ],
      "execution_count": null,
      "outputs": []
    },
    {
      "cell_type": "code",
      "metadata": {
        "id": "ULbk04TboNAn"
      },
      "source": [
        "#detecting faces\n",
        "threshold = 0.5 #threshold for recognising classes\n",
        "predictions = []\n",
        "expected_outs = []\n",
        "\n",
        "paths = [os.path.join('/content/yalefaces/test', f) for f in os.listdir('/content/yalefaces/test')] #path of test data\n",
        "\n",
        "for path in paths:\n",
        "  image = Image.open(path).convert('RGB') #read image\n",
        "  image_np = np.array(image, 'uint8')   #numpy representation of image\n",
        "  face_detection = face_detector(image_np, 1) #face detector\n",
        "\n",
        "  for face in face_detection:\n",
        "    l, t, r, b = face.left(), face.top(), face.right(), face.bottom()\n",
        "    cv2.rectangle(image_np, (l,t), (r,b), (0,0,255), 2) #draw rectangle\n",
        "\n",
        "    points = points_detector(image_np, face)  #points detector\n",
        "\n",
        "    for point in points.parts():\n",
        "      cv2.circle(image_np, (point.x, point.y), 2, (0,255,0), 1) #draw circle\n",
        "\n",
        "    face_descriptor = face_descriptor_extractor.compute_face_descriptor(image_np, points) #face descriptor\n",
        "    face_descriptor = np.array([f for f in face_descriptor], dtype=np.float64)\n",
        "    face_descriptor = face_descriptor.reshape((1,-1))     #reshaping for compatibility\n",
        "\n",
        "    #calculating distance between faces\n",
        "    #distance here means how different an image is different/similar to another image\n",
        "    distances = np.linalg.norm(face_descriptor - face_descriptors, axis=1)  #distance between this test image with all train images (face_descriptors)\n",
        "    min_index = np.argmin(distances)  #find index of minimum distant train image\n",
        "    min_distance = distances[min_index] #min distance value\n",
        "\n",
        "    if(min_distance <=threshold): #if calculated distance is lessthan or equal to threshold it is considered as the clas\n",
        "      name_pred = int(os.path.split(index[min_index])[1].split('.')[0].replace('subject','')) #extracting class name from image name\n",
        "    else:\n",
        "      name_pred = 'Not Identified'  #for images which can't be identified\n",
        "\n",
        "    name_real = int(os.path.split(path)[1].split('.')[0].replace('subject','')) #extract real name from file name\n",
        "\n",
        "    predictions.append(name_pred)\n",
        "    expected_outs.append(name_real)\n",
        "\n",
        "    cv2.putText(image_np, 'Pred: '+str(name_pred), (10,30), cv2.FONT_HERSHEY_COMPLEX_SMALL, 1, (0,0,255))\n",
        "    cv2.putText(image_np, 'Exp: ' +str(name_real),  (10,50), cv2.FONT_HERSHEY_COMPLEX_SMALL, 1, (0,0,255))\n",
        "\n",
        "  cv2_imshow(image_np)\n",
        "\n",
        "predictions = np.array(predictions)\n",
        "expected_outs = np.array(expected_outs)"
      ],
      "execution_count": null,
      "outputs": []
    },
    {
      "cell_type": "code",
      "metadata": {
        "id": "54SQfov8uV_N",
        "colab": {
          "base_uri": "https://localhost:8080/",
          "height": 302
        },
        "outputId": "1203df77-6c12-4214-8342-47abdb8eb544"
      },
      "source": [
        "print(\"Accuracy :\",accuracy_score(predictions, expected_outs)*100,\"%\",end='\\n\\n')\n",
        "\n",
        "#confusion matrix\n",
        "cm = confusion_matrix(predictions, expected_outs)\n",
        "\n",
        "#heatmap visualisation\n",
        "seaborn.heatmap(cm, annot=True);  #semicolon to hide message from matplotlib; annot - to see values"
      ],
      "execution_count": 10,
      "outputs": [
        {
          "output_type": "stream",
          "text": [
            "Accuracy : 100.0 %\n",
            "\n"
          ],
          "name": "stdout"
        },
        {
          "output_type": "display_data",
          "data": {
            "image/png": "[encoded data removed]",
            "text/plain": [
              "<Figure size 432x288 with 2 Axes>"
            ]
          },
          "metadata": {
            "tags": [],
            "needs_background": "light"
          }
        }
      ]
    }
  ]
}